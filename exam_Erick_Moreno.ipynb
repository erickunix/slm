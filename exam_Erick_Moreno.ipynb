{
  "nbformat": 4,
  "nbformat_minor": 0,
  "metadata": {
    "colab": {
      "name": "exam_Erick_Moreno",
      "provenance": [],
      "collapsed_sections": [],
      "authorship_tag": "ABX9TyOpxVqrNYwMJjQfnaV2a9La",
      "include_colab_link": true
    },
    "kernelspec": {
      "name": "ir",
      "display_name": "R"
    },
    "language_info": {
      "name": "R"
    }
  },
  "cells": [
    {
      "cell_type": "markdown",
      "metadata": {
        "id": "view-in-github",
        "colab_type": "text"
      },
      "source": [
        "<a href=\"https://colab.research.google.com/github/erickunix/slm/blob/main/exam_Erick_Moreno.ipynb\" target=\"_parent\"><img src=\"https://colab.research.google.com/assets/colab-badge.svg\" alt=\"Open In Colab\"/></a>"
      ]
    },
    {
      "cell_type": "markdown",
      "metadata": {
        "id": "xAtz5YVDhp29"
      },
      "source": [
        "Colab Enrvirment was set for R manually by selecting \"Change Runtime type\""
      ]
    },
    {
      "cell_type": "code",
      "metadata": {
        "id": "a2cTdK8QhXAS",
        "colab": {
          "base_uri": "https://localhost:8080/"
        },
        "outputId": "4787190b-f468-4c32-e853-6bb73728fd7c"
      },
      "source": [
        "\n",
        "if(!require(caret)) install.packages(\"caret\", repos = \"http://cran.us.r-project.org\")\n",
        "if(!require(olsrr)) install.packages(\"olsrr\", repos = \"http://cran.us.r-project.org\")\n",
        "if(!require(mgcv)) install.packages(\"mgcv\", repos = \"http://cran.us.r-project.org\")\n",
        "if(!require(nnet)) install.packages(\"nnet\", repos = \"http://cran.us.r-project.org\")\n",
        "if(!require(rpart)) install.packages(\"rpart\", repos = \"http://cran.us.r-project.org\")\n",
        "if(!require(tidyverse)) install.packages(\"tidyverse\", repos = \"http://cran.us.r-project.org\")\n",
        "if(!require(rpart.plot)) install.packages(\"rpart.plot\", repos = \"http://cran.us.r-project.org\")\n",
        "if(!require(mltools)) install.packages(\"mltools\", repos = \"http://cran.us.r-project.org\")\n",
        "if(!require(PRROC)) install.packages(\"PRROC\", repos = \"http://cran.us.r-project.org\")\n",
        "if(!require(randomForest)) install.packages(\"randomForest\", repos = \"http://cran.us.r-project.org\")\n"
      ],
      "execution_count": null,
      "outputs": [
        {
          "output_type": "stream",
          "text": [
            "Loading required package: caret\n",
            "\n",
            "Loading required package: lattice\n",
            "\n",
            "Loading required package: ggplot2\n",
            "\n",
            "Warning message in system(\"timedatectl\", intern = TRUE):\n",
            "“running command 'timedatectl' had status 1”\n",
            "Loading required package: olsrr\n",
            "\n",
            "\n",
            "Attaching package: ‘olsrr’\n",
            "\n",
            "\n",
            "The following object is masked from ‘package:datasets’:\n",
            "\n",
            "    rivers\n",
            "\n",
            "\n",
            "Loading required package: mgcv\n",
            "\n",
            "Loading required package: nlme\n",
            "\n",
            "This is mgcv 1.8-35. For overview type 'help(\"mgcv-package\")'.\n",
            "\n",
            "Loading required package: nnet\n",
            "\n",
            "\n",
            "Attaching package: ‘nnet’\n",
            "\n",
            "\n",
            "The following object is masked from ‘package:mgcv’:\n",
            "\n",
            "    multinom\n",
            "\n",
            "\n",
            "Loading required package: rpart\n",
            "\n",
            "Loading required package: tidyverse\n",
            "\n",
            "── \u001b[1mAttaching packages\u001b[22m ─────────────────────────────────────── tidyverse 1.3.1 ──\n",
            "\n",
            "\u001b[32m✔\u001b[39m \u001b[34mtibble \u001b[39m 3.1.2     \u001b[32m✔\u001b[39m \u001b[34mdplyr  \u001b[39m 1.0.6\n",
            "\u001b[32m✔\u001b[39m \u001b[34mtidyr  \u001b[39m 1.1.3     \u001b[32m✔\u001b[39m \u001b[34mstringr\u001b[39m 1.4.0\n",
            "\u001b[32m✔\u001b[39m \u001b[34mreadr  \u001b[39m 1.4.0     \u001b[32m✔\u001b[39m \u001b[34mforcats\u001b[39m 0.5.1\n",
            "\u001b[32m✔\u001b[39m \u001b[34mpurrr  \u001b[39m 0.3.4     \n",
            "\n",
            "── \u001b[1mConflicts\u001b[22m ────────────────────────────────────────── tidyverse_conflicts() ──\n",
            "\u001b[31m✖\u001b[39m \u001b[34mdplyr\u001b[39m::\u001b[32mcollapse()\u001b[39m masks \u001b[34mnlme\u001b[39m::collapse()\n",
            "\u001b[31m✖\u001b[39m \u001b[34mdplyr\u001b[39m::\u001b[32mfilter()\u001b[39m   masks \u001b[34mstats\u001b[39m::filter()\n",
            "\u001b[31m✖\u001b[39m \u001b[34mdplyr\u001b[39m::\u001b[32mlag()\u001b[39m      masks \u001b[34mstats\u001b[39m::lag()\n",
            "\u001b[31m✖\u001b[39m \u001b[34mpurrr\u001b[39m::\u001b[32mlift()\u001b[39m     masks \u001b[34mcaret\u001b[39m::lift()\n",
            "\n",
            "Loading required package: rpart.plot\n",
            "\n",
            "Loading required package: mltools\n",
            "\n",
            "\n",
            "Attaching package: ‘mltools’\n",
            "\n",
            "\n",
            "The following object is masked from ‘package:tidyr’:\n",
            "\n",
            "    replace_na\n",
            "\n",
            "\n",
            "Loading required package: PRROC\n",
            "\n",
            "Loading required package: randomForest\n",
            "\n",
            "randomForest 4.6-14\n",
            "\n",
            "Type rfNews() to see new features/changes/bug fixes.\n",
            "\n",
            "\n",
            "Attaching package: ‘randomForest’\n",
            "\n",
            "\n",
            "The following object is masked from ‘package:dplyr’:\n",
            "\n",
            "    combine\n",
            "\n",
            "\n",
            "The following object is masked from ‘package:ggplot2’:\n",
            "\n",
            "    margin\n",
            "\n",
            "\n"
          ],
          "name": "stderr"
        }
      ]
    },
    {
      "cell_type": "code",
      "metadata": {
        "id": "ypqt9Zzbh-tE",
        "colab": {
          "base_uri": "https://localhost:8080/",
          "height": 1000
        },
        "outputId": "d2bc5693-8463-4223-b6ac-1a2e0b2c7911"
      },
      "source": [
        "# Laboratory exam SLM 08.06.2021\n",
        "# Duration: 2.5h\n",
        "# Index number: 110084\n",
        "\n",
        "# Task1(12p)\n",
        "# In the task, use the data from 'http://archive.ics.uci.edu/ml/machine-learning-databases/statlog/german/german.data-numeric'\n",
        "# You can load the data using:\n",
        "read.fwf('http://archive.ics.uci.edu/ml/machine-learning-databases/statlog/german/german.data-numeric', widths = rep(4, 25), header = FALSE)\n",
        "\n",
        "# (1p) Rename 25th column to 'target'.It contains information about bank's clients default - 2 => client with a default, 1=> client with no default. Recode 'target' to mark client with default as 1 and 0 otherwise.\n",
        "# (3p) Check frequencies of 'target' values. How can we cope with unbalanced data? Name at least 3 solutions. Randomly undersample the data to have 50/50 proportions of 'target' values.\n",
        "# (1p) Divide balanced data into training (85%) and validation (15%) with seed equal to 32\n",
        "# (1p) Build logistic regression model with 'glm' function. We want to classify 'target' using all other features in a dataset.\n",
        "# (2p) Conduct feature selection using 'step' function. Use BIC (Bayesian Information Criterion) as model selection criterion. How many variables were removed from model compared to initial logistic regression?\n",
        "# (4p) Using model after feature selection, conduct cost-based threshold optimization on test data with False Positive cost equal to 2 and False Negative Equal to 5. What is the optimal cutoff threshold?\n",
        "\n",
        "# Task2(24p)\n",
        "# Use the data under 'https://archive.ics.uci.edu/ml/machine-learning-databases/00451/dataR2.csv', consisting data of people with breast cancer. If the patient has breast cancer variable Classification is 2, otherwise value 1 is used.\n",
        "# The values in the data set are separated by a comma, they have headers (read it using function 'read.csv', with the stringsAsFactors parameter equal to FALSE).\n",
        "# (1p) Check if any data is missing. If so, remove data from the dataset.\n",
        "# (1p) Recode the variable Classification - ill patients should be denoted as 1 and healthy as 0 - do not create a new variable, but overwrite it\n",
        "# (2p) By how many years on average (variable Age) people with breast cancer are older/younger than the others?\n",
        "# (1p) What is the average Insulin level (Insulin variable) for users with a BMI over 21?\n",
        "# (1p) Randomly divide observations into a training (90% share) and test (10%) set with a seed of 32.\n",
        "# (2p) Prepare the decision tree from the 'rpart' package based on the data from the training set. The target variable is Classification, use all others to explain it. Set the parameter CP to 0. Remember that rpart infers a task by the type of target variable and we are interested in classification\n",
        "# (3p) Choose the optimal level of tree complexity, based on CP parameter table produced by rpart. Cut the tree to the optimal size. Explain how to pick the optimal CP level.\n",
        "# (2p) Draw a pruned decision tree from previous point (with rules).\n",
        "# (2p) Write one example of decision rule generated by a tree (if ... and ... then we predict than patient is ...)\n",
        "# (2p) Prepare the confusion matrix for the test set, assuming a cutoff threshold of 0.60\n",
        "# (3p) Based on the confusion matrix created calculate accuracy, recall and precision. Verify the quality of the tree (subjectively).\n",
        "# (2p) Draw a Lift curve for the prediction on the test set\n",
        "# (2p) Calculate AUC for training and test set. Is the model overfitted? Why/Why not? (comment)\n",
        "\n",
        "# Task3(14p)\n",
        "# In the task, use the data from 'https://archive.ics.uci.edu/ml/machine-learning-databases/wine-quality/winequality-white.csv'\n",
        "# The quality of white wines is contained in a variable quality.\n",
        "# The data is separated by a semicolon and has headers. You can load the data using:\n",
        "read.table('https://archive.ics.uci.edu/ml/machine-learning-databases/wine-quality/winequality-white.csv', stringsAsFactors = F, sep =';', header = T)\n",
        "\n",
        "# (1p) Check if any data is missing. If so, remove missing data from the dataset.\n",
        "# (2p) Prepare the histogram and density estimation curve (on the same plot) of the variable total.sulfur.dioxide.\n",
        "# (1p) Divide data into training (80%) and validation (20%) with seed equal to 12\n",
        "# (3p) Prepare a random forest model with library 'randomForest' using default parameter values, with wine quality as target variable and all other variables as predictors. Which 2 explanatory variables explain the most of wine quality variance?\n",
        "# (3p) Prepare the GAM model with the 'mgcv' package, with wine quality as target variable and all other variables as predictors. Apply smoothing the spline only to 'chlorides' and 'sulphates' variables\n",
        "# (2p) Prepare a linear regression model with an 'lm' package, with wine quality as target variable and all other variables as predictors. Provide Adjusted R-squared of the model.\n",
        "# (2p) Compare the quality of 3 above models by measuring RMSE for each (on test set) and prepare barplot with those values. Which model is the best in terms of RMSE?"
      ],
      "execution_count": null,
      "outputs": [
        {
          "output_type": "display_data",
          "data": {
            "text/plain": [
              "     V1 V2 V3 V4  V5 V6 V7 V8 V9 V10 ⋯ V16 V17 V18 V19 V20 V21 V22 V23 V24 V25\n",
              "1    1   6 4   12 5  5  3  4  1  67  ⋯ 0   0   1   0   0   1   0   0   1   1  \n",
              "2    2  48 2   60 1  3  2  2  1  22  ⋯ 0   0   1   0   0   1   0   0   1   2  \n",
              "3    4  12 4   21 1  4  3  3  1  49  ⋯ 0   0   1   0   0   1   0   1   0   1  \n",
              "4    1  42 2   79 1  4  3  4  2  45  ⋯ 0   0   0   0   0   0   0   0   1   1  \n",
              "5    1  24 3   49 1  3  3  4  4  53  ⋯ 1   0   1   0   0   0   0   0   1   2  \n",
              "6    4  36 2   91 5  3  3  4  4  35  ⋯ 0   0   1   0   0   0   0   1   0   1  \n",
              "7    4  24 2   28 3  5  3  4  2  53  ⋯ 0   0   1   0   0   1   0   0   1   1  \n",
              "8    2  36 2   69 1  3  3  2  3  35  ⋯ 0   1   1   0   1   0   0   0   0   1  \n",
              "9    4  12 2   31 4  4  1  4  1  61  ⋯ 0   0   1   0   0   1   0   1   0   1  \n",
              "10   2  30 4   52 1  1  4  2  3  28  ⋯ 1   0   1   0   0   1   0   0   0   2  \n",
              "11   2  12 2   13 1  2  2  1  3  25  ⋯ 1   0   1   0   1   0   0   0   1   2  \n",
              "12   1  48 2   43 1  2  2  4  2  24  ⋯ 0   0   1   0   1   0   0   0   1   2  \n",
              "13   2  12 2   16 1  3  2  1  3  22  ⋯ 0   0   1   0   0   1   0   0   1   1  \n",
              "14   1  24 4   12 1  5  3  4  3  60  ⋯ 1   0   1   0   0   1   0   1   0   2  \n",
              "15   1  15 2   14 1  3  2  4  3  28  ⋯ 1   0   1   0   1   0   0   0   1   1  \n",
              "16   1  24 2   13 2  3  2  2  3  32  ⋯ 0   0   1   0   0   1   0   1   0   2  \n",
              "17   4  24 4   24 5  5  3  4  2  53  ⋯ 0   0   1   0   0   1   0   0   1   1  \n",
              "18   1  30 0   81 5  2  3  3  3  25  ⋯ 0   0   1   0   0   1   0   0   1   1  \n",
              "19   2  24 2  126 1  5  2  2  4  44  ⋯ 0   1   1   0   0   0   0   0   0   2  \n",
              "20   4  24 2   34 3  5  3  2  3  31  ⋯ 0   0   1   0   0   1   0   0   1   1  \n",
              "21   4   9 4   21 1  3  3  4  3  48  ⋯ 1   0   1   0   0   1   0   0   1   1  \n",
              "22   1   6 2   26 3  3  3  3  1  44  ⋯ 0   0   1   0   1   0   0   0   1   1  \n",
              "23   1  10 4   22 1  2  3  3  1  48  ⋯ 1   0   1   0   1   0   0   1   0   1  \n",
              "24   2  12 4   18 2  2  3  4  2  44  ⋯ 0   1   1   0   0   1   0   0   1   1  \n",
              "25   4  10 4   21 5  3  4  1  3  26  ⋯ 0   0   1   0   0   1   0   0   1   1  \n",
              "26   1   6 2   14 1  3  3  2  1  36  ⋯ 0   0   1   0   0   1   0   1   0   1  \n",
              "27   4   6 0    4 1  5  4  4  3  39  ⋯ 0   0   1   0   0   1   0   1   0   1  \n",
              "28   3  12 1    4 4  3  2  3  1  42  ⋯ 0   0   1   0   1   0   0   0   1   1  \n",
              "29   2   7 2   24 1  3  3  2  1  34  ⋯ 0   0   0   0   0   1   0   0   1   1  \n",
              "30   1  60 3   68 1  5  3  4  4  63  ⋯ 0   0   1   0   0   1   0   0   1   2  \n",
              "⋮    ⋮  ⋮  ⋮  ⋮   ⋮  ⋮  ⋮  ⋮  ⋮  ⋮   ⋱ ⋮   ⋮   ⋮   ⋮   ⋮   ⋮   ⋮   ⋮   ⋮   ⋮  \n",
              "971  2  15 2  15  2  3  3  2  1  22  ⋯ 0   0   0   0   0   1   0   0   1   1  \n",
              "972  4  24 2  74  1  3  3  4  2  43  ⋯ 1   0   1   0   0   1   0   1   0   1  \n",
              "973  1  24 1  12  1  1  2  4  4  29  ⋯ 1   0   0   1   1   0   1   0   0   2  \n",
              "974  1  60 2  73  1  5  3  4  4  36  ⋯ 0   0   0   1   1   0   0   0   1   2  \n",
              "975  4  30 4  28  1  3  2  2  3  33  ⋯ 0   0   1   0   0   1   0   0   1   1  \n",
              "976  3  24 2  13  3  3  2  3  3  57  ⋯ 0   0   1   0   0   1   0   1   0   1  \n",
              "977  2   6 2   8  1  3  2  3  1  64  ⋯ 0   0   0   0   0   1   0   0   1   1  \n",
              "978  2  18 3  24  5  5  3  2  2  42  ⋯ 0   0   1   0   0   1   0   0   1   1  \n",
              "979  4  24 3  25  1  5  3  4  3  47  ⋯ 1   0   1   0   0   1   0   1   0   2  \n",
              "980  2  15 1  13  2  3  4  2  2  25  ⋯ 1   0   1   0   1   0   0   0   1   2  \n",
              "981  2  30 4  84  1  4  3  2  2  49  ⋯ 0   0   1   0   0   1   0   0   1   2  \n",
              "982  4  48 2  48  1  1  3  2  3  33  ⋯ 0   0   1   0   1   0   0   0   0   2  \n",
              "983  3  21 2  29  2  3  2  1  3  28  ⋯ 1   0   1   0   0   1   0   0   0   1  \n",
              "984  1  36 2  82  1  3  3  2  2  26  ⋯ 0   1   1   0   0   1   0   0   1   2  \n",
              "985  4  24 4  20  1  4  3  2  2  30  ⋯ 0   0   1   0   0   1   0   1   0   1  \n",
              "986  1  15 4  14  1  3  2  3  2  25  ⋯ 0   0   1   0   1   0   0   0   1   1  \n",
              "987  3  42 0  63  1  2  1  1  2  33  ⋯ 0   0   1   0   0   1   0   0   1   1  \n",
              "988  4  13 2  14  2  1  2  4  1  64  ⋯ 0   0   1   0   0   1   0   0   1   1  \n",
              "989  1  24 2  66  1  1  3  2  4  29  ⋯ 0   1   1   0   0   0   0   0   0   1  \n",
              "990  2  24 4  17  1  5  3  2  2  48  ⋯ 0   0   1   0   0   1   0   1   0   1  \n",
              "991  4  12 4  36  5  2  3  1  2  37  ⋯ 0   0   1   0   0   1   0   1   0   1  \n",
              "992  4  15 1  16  2  5  3  4  3  34  ⋯ 0   0   1   0   0   1   0   1   0   1  \n",
              "993  1  18 2  19  5  4  4  4  3  23  ⋯ 0   0   1   0   1   0   0   1   0   1  \n",
              "994  1  36 2  40  1  1  3  3  2  30  ⋯ 0   0   1   0   0   1   0   0   0   1  \n",
              "995  4  12 2  24  5  5  3  3  3  50  ⋯ 1   0   1   0   0   1   0   0   1   1  \n",
              "996  4  12 2  17  1  4  2  4  1  31  ⋯ 0   0   1   0   0   1   0   1   0   1  \n",
              "997  1  30 2  39  1  3  1  4  2  40  ⋯ 0   1   1   0   0   1   0   0   0   1  \n",
              "998  4  12 2   8  1  5  3  4  3  38  ⋯ 0   0   1   0   0   1   0   0   1   1  \n",
              "999  1  45 2  18  1  3  3  4  4  23  ⋯ 0   0   1   0   0   0   0   0   1   2  \n",
              "1000 2  45 4  46  2  1  3  4  3  27  ⋯ 0   1   1   0   0   1   0   0   1   1  "
            ],
            "text/latex": "A data.frame: 1000 × 25\n\\begin{tabular}{lllllllllllllllllllll}\n V1 & V2 & V3 & V4 & V5 & V6 & V7 & V8 & V9 & V10 & ⋯ & V16 & V17 & V18 & V19 & V20 & V21 & V22 & V23 & V24 & V25\\\\\n <int> & <int> & <int> & <int> & <int> & <int> & <int> & <int> & <int> & <int> & ⋯ & <int> & <int> & <int> & <int> & <int> & <int> & <int> & <int> & <int> & <int>\\\\\n\\hline\n\t 1 &  6 & 4 &  12 & 5 & 5 & 3 & 4 & 1 & 67 & ⋯ & 0 & 0 & 1 & 0 & 0 & 1 & 0 & 0 & 1 & 1\\\\\n\t 2 & 48 & 2 &  60 & 1 & 3 & 2 & 2 & 1 & 22 & ⋯ & 0 & 0 & 1 & 0 & 0 & 1 & 0 & 0 & 1 & 2\\\\\n\t 4 & 12 & 4 &  21 & 1 & 4 & 3 & 3 & 1 & 49 & ⋯ & 0 & 0 & 1 & 0 & 0 & 1 & 0 & 1 & 0 & 1\\\\\n\t 1 & 42 & 2 &  79 & 1 & 4 & 3 & 4 & 2 & 45 & ⋯ & 0 & 0 & 0 & 0 & 0 & 0 & 0 & 0 & 1 & 1\\\\\n\t 1 & 24 & 3 &  49 & 1 & 3 & 3 & 4 & 4 & 53 & ⋯ & 1 & 0 & 1 & 0 & 0 & 0 & 0 & 0 & 1 & 2\\\\\n\t 4 & 36 & 2 &  91 & 5 & 3 & 3 & 4 & 4 & 35 & ⋯ & 0 & 0 & 1 & 0 & 0 & 0 & 0 & 1 & 0 & 1\\\\\n\t 4 & 24 & 2 &  28 & 3 & 5 & 3 & 4 & 2 & 53 & ⋯ & 0 & 0 & 1 & 0 & 0 & 1 & 0 & 0 & 1 & 1\\\\\n\t 2 & 36 & 2 &  69 & 1 & 3 & 3 & 2 & 3 & 35 & ⋯ & 0 & 1 & 1 & 0 & 1 & 0 & 0 & 0 & 0 & 1\\\\\n\t 4 & 12 & 2 &  31 & 4 & 4 & 1 & 4 & 1 & 61 & ⋯ & 0 & 0 & 1 & 0 & 0 & 1 & 0 & 1 & 0 & 1\\\\\n\t 2 & 30 & 4 &  52 & 1 & 1 & 4 & 2 & 3 & 28 & ⋯ & 1 & 0 & 1 & 0 & 0 & 1 & 0 & 0 & 0 & 2\\\\\n\t 2 & 12 & 2 &  13 & 1 & 2 & 2 & 1 & 3 & 25 & ⋯ & 1 & 0 & 1 & 0 & 1 & 0 & 0 & 0 & 1 & 2\\\\\n\t 1 & 48 & 2 &  43 & 1 & 2 & 2 & 4 & 2 & 24 & ⋯ & 0 & 0 & 1 & 0 & 1 & 0 & 0 & 0 & 1 & 2\\\\\n\t 2 & 12 & 2 &  16 & 1 & 3 & 2 & 1 & 3 & 22 & ⋯ & 0 & 0 & 1 & 0 & 0 & 1 & 0 & 0 & 1 & 1\\\\\n\t 1 & 24 & 4 &  12 & 1 & 5 & 3 & 4 & 3 & 60 & ⋯ & 1 & 0 & 1 & 0 & 0 & 1 & 0 & 1 & 0 & 2\\\\\n\t 1 & 15 & 2 &  14 & 1 & 3 & 2 & 4 & 3 & 28 & ⋯ & 1 & 0 & 1 & 0 & 1 & 0 & 0 & 0 & 1 & 1\\\\\n\t 1 & 24 & 2 &  13 & 2 & 3 & 2 & 2 & 3 & 32 & ⋯ & 0 & 0 & 1 & 0 & 0 & 1 & 0 & 1 & 0 & 2\\\\\n\t 4 & 24 & 4 &  24 & 5 & 5 & 3 & 4 & 2 & 53 & ⋯ & 0 & 0 & 1 & 0 & 0 & 1 & 0 & 0 & 1 & 1\\\\\n\t 1 & 30 & 0 &  81 & 5 & 2 & 3 & 3 & 3 & 25 & ⋯ & 0 & 0 & 1 & 0 & 0 & 1 & 0 & 0 & 1 & 1\\\\\n\t 2 & 24 & 2 & 126 & 1 & 5 & 2 & 2 & 4 & 44 & ⋯ & 0 & 1 & 1 & 0 & 0 & 0 & 0 & 0 & 0 & 2\\\\\n\t 4 & 24 & 2 &  34 & 3 & 5 & 3 & 2 & 3 & 31 & ⋯ & 0 & 0 & 1 & 0 & 0 & 1 & 0 & 0 & 1 & 1\\\\\n\t 4 &  9 & 4 &  21 & 1 & 3 & 3 & 4 & 3 & 48 & ⋯ & 1 & 0 & 1 & 0 & 0 & 1 & 0 & 0 & 1 & 1\\\\\n\t 1 &  6 & 2 &  26 & 3 & 3 & 3 & 3 & 1 & 44 & ⋯ & 0 & 0 & 1 & 0 & 1 & 0 & 0 & 0 & 1 & 1\\\\\n\t 1 & 10 & 4 &  22 & 1 & 2 & 3 & 3 & 1 & 48 & ⋯ & 1 & 0 & 1 & 0 & 1 & 0 & 0 & 1 & 0 & 1\\\\\n\t 2 & 12 & 4 &  18 & 2 & 2 & 3 & 4 & 2 & 44 & ⋯ & 0 & 1 & 1 & 0 & 0 & 1 & 0 & 0 & 1 & 1\\\\\n\t 4 & 10 & 4 &  21 & 5 & 3 & 4 & 1 & 3 & 26 & ⋯ & 0 & 0 & 1 & 0 & 0 & 1 & 0 & 0 & 1 & 1\\\\\n\t 1 &  6 & 2 &  14 & 1 & 3 & 3 & 2 & 1 & 36 & ⋯ & 0 & 0 & 1 & 0 & 0 & 1 & 0 & 1 & 0 & 1\\\\\n\t 4 &  6 & 0 &   4 & 1 & 5 & 4 & 4 & 3 & 39 & ⋯ & 0 & 0 & 1 & 0 & 0 & 1 & 0 & 1 & 0 & 1\\\\\n\t 3 & 12 & 1 &   4 & 4 & 3 & 2 & 3 & 1 & 42 & ⋯ & 0 & 0 & 1 & 0 & 1 & 0 & 0 & 0 & 1 & 1\\\\\n\t 2 &  7 & 2 &  24 & 1 & 3 & 3 & 2 & 1 & 34 & ⋯ & 0 & 0 & 0 & 0 & 0 & 1 & 0 & 0 & 1 & 1\\\\\n\t 1 & 60 & 3 &  68 & 1 & 5 & 3 & 4 & 4 & 63 & ⋯ & 0 & 0 & 1 & 0 & 0 & 1 & 0 & 0 & 1 & 2\\\\\n\t ⋮ & ⋮ & ⋮ & ⋮ & ⋮ & ⋮ & ⋮ & ⋮ & ⋮ & ⋮ & ⋱ & ⋮ & ⋮ & ⋮ & ⋮ & ⋮ & ⋮ & ⋮ & ⋮ & ⋮ & ⋮\\\\\n\t 2 & 15 & 2 & 15 & 2 & 3 & 3 & 2 & 1 & 22 & ⋯ & 0 & 0 & 0 & 0 & 0 & 1 & 0 & 0 & 1 & 1\\\\\n\t 4 & 24 & 2 & 74 & 1 & 3 & 3 & 4 & 2 & 43 & ⋯ & 1 & 0 & 1 & 0 & 0 & 1 & 0 & 1 & 0 & 1\\\\\n\t 1 & 24 & 1 & 12 & 1 & 1 & 2 & 4 & 4 & 29 & ⋯ & 1 & 0 & 0 & 1 & 1 & 0 & 1 & 0 & 0 & 2\\\\\n\t 1 & 60 & 2 & 73 & 1 & 5 & 3 & 4 & 4 & 36 & ⋯ & 0 & 0 & 0 & 1 & 1 & 0 & 0 & 0 & 1 & 2\\\\\n\t 4 & 30 & 4 & 28 & 1 & 3 & 2 & 2 & 3 & 33 & ⋯ & 0 & 0 & 1 & 0 & 0 & 1 & 0 & 0 & 1 & 1\\\\\n\t 3 & 24 & 2 & 13 & 3 & 3 & 2 & 3 & 3 & 57 & ⋯ & 0 & 0 & 1 & 0 & 0 & 1 & 0 & 1 & 0 & 1\\\\\n\t 2 &  6 & 2 &  8 & 1 & 3 & 2 & 3 & 1 & 64 & ⋯ & 0 & 0 & 0 & 0 & 0 & 1 & 0 & 0 & 1 & 1\\\\\n\t 2 & 18 & 3 & 24 & 5 & 5 & 3 & 2 & 2 & 42 & ⋯ & 0 & 0 & 1 & 0 & 0 & 1 & 0 & 0 & 1 & 1\\\\\n\t 4 & 24 & 3 & 25 & 1 & 5 & 3 & 4 & 3 & 47 & ⋯ & 1 & 0 & 1 & 0 & 0 & 1 & 0 & 1 & 0 & 2\\\\\n\t 2 & 15 & 1 & 13 & 2 & 3 & 4 & 2 & 2 & 25 & ⋯ & 1 & 0 & 1 & 0 & 1 & 0 & 0 & 0 & 1 & 2\\\\\n\t 2 & 30 & 4 & 84 & 1 & 4 & 3 & 2 & 2 & 49 & ⋯ & 0 & 0 & 1 & 0 & 0 & 1 & 0 & 0 & 1 & 2\\\\\n\t 4 & 48 & 2 & 48 & 1 & 1 & 3 & 2 & 3 & 33 & ⋯ & 0 & 0 & 1 & 0 & 1 & 0 & 0 & 0 & 0 & 2\\\\\n\t 3 & 21 & 2 & 29 & 2 & 3 & 2 & 1 & 3 & 28 & ⋯ & 1 & 0 & 1 & 0 & 0 & 1 & 0 & 0 & 0 & 1\\\\\n\t 1 & 36 & 2 & 82 & 1 & 3 & 3 & 2 & 2 & 26 & ⋯ & 0 & 1 & 1 & 0 & 0 & 1 & 0 & 0 & 1 & 2\\\\\n\t 4 & 24 & 4 & 20 & 1 & 4 & 3 & 2 & 2 & 30 & ⋯ & 0 & 0 & 1 & 0 & 0 & 1 & 0 & 1 & 0 & 1\\\\\n\t 1 & 15 & 4 & 14 & 1 & 3 & 2 & 3 & 2 & 25 & ⋯ & 0 & 0 & 1 & 0 & 1 & 0 & 0 & 0 & 1 & 1\\\\\n\t 3 & 42 & 0 & 63 & 1 & 2 & 1 & 1 & 2 & 33 & ⋯ & 0 & 0 & 1 & 0 & 0 & 1 & 0 & 0 & 1 & 1\\\\\n\t 4 & 13 & 2 & 14 & 2 & 1 & 2 & 4 & 1 & 64 & ⋯ & 0 & 0 & 1 & 0 & 0 & 1 & 0 & 0 & 1 & 1\\\\\n\t 1 & 24 & 2 & 66 & 1 & 1 & 3 & 2 & 4 & 29 & ⋯ & 0 & 1 & 1 & 0 & 0 & 0 & 0 & 0 & 0 & 1\\\\\n\t 2 & 24 & 4 & 17 & 1 & 5 & 3 & 2 & 2 & 48 & ⋯ & 0 & 0 & 1 & 0 & 0 & 1 & 0 & 1 & 0 & 1\\\\\n\t 4 & 12 & 4 & 36 & 5 & 2 & 3 & 1 & 2 & 37 & ⋯ & 0 & 0 & 1 & 0 & 0 & 1 & 0 & 1 & 0 & 1\\\\\n\t 4 & 15 & 1 & 16 & 2 & 5 & 3 & 4 & 3 & 34 & ⋯ & 0 & 0 & 1 & 0 & 0 & 1 & 0 & 1 & 0 & 1\\\\\n\t 1 & 18 & 2 & 19 & 5 & 4 & 4 & 4 & 3 & 23 & ⋯ & 0 & 0 & 1 & 0 & 1 & 0 & 0 & 1 & 0 & 1\\\\\n\t 1 & 36 & 2 & 40 & 1 & 1 & 3 & 3 & 2 & 30 & ⋯ & 0 & 0 & 1 & 0 & 0 & 1 & 0 & 0 & 0 & 1\\\\\n\t 4 & 12 & 2 & 24 & 5 & 5 & 3 & 3 & 3 & 50 & ⋯ & 1 & 0 & 1 & 0 & 0 & 1 & 0 & 0 & 1 & 1\\\\\n\t 4 & 12 & 2 & 17 & 1 & 4 & 2 & 4 & 1 & 31 & ⋯ & 0 & 0 & 1 & 0 & 0 & 1 & 0 & 1 & 0 & 1\\\\\n\t 1 & 30 & 2 & 39 & 1 & 3 & 1 & 4 & 2 & 40 & ⋯ & 0 & 1 & 1 & 0 & 0 & 1 & 0 & 0 & 0 & 1\\\\\n\t 4 & 12 & 2 &  8 & 1 & 5 & 3 & 4 & 3 & 38 & ⋯ & 0 & 0 & 1 & 0 & 0 & 1 & 0 & 0 & 1 & 1\\\\\n\t 1 & 45 & 2 & 18 & 1 & 3 & 3 & 4 & 4 & 23 & ⋯ & 0 & 0 & 1 & 0 & 0 & 0 & 0 & 0 & 1 & 2\\\\\n\t 2 & 45 & 4 & 46 & 2 & 1 & 3 & 4 & 3 & 27 & ⋯ & 0 & 1 & 1 & 0 & 0 & 1 & 0 & 0 & 1 & 1\\\\\n\\end{tabular}\n",
            "text/markdown": "\nA data.frame: 1000 × 25\n\n| V1 &lt;int&gt; | V2 &lt;int&gt; | V3 &lt;int&gt; | V4 &lt;int&gt; | V5 &lt;int&gt; | V6 &lt;int&gt; | V7 &lt;int&gt; | V8 &lt;int&gt; | V9 &lt;int&gt; | V10 &lt;int&gt; | ⋯ ⋯ | V16 &lt;int&gt; | V17 &lt;int&gt; | V18 &lt;int&gt; | V19 &lt;int&gt; | V20 &lt;int&gt; | V21 &lt;int&gt; | V22 &lt;int&gt; | V23 &lt;int&gt; | V24 &lt;int&gt; | V25 &lt;int&gt; |\n|---|---|---|---|---|---|---|---|---|---|---|---|---|---|---|---|---|---|---|---|---|\n| 1 |  6 | 4 |  12 | 5 | 5 | 3 | 4 | 1 | 67 | ⋯ | 0 | 0 | 1 | 0 | 0 | 1 | 0 | 0 | 1 | 1 |\n| 2 | 48 | 2 |  60 | 1 | 3 | 2 | 2 | 1 | 22 | ⋯ | 0 | 0 | 1 | 0 | 0 | 1 | 0 | 0 | 1 | 2 |\n| 4 | 12 | 4 |  21 | 1 | 4 | 3 | 3 | 1 | 49 | ⋯ | 0 | 0 | 1 | 0 | 0 | 1 | 0 | 1 | 0 | 1 |\n| 1 | 42 | 2 |  79 | 1 | 4 | 3 | 4 | 2 | 45 | ⋯ | 0 | 0 | 0 | 0 | 0 | 0 | 0 | 0 | 1 | 1 |\n| 1 | 24 | 3 |  49 | 1 | 3 | 3 | 4 | 4 | 53 | ⋯ | 1 | 0 | 1 | 0 | 0 | 0 | 0 | 0 | 1 | 2 |\n| 4 | 36 | 2 |  91 | 5 | 3 | 3 | 4 | 4 | 35 | ⋯ | 0 | 0 | 1 | 0 | 0 | 0 | 0 | 1 | 0 | 1 |\n| 4 | 24 | 2 |  28 | 3 | 5 | 3 | 4 | 2 | 53 | ⋯ | 0 | 0 | 1 | 0 | 0 | 1 | 0 | 0 | 1 | 1 |\n| 2 | 36 | 2 |  69 | 1 | 3 | 3 | 2 | 3 | 35 | ⋯ | 0 | 1 | 1 | 0 | 1 | 0 | 0 | 0 | 0 | 1 |\n| 4 | 12 | 2 |  31 | 4 | 4 | 1 | 4 | 1 | 61 | ⋯ | 0 | 0 | 1 | 0 | 0 | 1 | 0 | 1 | 0 | 1 |\n| 2 | 30 | 4 |  52 | 1 | 1 | 4 | 2 | 3 | 28 | ⋯ | 1 | 0 | 1 | 0 | 0 | 1 | 0 | 0 | 0 | 2 |\n| 2 | 12 | 2 |  13 | 1 | 2 | 2 | 1 | 3 | 25 | ⋯ | 1 | 0 | 1 | 0 | 1 | 0 | 0 | 0 | 1 | 2 |\n| 1 | 48 | 2 |  43 | 1 | 2 | 2 | 4 | 2 | 24 | ⋯ | 0 | 0 | 1 | 0 | 1 | 0 | 0 | 0 | 1 | 2 |\n| 2 | 12 | 2 |  16 | 1 | 3 | 2 | 1 | 3 | 22 | ⋯ | 0 | 0 | 1 | 0 | 0 | 1 | 0 | 0 | 1 | 1 |\n| 1 | 24 | 4 |  12 | 1 | 5 | 3 | 4 | 3 | 60 | ⋯ | 1 | 0 | 1 | 0 | 0 | 1 | 0 | 1 | 0 | 2 |\n| 1 | 15 | 2 |  14 | 1 | 3 | 2 | 4 | 3 | 28 | ⋯ | 1 | 0 | 1 | 0 | 1 | 0 | 0 | 0 | 1 | 1 |\n| 1 | 24 | 2 |  13 | 2 | 3 | 2 | 2 | 3 | 32 | ⋯ | 0 | 0 | 1 | 0 | 0 | 1 | 0 | 1 | 0 | 2 |\n| 4 | 24 | 4 |  24 | 5 | 5 | 3 | 4 | 2 | 53 | ⋯ | 0 | 0 | 1 | 0 | 0 | 1 | 0 | 0 | 1 | 1 |\n| 1 | 30 | 0 |  81 | 5 | 2 | 3 | 3 | 3 | 25 | ⋯ | 0 | 0 | 1 | 0 | 0 | 1 | 0 | 0 | 1 | 1 |\n| 2 | 24 | 2 | 126 | 1 | 5 | 2 | 2 | 4 | 44 | ⋯ | 0 | 1 | 1 | 0 | 0 | 0 | 0 | 0 | 0 | 2 |\n| 4 | 24 | 2 |  34 | 3 | 5 | 3 | 2 | 3 | 31 | ⋯ | 0 | 0 | 1 | 0 | 0 | 1 | 0 | 0 | 1 | 1 |\n| 4 |  9 | 4 |  21 | 1 | 3 | 3 | 4 | 3 | 48 | ⋯ | 1 | 0 | 1 | 0 | 0 | 1 | 0 | 0 | 1 | 1 |\n| 1 |  6 | 2 |  26 | 3 | 3 | 3 | 3 | 1 | 44 | ⋯ | 0 | 0 | 1 | 0 | 1 | 0 | 0 | 0 | 1 | 1 |\n| 1 | 10 | 4 |  22 | 1 | 2 | 3 | 3 | 1 | 48 | ⋯ | 1 | 0 | 1 | 0 | 1 | 0 | 0 | 1 | 0 | 1 |\n| 2 | 12 | 4 |  18 | 2 | 2 | 3 | 4 | 2 | 44 | ⋯ | 0 | 1 | 1 | 0 | 0 | 1 | 0 | 0 | 1 | 1 |\n| 4 | 10 | 4 |  21 | 5 | 3 | 4 | 1 | 3 | 26 | ⋯ | 0 | 0 | 1 | 0 | 0 | 1 | 0 | 0 | 1 | 1 |\n| 1 |  6 | 2 |  14 | 1 | 3 | 3 | 2 | 1 | 36 | ⋯ | 0 | 0 | 1 | 0 | 0 | 1 | 0 | 1 | 0 | 1 |\n| 4 |  6 | 0 |   4 | 1 | 5 | 4 | 4 | 3 | 39 | ⋯ | 0 | 0 | 1 | 0 | 0 | 1 | 0 | 1 | 0 | 1 |\n| 3 | 12 | 1 |   4 | 4 | 3 | 2 | 3 | 1 | 42 | ⋯ | 0 | 0 | 1 | 0 | 1 | 0 | 0 | 0 | 1 | 1 |\n| 2 |  7 | 2 |  24 | 1 | 3 | 3 | 2 | 1 | 34 | ⋯ | 0 | 0 | 0 | 0 | 0 | 1 | 0 | 0 | 1 | 1 |\n| 1 | 60 | 3 |  68 | 1 | 5 | 3 | 4 | 4 | 63 | ⋯ | 0 | 0 | 1 | 0 | 0 | 1 | 0 | 0 | 1 | 2 |\n| ⋮ | ⋮ | ⋮ | ⋮ | ⋮ | ⋮ | ⋮ | ⋮ | ⋮ | ⋮ | ⋱ | ⋮ | ⋮ | ⋮ | ⋮ | ⋮ | ⋮ | ⋮ | ⋮ | ⋮ | ⋮ |\n| 2 | 15 | 2 | 15 | 2 | 3 | 3 | 2 | 1 | 22 | ⋯ | 0 | 0 | 0 | 0 | 0 | 1 | 0 | 0 | 1 | 1 |\n| 4 | 24 | 2 | 74 | 1 | 3 | 3 | 4 | 2 | 43 | ⋯ | 1 | 0 | 1 | 0 | 0 | 1 | 0 | 1 | 0 | 1 |\n| 1 | 24 | 1 | 12 | 1 | 1 | 2 | 4 | 4 | 29 | ⋯ | 1 | 0 | 0 | 1 | 1 | 0 | 1 | 0 | 0 | 2 |\n| 1 | 60 | 2 | 73 | 1 | 5 | 3 | 4 | 4 | 36 | ⋯ | 0 | 0 | 0 | 1 | 1 | 0 | 0 | 0 | 1 | 2 |\n| 4 | 30 | 4 | 28 | 1 | 3 | 2 | 2 | 3 | 33 | ⋯ | 0 | 0 | 1 | 0 | 0 | 1 | 0 | 0 | 1 | 1 |\n| 3 | 24 | 2 | 13 | 3 | 3 | 2 | 3 | 3 | 57 | ⋯ | 0 | 0 | 1 | 0 | 0 | 1 | 0 | 1 | 0 | 1 |\n| 2 |  6 | 2 |  8 | 1 | 3 | 2 | 3 | 1 | 64 | ⋯ | 0 | 0 | 0 | 0 | 0 | 1 | 0 | 0 | 1 | 1 |\n| 2 | 18 | 3 | 24 | 5 | 5 | 3 | 2 | 2 | 42 | ⋯ | 0 | 0 | 1 | 0 | 0 | 1 | 0 | 0 | 1 | 1 |\n| 4 | 24 | 3 | 25 | 1 | 5 | 3 | 4 | 3 | 47 | ⋯ | 1 | 0 | 1 | 0 | 0 | 1 | 0 | 1 | 0 | 2 |\n| 2 | 15 | 1 | 13 | 2 | 3 | 4 | 2 | 2 | 25 | ⋯ | 1 | 0 | 1 | 0 | 1 | 0 | 0 | 0 | 1 | 2 |\n| 2 | 30 | 4 | 84 | 1 | 4 | 3 | 2 | 2 | 49 | ⋯ | 0 | 0 | 1 | 0 | 0 | 1 | 0 | 0 | 1 | 2 |\n| 4 | 48 | 2 | 48 | 1 | 1 | 3 | 2 | 3 | 33 | ⋯ | 0 | 0 | 1 | 0 | 1 | 0 | 0 | 0 | 0 | 2 |\n| 3 | 21 | 2 | 29 | 2 | 3 | 2 | 1 | 3 | 28 | ⋯ | 1 | 0 | 1 | 0 | 0 | 1 | 0 | 0 | 0 | 1 |\n| 1 | 36 | 2 | 82 | 1 | 3 | 3 | 2 | 2 | 26 | ⋯ | 0 | 1 | 1 | 0 | 0 | 1 | 0 | 0 | 1 | 2 |\n| 4 | 24 | 4 | 20 | 1 | 4 | 3 | 2 | 2 | 30 | ⋯ | 0 | 0 | 1 | 0 | 0 | 1 | 0 | 1 | 0 | 1 |\n| 1 | 15 | 4 | 14 | 1 | 3 | 2 | 3 | 2 | 25 | ⋯ | 0 | 0 | 1 | 0 | 1 | 0 | 0 | 0 | 1 | 1 |\n| 3 | 42 | 0 | 63 | 1 | 2 | 1 | 1 | 2 | 33 | ⋯ | 0 | 0 | 1 | 0 | 0 | 1 | 0 | 0 | 1 | 1 |\n| 4 | 13 | 2 | 14 | 2 | 1 | 2 | 4 | 1 | 64 | ⋯ | 0 | 0 | 1 | 0 | 0 | 1 | 0 | 0 | 1 | 1 |\n| 1 | 24 | 2 | 66 | 1 | 1 | 3 | 2 | 4 | 29 | ⋯ | 0 | 1 | 1 | 0 | 0 | 0 | 0 | 0 | 0 | 1 |\n| 2 | 24 | 4 | 17 | 1 | 5 | 3 | 2 | 2 | 48 | ⋯ | 0 | 0 | 1 | 0 | 0 | 1 | 0 | 1 | 0 | 1 |\n| 4 | 12 | 4 | 36 | 5 | 2 | 3 | 1 | 2 | 37 | ⋯ | 0 | 0 | 1 | 0 | 0 | 1 | 0 | 1 | 0 | 1 |\n| 4 | 15 | 1 | 16 | 2 | 5 | 3 | 4 | 3 | 34 | ⋯ | 0 | 0 | 1 | 0 | 0 | 1 | 0 | 1 | 0 | 1 |\n| 1 | 18 | 2 | 19 | 5 | 4 | 4 | 4 | 3 | 23 | ⋯ | 0 | 0 | 1 | 0 | 1 | 0 | 0 | 1 | 0 | 1 |\n| 1 | 36 | 2 | 40 | 1 | 1 | 3 | 3 | 2 | 30 | ⋯ | 0 | 0 | 1 | 0 | 0 | 1 | 0 | 0 | 0 | 1 |\n| 4 | 12 | 2 | 24 | 5 | 5 | 3 | 3 | 3 | 50 | ⋯ | 1 | 0 | 1 | 0 | 0 | 1 | 0 | 0 | 1 | 1 |\n| 4 | 12 | 2 | 17 | 1 | 4 | 2 | 4 | 1 | 31 | ⋯ | 0 | 0 | 1 | 0 | 0 | 1 | 0 | 1 | 0 | 1 |\n| 1 | 30 | 2 | 39 | 1 | 3 | 1 | 4 | 2 | 40 | ⋯ | 0 | 1 | 1 | 0 | 0 | 1 | 0 | 0 | 0 | 1 |\n| 4 | 12 | 2 |  8 | 1 | 5 | 3 | 4 | 3 | 38 | ⋯ | 0 | 0 | 1 | 0 | 0 | 1 | 0 | 0 | 1 | 1 |\n| 1 | 45 | 2 | 18 | 1 | 3 | 3 | 4 | 4 | 23 | ⋯ | 0 | 0 | 1 | 0 | 0 | 0 | 0 | 0 | 1 | 2 |\n| 2 | 45 | 4 | 46 | 2 | 1 | 3 | 4 | 3 | 27 | ⋯ | 0 | 1 | 1 | 0 | 0 | 1 | 0 | 0 | 1 | 1 |\n\n",
            "text/html": [
              "<table class=\"dataframe\">\n",
              "<caption>A data.frame: 1000 × 25</caption>\n",
              "<thead>\n",
              "\t<tr><th scope=col>V1</th><th scope=col>V2</th><th scope=col>V3</th><th scope=col>V4</th><th scope=col>V5</th><th scope=col>V6</th><th scope=col>V7</th><th scope=col>V8</th><th scope=col>V9</th><th scope=col>V10</th><th scope=col>⋯</th><th scope=col>V16</th><th scope=col>V17</th><th scope=col>V18</th><th scope=col>V19</th><th scope=col>V20</th><th scope=col>V21</th><th scope=col>V22</th><th scope=col>V23</th><th scope=col>V24</th><th scope=col>V25</th></tr>\n",
              "\t<tr><th scope=col>&lt;int&gt;</th><th scope=col>&lt;int&gt;</th><th scope=col>&lt;int&gt;</th><th scope=col>&lt;int&gt;</th><th scope=col>&lt;int&gt;</th><th scope=col>&lt;int&gt;</th><th scope=col>&lt;int&gt;</th><th scope=col>&lt;int&gt;</th><th scope=col>&lt;int&gt;</th><th scope=col>&lt;int&gt;</th><th scope=col>⋯</th><th scope=col>&lt;int&gt;</th><th scope=col>&lt;int&gt;</th><th scope=col>&lt;int&gt;</th><th scope=col>&lt;int&gt;</th><th scope=col>&lt;int&gt;</th><th scope=col>&lt;int&gt;</th><th scope=col>&lt;int&gt;</th><th scope=col>&lt;int&gt;</th><th scope=col>&lt;int&gt;</th><th scope=col>&lt;int&gt;</th></tr>\n",
              "</thead>\n",
              "<tbody>\n",
              "\t<tr><td>1</td><td> 6</td><td>4</td><td> 12</td><td>5</td><td>5</td><td>3</td><td>4</td><td>1</td><td>67</td><td>⋯</td><td>0</td><td>0</td><td>1</td><td>0</td><td>0</td><td>1</td><td>0</td><td>0</td><td>1</td><td>1</td></tr>\n",
              "\t<tr><td>2</td><td>48</td><td>2</td><td> 60</td><td>1</td><td>3</td><td>2</td><td>2</td><td>1</td><td>22</td><td>⋯</td><td>0</td><td>0</td><td>1</td><td>0</td><td>0</td><td>1</td><td>0</td><td>0</td><td>1</td><td>2</td></tr>\n",
              "\t<tr><td>4</td><td>12</td><td>4</td><td> 21</td><td>1</td><td>4</td><td>3</td><td>3</td><td>1</td><td>49</td><td>⋯</td><td>0</td><td>0</td><td>1</td><td>0</td><td>0</td><td>1</td><td>0</td><td>1</td><td>0</td><td>1</td></tr>\n",
              "\t<tr><td>1</td><td>42</td><td>2</td><td> 79</td><td>1</td><td>4</td><td>3</td><td>4</td><td>2</td><td>45</td><td>⋯</td><td>0</td><td>0</td><td>0</td><td>0</td><td>0</td><td>0</td><td>0</td><td>0</td><td>1</td><td>1</td></tr>\n",
              "\t<tr><td>1</td><td>24</td><td>3</td><td> 49</td><td>1</td><td>3</td><td>3</td><td>4</td><td>4</td><td>53</td><td>⋯</td><td>1</td><td>0</td><td>1</td><td>0</td><td>0</td><td>0</td><td>0</td><td>0</td><td>1</td><td>2</td></tr>\n",
              "\t<tr><td>4</td><td>36</td><td>2</td><td> 91</td><td>5</td><td>3</td><td>3</td><td>4</td><td>4</td><td>35</td><td>⋯</td><td>0</td><td>0</td><td>1</td><td>0</td><td>0</td><td>0</td><td>0</td><td>1</td><td>0</td><td>1</td></tr>\n",
              "\t<tr><td>4</td><td>24</td><td>2</td><td> 28</td><td>3</td><td>5</td><td>3</td><td>4</td><td>2</td><td>53</td><td>⋯</td><td>0</td><td>0</td><td>1</td><td>0</td><td>0</td><td>1</td><td>0</td><td>0</td><td>1</td><td>1</td></tr>\n",
              "\t<tr><td>2</td><td>36</td><td>2</td><td> 69</td><td>1</td><td>3</td><td>3</td><td>2</td><td>3</td><td>35</td><td>⋯</td><td>0</td><td>1</td><td>1</td><td>0</td><td>1</td><td>0</td><td>0</td><td>0</td><td>0</td><td>1</td></tr>\n",
              "\t<tr><td>4</td><td>12</td><td>2</td><td> 31</td><td>4</td><td>4</td><td>1</td><td>4</td><td>1</td><td>61</td><td>⋯</td><td>0</td><td>0</td><td>1</td><td>0</td><td>0</td><td>1</td><td>0</td><td>1</td><td>0</td><td>1</td></tr>\n",
              "\t<tr><td>2</td><td>30</td><td>4</td><td> 52</td><td>1</td><td>1</td><td>4</td><td>2</td><td>3</td><td>28</td><td>⋯</td><td>1</td><td>0</td><td>1</td><td>0</td><td>0</td><td>1</td><td>0</td><td>0</td><td>0</td><td>2</td></tr>\n",
              "\t<tr><td>2</td><td>12</td><td>2</td><td> 13</td><td>1</td><td>2</td><td>2</td><td>1</td><td>3</td><td>25</td><td>⋯</td><td>1</td><td>0</td><td>1</td><td>0</td><td>1</td><td>0</td><td>0</td><td>0</td><td>1</td><td>2</td></tr>\n",
              "\t<tr><td>1</td><td>48</td><td>2</td><td> 43</td><td>1</td><td>2</td><td>2</td><td>4</td><td>2</td><td>24</td><td>⋯</td><td>0</td><td>0</td><td>1</td><td>0</td><td>1</td><td>0</td><td>0</td><td>0</td><td>1</td><td>2</td></tr>\n",
              "\t<tr><td>2</td><td>12</td><td>2</td><td> 16</td><td>1</td><td>3</td><td>2</td><td>1</td><td>3</td><td>22</td><td>⋯</td><td>0</td><td>0</td><td>1</td><td>0</td><td>0</td><td>1</td><td>0</td><td>0</td><td>1</td><td>1</td></tr>\n",
              "\t<tr><td>1</td><td>24</td><td>4</td><td> 12</td><td>1</td><td>5</td><td>3</td><td>4</td><td>3</td><td>60</td><td>⋯</td><td>1</td><td>0</td><td>1</td><td>0</td><td>0</td><td>1</td><td>0</td><td>1</td><td>0</td><td>2</td></tr>\n",
              "\t<tr><td>1</td><td>15</td><td>2</td><td> 14</td><td>1</td><td>3</td><td>2</td><td>4</td><td>3</td><td>28</td><td>⋯</td><td>1</td><td>0</td><td>1</td><td>0</td><td>1</td><td>0</td><td>0</td><td>0</td><td>1</td><td>1</td></tr>\n",
              "\t<tr><td>1</td><td>24</td><td>2</td><td> 13</td><td>2</td><td>3</td><td>2</td><td>2</td><td>3</td><td>32</td><td>⋯</td><td>0</td><td>0</td><td>1</td><td>0</td><td>0</td><td>1</td><td>0</td><td>1</td><td>0</td><td>2</td></tr>\n",
              "\t<tr><td>4</td><td>24</td><td>4</td><td> 24</td><td>5</td><td>5</td><td>3</td><td>4</td><td>2</td><td>53</td><td>⋯</td><td>0</td><td>0</td><td>1</td><td>0</td><td>0</td><td>1</td><td>0</td><td>0</td><td>1</td><td>1</td></tr>\n",
              "\t<tr><td>1</td><td>30</td><td>0</td><td> 81</td><td>5</td><td>2</td><td>3</td><td>3</td><td>3</td><td>25</td><td>⋯</td><td>0</td><td>0</td><td>1</td><td>0</td><td>0</td><td>1</td><td>0</td><td>0</td><td>1</td><td>1</td></tr>\n",
              "\t<tr><td>2</td><td>24</td><td>2</td><td>126</td><td>1</td><td>5</td><td>2</td><td>2</td><td>4</td><td>44</td><td>⋯</td><td>0</td><td>1</td><td>1</td><td>0</td><td>0</td><td>0</td><td>0</td><td>0</td><td>0</td><td>2</td></tr>\n",
              "\t<tr><td>4</td><td>24</td><td>2</td><td> 34</td><td>3</td><td>5</td><td>3</td><td>2</td><td>3</td><td>31</td><td>⋯</td><td>0</td><td>0</td><td>1</td><td>0</td><td>0</td><td>1</td><td>0</td><td>0</td><td>1</td><td>1</td></tr>\n",
              "\t<tr><td>4</td><td> 9</td><td>4</td><td> 21</td><td>1</td><td>3</td><td>3</td><td>4</td><td>3</td><td>48</td><td>⋯</td><td>1</td><td>0</td><td>1</td><td>0</td><td>0</td><td>1</td><td>0</td><td>0</td><td>1</td><td>1</td></tr>\n",
              "\t<tr><td>1</td><td> 6</td><td>2</td><td> 26</td><td>3</td><td>3</td><td>3</td><td>3</td><td>1</td><td>44</td><td>⋯</td><td>0</td><td>0</td><td>1</td><td>0</td><td>1</td><td>0</td><td>0</td><td>0</td><td>1</td><td>1</td></tr>\n",
              "\t<tr><td>1</td><td>10</td><td>4</td><td> 22</td><td>1</td><td>2</td><td>3</td><td>3</td><td>1</td><td>48</td><td>⋯</td><td>1</td><td>0</td><td>1</td><td>0</td><td>1</td><td>0</td><td>0</td><td>1</td><td>0</td><td>1</td></tr>\n",
              "\t<tr><td>2</td><td>12</td><td>4</td><td> 18</td><td>2</td><td>2</td><td>3</td><td>4</td><td>2</td><td>44</td><td>⋯</td><td>0</td><td>1</td><td>1</td><td>0</td><td>0</td><td>1</td><td>0</td><td>0</td><td>1</td><td>1</td></tr>\n",
              "\t<tr><td>4</td><td>10</td><td>4</td><td> 21</td><td>5</td><td>3</td><td>4</td><td>1</td><td>3</td><td>26</td><td>⋯</td><td>0</td><td>0</td><td>1</td><td>0</td><td>0</td><td>1</td><td>0</td><td>0</td><td>1</td><td>1</td></tr>\n",
              "\t<tr><td>1</td><td> 6</td><td>2</td><td> 14</td><td>1</td><td>3</td><td>3</td><td>2</td><td>1</td><td>36</td><td>⋯</td><td>0</td><td>0</td><td>1</td><td>0</td><td>0</td><td>1</td><td>0</td><td>1</td><td>0</td><td>1</td></tr>\n",
              "\t<tr><td>4</td><td> 6</td><td>0</td><td>  4</td><td>1</td><td>5</td><td>4</td><td>4</td><td>3</td><td>39</td><td>⋯</td><td>0</td><td>0</td><td>1</td><td>0</td><td>0</td><td>1</td><td>0</td><td>1</td><td>0</td><td>1</td></tr>\n",
              "\t<tr><td>3</td><td>12</td><td>1</td><td>  4</td><td>4</td><td>3</td><td>2</td><td>3</td><td>1</td><td>42</td><td>⋯</td><td>0</td><td>0</td><td>1</td><td>0</td><td>1</td><td>0</td><td>0</td><td>0</td><td>1</td><td>1</td></tr>\n",
              "\t<tr><td>2</td><td> 7</td><td>2</td><td> 24</td><td>1</td><td>3</td><td>3</td><td>2</td><td>1</td><td>34</td><td>⋯</td><td>0</td><td>0</td><td>0</td><td>0</td><td>0</td><td>1</td><td>0</td><td>0</td><td>1</td><td>1</td></tr>\n",
              "\t<tr><td>1</td><td>60</td><td>3</td><td> 68</td><td>1</td><td>5</td><td>3</td><td>4</td><td>4</td><td>63</td><td>⋯</td><td>0</td><td>0</td><td>1</td><td>0</td><td>0</td><td>1</td><td>0</td><td>0</td><td>1</td><td>2</td></tr>\n",
              "\t<tr><td>⋮</td><td>⋮</td><td>⋮</td><td>⋮</td><td>⋮</td><td>⋮</td><td>⋮</td><td>⋮</td><td>⋮</td><td>⋮</td><td>⋱</td><td>⋮</td><td>⋮</td><td>⋮</td><td>⋮</td><td>⋮</td><td>⋮</td><td>⋮</td><td>⋮</td><td>⋮</td><td>⋮</td></tr>\n",
              "\t<tr><td>2</td><td>15</td><td>2</td><td>15</td><td>2</td><td>3</td><td>3</td><td>2</td><td>1</td><td>22</td><td>⋯</td><td>0</td><td>0</td><td>0</td><td>0</td><td>0</td><td>1</td><td>0</td><td>0</td><td>1</td><td>1</td></tr>\n",
              "\t<tr><td>4</td><td>24</td><td>2</td><td>74</td><td>1</td><td>3</td><td>3</td><td>4</td><td>2</td><td>43</td><td>⋯</td><td>1</td><td>0</td><td>1</td><td>0</td><td>0</td><td>1</td><td>0</td><td>1</td><td>0</td><td>1</td></tr>\n",
              "\t<tr><td>1</td><td>24</td><td>1</td><td>12</td><td>1</td><td>1</td><td>2</td><td>4</td><td>4</td><td>29</td><td>⋯</td><td>1</td><td>0</td><td>0</td><td>1</td><td>1</td><td>0</td><td>1</td><td>0</td><td>0</td><td>2</td></tr>\n",
              "\t<tr><td>1</td><td>60</td><td>2</td><td>73</td><td>1</td><td>5</td><td>3</td><td>4</td><td>4</td><td>36</td><td>⋯</td><td>0</td><td>0</td><td>0</td><td>1</td><td>1</td><td>0</td><td>0</td><td>0</td><td>1</td><td>2</td></tr>\n",
              "\t<tr><td>4</td><td>30</td><td>4</td><td>28</td><td>1</td><td>3</td><td>2</td><td>2</td><td>3</td><td>33</td><td>⋯</td><td>0</td><td>0</td><td>1</td><td>0</td><td>0</td><td>1</td><td>0</td><td>0</td><td>1</td><td>1</td></tr>\n",
              "\t<tr><td>3</td><td>24</td><td>2</td><td>13</td><td>3</td><td>3</td><td>2</td><td>3</td><td>3</td><td>57</td><td>⋯</td><td>0</td><td>0</td><td>1</td><td>0</td><td>0</td><td>1</td><td>0</td><td>1</td><td>0</td><td>1</td></tr>\n",
              "\t<tr><td>2</td><td> 6</td><td>2</td><td> 8</td><td>1</td><td>3</td><td>2</td><td>3</td><td>1</td><td>64</td><td>⋯</td><td>0</td><td>0</td><td>0</td><td>0</td><td>0</td><td>1</td><td>0</td><td>0</td><td>1</td><td>1</td></tr>\n",
              "\t<tr><td>2</td><td>18</td><td>3</td><td>24</td><td>5</td><td>5</td><td>3</td><td>2</td><td>2</td><td>42</td><td>⋯</td><td>0</td><td>0</td><td>1</td><td>0</td><td>0</td><td>1</td><td>0</td><td>0</td><td>1</td><td>1</td></tr>\n",
              "\t<tr><td>4</td><td>24</td><td>3</td><td>25</td><td>1</td><td>5</td><td>3</td><td>4</td><td>3</td><td>47</td><td>⋯</td><td>1</td><td>0</td><td>1</td><td>0</td><td>0</td><td>1</td><td>0</td><td>1</td><td>0</td><td>2</td></tr>\n",
              "\t<tr><td>2</td><td>15</td><td>1</td><td>13</td><td>2</td><td>3</td><td>4</td><td>2</td><td>2</td><td>25</td><td>⋯</td><td>1</td><td>0</td><td>1</td><td>0</td><td>1</td><td>0</td><td>0</td><td>0</td><td>1</td><td>2</td></tr>\n",
              "\t<tr><td>2</td><td>30</td><td>4</td><td>84</td><td>1</td><td>4</td><td>3</td><td>2</td><td>2</td><td>49</td><td>⋯</td><td>0</td><td>0</td><td>1</td><td>0</td><td>0</td><td>1</td><td>0</td><td>0</td><td>1</td><td>2</td></tr>\n",
              "\t<tr><td>4</td><td>48</td><td>2</td><td>48</td><td>1</td><td>1</td><td>3</td><td>2</td><td>3</td><td>33</td><td>⋯</td><td>0</td><td>0</td><td>1</td><td>0</td><td>1</td><td>0</td><td>0</td><td>0</td><td>0</td><td>2</td></tr>\n",
              "\t<tr><td>3</td><td>21</td><td>2</td><td>29</td><td>2</td><td>3</td><td>2</td><td>1</td><td>3</td><td>28</td><td>⋯</td><td>1</td><td>0</td><td>1</td><td>0</td><td>0</td><td>1</td><td>0</td><td>0</td><td>0</td><td>1</td></tr>\n",
              "\t<tr><td>1</td><td>36</td><td>2</td><td>82</td><td>1</td><td>3</td><td>3</td><td>2</td><td>2</td><td>26</td><td>⋯</td><td>0</td><td>1</td><td>1</td><td>0</td><td>0</td><td>1</td><td>0</td><td>0</td><td>1</td><td>2</td></tr>\n",
              "\t<tr><td>4</td><td>24</td><td>4</td><td>20</td><td>1</td><td>4</td><td>3</td><td>2</td><td>2</td><td>30</td><td>⋯</td><td>0</td><td>0</td><td>1</td><td>0</td><td>0</td><td>1</td><td>0</td><td>1</td><td>0</td><td>1</td></tr>\n",
              "\t<tr><td>1</td><td>15</td><td>4</td><td>14</td><td>1</td><td>3</td><td>2</td><td>3</td><td>2</td><td>25</td><td>⋯</td><td>0</td><td>0</td><td>1</td><td>0</td><td>1</td><td>0</td><td>0</td><td>0</td><td>1</td><td>1</td></tr>\n",
              "\t<tr><td>3</td><td>42</td><td>0</td><td>63</td><td>1</td><td>2</td><td>1</td><td>1</td><td>2</td><td>33</td><td>⋯</td><td>0</td><td>0</td><td>1</td><td>0</td><td>0</td><td>1</td><td>0</td><td>0</td><td>1</td><td>1</td></tr>\n",
              "\t<tr><td>4</td><td>13</td><td>2</td><td>14</td><td>2</td><td>1</td><td>2</td><td>4</td><td>1</td><td>64</td><td>⋯</td><td>0</td><td>0</td><td>1</td><td>0</td><td>0</td><td>1</td><td>0</td><td>0</td><td>1</td><td>1</td></tr>\n",
              "\t<tr><td>1</td><td>24</td><td>2</td><td>66</td><td>1</td><td>1</td><td>3</td><td>2</td><td>4</td><td>29</td><td>⋯</td><td>0</td><td>1</td><td>1</td><td>0</td><td>0</td><td>0</td><td>0</td><td>0</td><td>0</td><td>1</td></tr>\n",
              "\t<tr><td>2</td><td>24</td><td>4</td><td>17</td><td>1</td><td>5</td><td>3</td><td>2</td><td>2</td><td>48</td><td>⋯</td><td>0</td><td>0</td><td>1</td><td>0</td><td>0</td><td>1</td><td>0</td><td>1</td><td>0</td><td>1</td></tr>\n",
              "\t<tr><td>4</td><td>12</td><td>4</td><td>36</td><td>5</td><td>2</td><td>3</td><td>1</td><td>2</td><td>37</td><td>⋯</td><td>0</td><td>0</td><td>1</td><td>0</td><td>0</td><td>1</td><td>0</td><td>1</td><td>0</td><td>1</td></tr>\n",
              "\t<tr><td>4</td><td>15</td><td>1</td><td>16</td><td>2</td><td>5</td><td>3</td><td>4</td><td>3</td><td>34</td><td>⋯</td><td>0</td><td>0</td><td>1</td><td>0</td><td>0</td><td>1</td><td>0</td><td>1</td><td>0</td><td>1</td></tr>\n",
              "\t<tr><td>1</td><td>18</td><td>2</td><td>19</td><td>5</td><td>4</td><td>4</td><td>4</td><td>3</td><td>23</td><td>⋯</td><td>0</td><td>0</td><td>1</td><td>0</td><td>1</td><td>0</td><td>0</td><td>1</td><td>0</td><td>1</td></tr>\n",
              "\t<tr><td>1</td><td>36</td><td>2</td><td>40</td><td>1</td><td>1</td><td>3</td><td>3</td><td>2</td><td>30</td><td>⋯</td><td>0</td><td>0</td><td>1</td><td>0</td><td>0</td><td>1</td><td>0</td><td>0</td><td>0</td><td>1</td></tr>\n",
              "\t<tr><td>4</td><td>12</td><td>2</td><td>24</td><td>5</td><td>5</td><td>3</td><td>3</td><td>3</td><td>50</td><td>⋯</td><td>1</td><td>0</td><td>1</td><td>0</td><td>0</td><td>1</td><td>0</td><td>0</td><td>1</td><td>1</td></tr>\n",
              "\t<tr><td>4</td><td>12</td><td>2</td><td>17</td><td>1</td><td>4</td><td>2</td><td>4</td><td>1</td><td>31</td><td>⋯</td><td>0</td><td>0</td><td>1</td><td>0</td><td>0</td><td>1</td><td>0</td><td>1</td><td>0</td><td>1</td></tr>\n",
              "\t<tr><td>1</td><td>30</td><td>2</td><td>39</td><td>1</td><td>3</td><td>1</td><td>4</td><td>2</td><td>40</td><td>⋯</td><td>0</td><td>1</td><td>1</td><td>0</td><td>0</td><td>1</td><td>0</td><td>0</td><td>0</td><td>1</td></tr>\n",
              "\t<tr><td>4</td><td>12</td><td>2</td><td> 8</td><td>1</td><td>5</td><td>3</td><td>4</td><td>3</td><td>38</td><td>⋯</td><td>0</td><td>0</td><td>1</td><td>0</td><td>0</td><td>1</td><td>0</td><td>0</td><td>1</td><td>1</td></tr>\n",
              "\t<tr><td>1</td><td>45</td><td>2</td><td>18</td><td>1</td><td>3</td><td>3</td><td>4</td><td>4</td><td>23</td><td>⋯</td><td>0</td><td>0</td><td>1</td><td>0</td><td>0</td><td>0</td><td>0</td><td>0</td><td>1</td><td>2</td></tr>\n",
              "\t<tr><td>2</td><td>45</td><td>4</td><td>46</td><td>2</td><td>1</td><td>3</td><td>4</td><td>3</td><td>27</td><td>⋯</td><td>0</td><td>1</td><td>1</td><td>0</td><td>0</td><td>1</td><td>0</td><td>0</td><td>1</td><td>1</td></tr>\n",
              "</tbody>\n",
              "</table>\n"
            ]
          },
          "metadata": {
            "tags": []
          }
        },
        {
          "output_type": "display_data",
          "data": {
            "text/plain": [
              "     fixed.acidity volatile.acidity citric.acid residual.sugar chlorides\n",
              "1    7.0           0.27             0.36        20.70          0.045    \n",
              "2    6.3           0.30             0.34         1.60          0.049    \n",
              "3    8.1           0.28             0.40         6.90          0.050    \n",
              "4    7.2           0.23             0.32         8.50          0.058    \n",
              "5    7.2           0.23             0.32         8.50          0.058    \n",
              "6    8.1           0.28             0.40         6.90          0.050    \n",
              "7    6.2           0.32             0.16         7.00          0.045    \n",
              "8    7.0           0.27             0.36        20.70          0.045    \n",
              "9    6.3           0.30             0.34         1.60          0.049    \n",
              "10   8.1           0.22             0.43         1.50          0.044    \n",
              "11   8.1           0.27             0.41         1.45          0.033    \n",
              "12   8.6           0.23             0.40         4.20          0.035    \n",
              "13   7.9           0.18             0.37         1.20          0.040    \n",
              "14   6.6           0.16             0.40         1.50          0.044    \n",
              "15   8.3           0.42             0.62        19.25          0.040    \n",
              "16   6.6           0.17             0.38         1.50          0.032    \n",
              "17   6.3           0.48             0.04         1.10          0.046    \n",
              "18   6.2           0.66             0.48         1.20          0.029    \n",
              "19   7.4           0.34             0.42         1.10          0.033    \n",
              "20   6.5           0.31             0.14         7.50          0.044    \n",
              "21   6.2           0.66             0.48         1.20          0.029    \n",
              "22   6.4           0.31             0.38         2.90          0.038    \n",
              "23   6.8           0.26             0.42         1.70          0.049    \n",
              "24   7.6           0.67             0.14         1.50          0.074    \n",
              "25   6.6           0.27             0.41         1.30          0.052    \n",
              "26   7.0           0.25             0.32         9.00          0.046    \n",
              "27   6.9           0.24             0.35         1.00          0.052    \n",
              "28   7.0           0.28             0.39         8.70          0.051    \n",
              "29   7.4           0.27             0.48         1.10          0.047    \n",
              "30   7.2           0.32             0.36         2.00          0.033    \n",
              "⋮    ⋮             ⋮                ⋮           ⋮              ⋮        \n",
              "4869 5.8           0.230            0.31         4.50          0.046    \n",
              "4870 6.6           0.240            0.33        10.10          0.032    \n",
              "4871 6.1           0.320            0.28         6.60          0.021    \n",
              "4872 5.0           0.200            0.40         1.90          0.015    \n",
              "4873 6.0           0.420            0.41        12.40          0.032    \n",
              "4874 5.7           0.210            0.32         1.60          0.030    \n",
              "4875 5.6           0.200            0.36         2.50          0.048    \n",
              "4876 7.4           0.220            0.26         1.20          0.035    \n",
              "4877 6.2           0.380            0.42         2.50          0.038    \n",
              "4878 5.9           0.540            0.00         0.80          0.032    \n",
              "4879 6.2           0.530            0.02         0.90          0.035    \n",
              "4880 6.6           0.340            0.40         8.10          0.046    \n",
              "4881 6.6           0.340            0.40         8.10          0.046    \n",
              "4882 5.0           0.235            0.27        11.75          0.030    \n",
              "4883 5.5           0.320            0.13         1.30          0.037    \n",
              "4884 4.9           0.470            0.17         1.90          0.035    \n",
              "4885 6.5           0.330            0.38         8.30          0.048    \n",
              "4886 6.6           0.340            0.40         8.10          0.046    \n",
              "4887 6.2           0.210            0.28         5.70          0.028    \n",
              "4888 6.2           0.410            0.22         1.90          0.023    \n",
              "4889 6.8           0.220            0.36         1.20          0.052    \n",
              "4890 4.9           0.235            0.27        11.75          0.030    \n",
              "4891 6.1           0.340            0.29         2.20          0.036    \n",
              "4892 5.7           0.210            0.32         0.90          0.038    \n",
              "4893 6.5           0.230            0.38         1.30          0.032    \n",
              "4894 6.2           0.210            0.29         1.60          0.039    \n",
              "4895 6.6           0.320            0.36         8.00          0.047    \n",
              "4896 6.5           0.240            0.19         1.20          0.041    \n",
              "4897 5.5           0.290            0.30         1.10          0.022    \n",
              "4898 6.0           0.210            0.38         0.80          0.020    \n",
              "     free.sulfur.dioxide total.sulfur.dioxide density pH   sulphates alcohol  \n",
              "1    45                  170                  1.0010  3.00 0.45       8.8     \n",
              "2    14                  132                  0.9940  3.30 0.49       9.5     \n",
              "3    30                   97                  0.9951  3.26 0.44      10.1     \n",
              "4    47                  186                  0.9956  3.19 0.40       9.9     \n",
              "5    47                  186                  0.9956  3.19 0.40       9.9     \n",
              "6    30                   97                  0.9951  3.26 0.44      10.1     \n",
              "7    30                  136                  0.9949  3.18 0.47       9.6     \n",
              "8    45                  170                  1.0010  3.00 0.45       8.8     \n",
              "9    14                  132                  0.9940  3.30 0.49       9.5     \n",
              "10   28                  129                  0.9938  3.22 0.45      11.0     \n",
              "11   11                   63                  0.9908  2.99 0.56      12.0     \n",
              "12   17                  109                  0.9947  3.14 0.53       9.7     \n",
              "13   16                   75                  0.9920  3.18 0.63      10.8     \n",
              "14   48                  143                  0.9912  3.54 0.52      12.4     \n",
              "15   41                  172                  1.0002  2.98 0.67       9.7     \n",
              "16   28                  112                  0.9914  3.25 0.55      11.4     \n",
              "17   30                   99                  0.9928  3.24 0.36       9.6     \n",
              "18   29                   75                  0.9892  3.33 0.39      12.8     \n",
              "19   17                  171                  0.9917  3.12 0.53      11.3     \n",
              "20   34                  133                  0.9955  3.22 0.50       9.5     \n",
              "21   29                   75                  0.9892  3.33 0.39      12.8     \n",
              "22   19                  102                  0.9912  3.17 0.35      11.0     \n",
              "23   41                  122                  0.9930  3.47 0.48      10.5     \n",
              "24   25                  168                  0.9937  3.05 0.51       9.3     \n",
              "25   16                  142                  0.9951  3.42 0.47      10.0     \n",
              "26   56                  245                  0.9955  3.25 0.50      10.4     \n",
              "27   35                  146                  0.9930  3.45 0.44      10.0     \n",
              "28   32                  141                  0.9961  3.38 0.53      10.5     \n",
              "29   17                  132                  0.9914  3.19 0.49      11.6     \n",
              "30   37                  114                  0.9906  3.10 0.71      12.3     \n",
              "⋮    ⋮                   ⋮                    ⋮       ⋮    ⋮         ⋮        \n",
              "4869 42                  124                  0.99324 3.31 0.64      10.800000\n",
              "4870  8                   81                  0.99626 3.19 0.51       9.800000\n",
              "4871 29                  132                  0.99188 3.15 0.36      11.450000\n",
              "4872 20                   98                  0.98970 3.37 0.55      12.050000\n",
              "4873 50                  179                  0.99622 3.14 0.60       9.700000\n",
              "4874 33                  122                  0.99044 3.33 0.52      11.900000\n",
              "4875 16                  125                  0.99282 3.49 0.49      10.000000\n",
              "4876 18                   97                  0.99245 3.12 0.41       9.700000\n",
              "4877 34                  117                  0.99132 3.36 0.59      11.600000\n",
              "4878 12                   82                  0.99286 3.25 0.36       8.800000\n",
              "4879  6                   81                  0.99234 3.24 0.35       9.500000\n",
              "4880 68                  170                  0.99494 3.15 0.50       9.533333\n",
              "4881 68                  170                  0.99494 3.15 0.50       9.533333\n",
              "4882 34                  118                  0.99540 3.07 0.50       9.400000\n",
              "4883 45                  156                  0.99184 3.26 0.38      10.700000\n",
              "4884 60                  148                  0.98964 3.27 0.35      11.500000\n",
              "4885 68                  174                  0.99492 3.14 0.50       9.600000\n",
              "4886 68                  170                  0.99494 3.15 0.50       9.550000\n",
              "4887 45                  121                  0.99168 3.21 1.08      12.150000\n",
              "4888  5                   56                  0.98928 3.04 0.79      13.000000\n",
              "4889 38                  127                  0.99330 3.04 0.54       9.200000\n",
              "4890 34                  118                  0.99540 3.07 0.50       9.400000\n",
              "4891 25                  100                  0.98938 3.06 0.44      11.800000\n",
              "4892 38                  121                  0.99074 3.24 0.46      10.600000\n",
              "4893 29                  112                  0.99298 3.29 0.54       9.700000\n",
              "4894 24                   92                  0.99114 3.27 0.50      11.200000\n",
              "4895 57                  168                  0.99490 3.15 0.46       9.600000\n",
              "4896 30                  111                  0.99254 2.99 0.46       9.400000\n",
              "4897 20                  110                  0.98869 3.34 0.38      12.800000\n",
              "4898 22                   98                  0.98941 3.26 0.32      11.800000\n",
              "     quality\n",
              "1    6      \n",
              "2    6      \n",
              "3    6      \n",
              "4    6      \n",
              "5    6      \n",
              "6    6      \n",
              "7    6      \n",
              "8    6      \n",
              "9    6      \n",
              "10   6      \n",
              "11   5      \n",
              "12   5      \n",
              "13   5      \n",
              "14   7      \n",
              "15   5      \n",
              "16   7      \n",
              "17   6      \n",
              "18   8      \n",
              "19   6      \n",
              "20   5      \n",
              "21   8      \n",
              "22   7      \n",
              "23   8      \n",
              "24   5      \n",
              "25   6      \n",
              "26   6      \n",
              "27   6      \n",
              "28   6      \n",
              "29   6      \n",
              "30   7      \n",
              "⋮    ⋮      \n",
              "4869 6      \n",
              "4870 6      \n",
              "4871 7      \n",
              "4872 6      \n",
              "4873 5      \n",
              "4874 6      \n",
              "4875 6      \n",
              "4876 6      \n",
              "4877 7      \n",
              "4878 5      \n",
              "4879 4      \n",
              "4880 6      \n",
              "4881 6      \n",
              "4882 6      \n",
              "4883 5      \n",
              "4884 6      \n",
              "4885 5      \n",
              "4886 6      \n",
              "4887 7      \n",
              "4888 7      \n",
              "4889 5      \n",
              "4890 6      \n",
              "4891 6      \n",
              "4892 6      \n",
              "4893 5      \n",
              "4894 6      \n",
              "4895 5      \n",
              "4896 6      \n",
              "4897 7      \n",
              "4898 6      "
            ],
            "text/latex": "A data.frame: 4898 × 12\n\\begin{tabular}{llllllllllll}\n fixed.acidity & volatile.acidity & citric.acid & residual.sugar & chlorides & free.sulfur.dioxide & total.sulfur.dioxide & density & pH & sulphates & alcohol & quality\\\\\n <dbl> & <dbl> & <dbl> & <dbl> & <dbl> & <dbl> & <dbl> & <dbl> & <dbl> & <dbl> & <dbl> & <int>\\\\\n\\hline\n\t 7.0 & 0.27 & 0.36 & 20.70 & 0.045 & 45 & 170 & 1.0010 & 3.00 & 0.45 &  8.8 & 6\\\\\n\t 6.3 & 0.30 & 0.34 &  1.60 & 0.049 & 14 & 132 & 0.9940 & 3.30 & 0.49 &  9.5 & 6\\\\\n\t 8.1 & 0.28 & 0.40 &  6.90 & 0.050 & 30 &  97 & 0.9951 & 3.26 & 0.44 & 10.1 & 6\\\\\n\t 7.2 & 0.23 & 0.32 &  8.50 & 0.058 & 47 & 186 & 0.9956 & 3.19 & 0.40 &  9.9 & 6\\\\\n\t 7.2 & 0.23 & 0.32 &  8.50 & 0.058 & 47 & 186 & 0.9956 & 3.19 & 0.40 &  9.9 & 6\\\\\n\t 8.1 & 0.28 & 0.40 &  6.90 & 0.050 & 30 &  97 & 0.9951 & 3.26 & 0.44 & 10.1 & 6\\\\\n\t 6.2 & 0.32 & 0.16 &  7.00 & 0.045 & 30 & 136 & 0.9949 & 3.18 & 0.47 &  9.6 & 6\\\\\n\t 7.0 & 0.27 & 0.36 & 20.70 & 0.045 & 45 & 170 & 1.0010 & 3.00 & 0.45 &  8.8 & 6\\\\\n\t 6.3 & 0.30 & 0.34 &  1.60 & 0.049 & 14 & 132 & 0.9940 & 3.30 & 0.49 &  9.5 & 6\\\\\n\t 8.1 & 0.22 & 0.43 &  1.50 & 0.044 & 28 & 129 & 0.9938 & 3.22 & 0.45 & 11.0 & 6\\\\\n\t 8.1 & 0.27 & 0.41 &  1.45 & 0.033 & 11 &  63 & 0.9908 & 2.99 & 0.56 & 12.0 & 5\\\\\n\t 8.6 & 0.23 & 0.40 &  4.20 & 0.035 & 17 & 109 & 0.9947 & 3.14 & 0.53 &  9.7 & 5\\\\\n\t 7.9 & 0.18 & 0.37 &  1.20 & 0.040 & 16 &  75 & 0.9920 & 3.18 & 0.63 & 10.8 & 5\\\\\n\t 6.6 & 0.16 & 0.40 &  1.50 & 0.044 & 48 & 143 & 0.9912 & 3.54 & 0.52 & 12.4 & 7\\\\\n\t 8.3 & 0.42 & 0.62 & 19.25 & 0.040 & 41 & 172 & 1.0002 & 2.98 & 0.67 &  9.7 & 5\\\\\n\t 6.6 & 0.17 & 0.38 &  1.50 & 0.032 & 28 & 112 & 0.9914 & 3.25 & 0.55 & 11.4 & 7\\\\\n\t 6.3 & 0.48 & 0.04 &  1.10 & 0.046 & 30 &  99 & 0.9928 & 3.24 & 0.36 &  9.6 & 6\\\\\n\t 6.2 & 0.66 & 0.48 &  1.20 & 0.029 & 29 &  75 & 0.9892 & 3.33 & 0.39 & 12.8 & 8\\\\\n\t 7.4 & 0.34 & 0.42 &  1.10 & 0.033 & 17 & 171 & 0.9917 & 3.12 & 0.53 & 11.3 & 6\\\\\n\t 6.5 & 0.31 & 0.14 &  7.50 & 0.044 & 34 & 133 & 0.9955 & 3.22 & 0.50 &  9.5 & 5\\\\\n\t 6.2 & 0.66 & 0.48 &  1.20 & 0.029 & 29 &  75 & 0.9892 & 3.33 & 0.39 & 12.8 & 8\\\\\n\t 6.4 & 0.31 & 0.38 &  2.90 & 0.038 & 19 & 102 & 0.9912 & 3.17 & 0.35 & 11.0 & 7\\\\\n\t 6.8 & 0.26 & 0.42 &  1.70 & 0.049 & 41 & 122 & 0.9930 & 3.47 & 0.48 & 10.5 & 8\\\\\n\t 7.6 & 0.67 & 0.14 &  1.50 & 0.074 & 25 & 168 & 0.9937 & 3.05 & 0.51 &  9.3 & 5\\\\\n\t 6.6 & 0.27 & 0.41 &  1.30 & 0.052 & 16 & 142 & 0.9951 & 3.42 & 0.47 & 10.0 & 6\\\\\n\t 7.0 & 0.25 & 0.32 &  9.00 & 0.046 & 56 & 245 & 0.9955 & 3.25 & 0.50 & 10.4 & 6\\\\\n\t 6.9 & 0.24 & 0.35 &  1.00 & 0.052 & 35 & 146 & 0.9930 & 3.45 & 0.44 & 10.0 & 6\\\\\n\t 7.0 & 0.28 & 0.39 &  8.70 & 0.051 & 32 & 141 & 0.9961 & 3.38 & 0.53 & 10.5 & 6\\\\\n\t 7.4 & 0.27 & 0.48 &  1.10 & 0.047 & 17 & 132 & 0.9914 & 3.19 & 0.49 & 11.6 & 6\\\\\n\t 7.2 & 0.32 & 0.36 &  2.00 & 0.033 & 37 & 114 & 0.9906 & 3.10 & 0.71 & 12.3 & 7\\\\\n\t ⋮ & ⋮ & ⋮ & ⋮ & ⋮ & ⋮ & ⋮ & ⋮ & ⋮ & ⋮ & ⋮ & ⋮\\\\\n\t 5.8 & 0.230 & 0.31 &  4.50 & 0.046 & 42 & 124 & 0.99324 & 3.31 & 0.64 & 10.800000 & 6\\\\\n\t 6.6 & 0.240 & 0.33 & 10.10 & 0.032 &  8 &  81 & 0.99626 & 3.19 & 0.51 &  9.800000 & 6\\\\\n\t 6.1 & 0.320 & 0.28 &  6.60 & 0.021 & 29 & 132 & 0.99188 & 3.15 & 0.36 & 11.450000 & 7\\\\\n\t 5.0 & 0.200 & 0.40 &  1.90 & 0.015 & 20 &  98 & 0.98970 & 3.37 & 0.55 & 12.050000 & 6\\\\\n\t 6.0 & 0.420 & 0.41 & 12.40 & 0.032 & 50 & 179 & 0.99622 & 3.14 & 0.60 &  9.700000 & 5\\\\\n\t 5.7 & 0.210 & 0.32 &  1.60 & 0.030 & 33 & 122 & 0.99044 & 3.33 & 0.52 & 11.900000 & 6\\\\\n\t 5.6 & 0.200 & 0.36 &  2.50 & 0.048 & 16 & 125 & 0.99282 & 3.49 & 0.49 & 10.000000 & 6\\\\\n\t 7.4 & 0.220 & 0.26 &  1.20 & 0.035 & 18 &  97 & 0.99245 & 3.12 & 0.41 &  9.700000 & 6\\\\\n\t 6.2 & 0.380 & 0.42 &  2.50 & 0.038 & 34 & 117 & 0.99132 & 3.36 & 0.59 & 11.600000 & 7\\\\\n\t 5.9 & 0.540 & 0.00 &  0.80 & 0.032 & 12 &  82 & 0.99286 & 3.25 & 0.36 &  8.800000 & 5\\\\\n\t 6.2 & 0.530 & 0.02 &  0.90 & 0.035 &  6 &  81 & 0.99234 & 3.24 & 0.35 &  9.500000 & 4\\\\\n\t 6.6 & 0.340 & 0.40 &  8.10 & 0.046 & 68 & 170 & 0.99494 & 3.15 & 0.50 &  9.533333 & 6\\\\\n\t 6.6 & 0.340 & 0.40 &  8.10 & 0.046 & 68 & 170 & 0.99494 & 3.15 & 0.50 &  9.533333 & 6\\\\\n\t 5.0 & 0.235 & 0.27 & 11.75 & 0.030 & 34 & 118 & 0.99540 & 3.07 & 0.50 &  9.400000 & 6\\\\\n\t 5.5 & 0.320 & 0.13 &  1.30 & 0.037 & 45 & 156 & 0.99184 & 3.26 & 0.38 & 10.700000 & 5\\\\\n\t 4.9 & 0.470 & 0.17 &  1.90 & 0.035 & 60 & 148 & 0.98964 & 3.27 & 0.35 & 11.500000 & 6\\\\\n\t 6.5 & 0.330 & 0.38 &  8.30 & 0.048 & 68 & 174 & 0.99492 & 3.14 & 0.50 &  9.600000 & 5\\\\\n\t 6.6 & 0.340 & 0.40 &  8.10 & 0.046 & 68 & 170 & 0.99494 & 3.15 & 0.50 &  9.550000 & 6\\\\\n\t 6.2 & 0.210 & 0.28 &  5.70 & 0.028 & 45 & 121 & 0.99168 & 3.21 & 1.08 & 12.150000 & 7\\\\\n\t 6.2 & 0.410 & 0.22 &  1.90 & 0.023 &  5 &  56 & 0.98928 & 3.04 & 0.79 & 13.000000 & 7\\\\\n\t 6.8 & 0.220 & 0.36 &  1.20 & 0.052 & 38 & 127 & 0.99330 & 3.04 & 0.54 &  9.200000 & 5\\\\\n\t 4.9 & 0.235 & 0.27 & 11.75 & 0.030 & 34 & 118 & 0.99540 & 3.07 & 0.50 &  9.400000 & 6\\\\\n\t 6.1 & 0.340 & 0.29 &  2.20 & 0.036 & 25 & 100 & 0.98938 & 3.06 & 0.44 & 11.800000 & 6\\\\\n\t 5.7 & 0.210 & 0.32 &  0.90 & 0.038 & 38 & 121 & 0.99074 & 3.24 & 0.46 & 10.600000 & 6\\\\\n\t 6.5 & 0.230 & 0.38 &  1.30 & 0.032 & 29 & 112 & 0.99298 & 3.29 & 0.54 &  9.700000 & 5\\\\\n\t 6.2 & 0.210 & 0.29 &  1.60 & 0.039 & 24 &  92 & 0.99114 & 3.27 & 0.50 & 11.200000 & 6\\\\\n\t 6.6 & 0.320 & 0.36 &  8.00 & 0.047 & 57 & 168 & 0.99490 & 3.15 & 0.46 &  9.600000 & 5\\\\\n\t 6.5 & 0.240 & 0.19 &  1.20 & 0.041 & 30 & 111 & 0.99254 & 2.99 & 0.46 &  9.400000 & 6\\\\\n\t 5.5 & 0.290 & 0.30 &  1.10 & 0.022 & 20 & 110 & 0.98869 & 3.34 & 0.38 & 12.800000 & 7\\\\\n\t 6.0 & 0.210 & 0.38 &  0.80 & 0.020 & 22 &  98 & 0.98941 & 3.26 & 0.32 & 11.800000 & 6\\\\\n\\end{tabular}\n",
            "text/markdown": "\nA data.frame: 4898 × 12\n\n| fixed.acidity &lt;dbl&gt; | volatile.acidity &lt;dbl&gt; | citric.acid &lt;dbl&gt; | residual.sugar &lt;dbl&gt; | chlorides &lt;dbl&gt; | free.sulfur.dioxide &lt;dbl&gt; | total.sulfur.dioxide &lt;dbl&gt; | density &lt;dbl&gt; | pH &lt;dbl&gt; | sulphates &lt;dbl&gt; | alcohol &lt;dbl&gt; | quality &lt;int&gt; |\n|---|---|---|---|---|---|---|---|---|---|---|---|\n| 7.0 | 0.27 | 0.36 | 20.70 | 0.045 | 45 | 170 | 1.0010 | 3.00 | 0.45 |  8.8 | 6 |\n| 6.3 | 0.30 | 0.34 |  1.60 | 0.049 | 14 | 132 | 0.9940 | 3.30 | 0.49 |  9.5 | 6 |\n| 8.1 | 0.28 | 0.40 |  6.90 | 0.050 | 30 |  97 | 0.9951 | 3.26 | 0.44 | 10.1 | 6 |\n| 7.2 | 0.23 | 0.32 |  8.50 | 0.058 | 47 | 186 | 0.9956 | 3.19 | 0.40 |  9.9 | 6 |\n| 7.2 | 0.23 | 0.32 |  8.50 | 0.058 | 47 | 186 | 0.9956 | 3.19 | 0.40 |  9.9 | 6 |\n| 8.1 | 0.28 | 0.40 |  6.90 | 0.050 | 30 |  97 | 0.9951 | 3.26 | 0.44 | 10.1 | 6 |\n| 6.2 | 0.32 | 0.16 |  7.00 | 0.045 | 30 | 136 | 0.9949 | 3.18 | 0.47 |  9.6 | 6 |\n| 7.0 | 0.27 | 0.36 | 20.70 | 0.045 | 45 | 170 | 1.0010 | 3.00 | 0.45 |  8.8 | 6 |\n| 6.3 | 0.30 | 0.34 |  1.60 | 0.049 | 14 | 132 | 0.9940 | 3.30 | 0.49 |  9.5 | 6 |\n| 8.1 | 0.22 | 0.43 |  1.50 | 0.044 | 28 | 129 | 0.9938 | 3.22 | 0.45 | 11.0 | 6 |\n| 8.1 | 0.27 | 0.41 |  1.45 | 0.033 | 11 |  63 | 0.9908 | 2.99 | 0.56 | 12.0 | 5 |\n| 8.6 | 0.23 | 0.40 |  4.20 | 0.035 | 17 | 109 | 0.9947 | 3.14 | 0.53 |  9.7 | 5 |\n| 7.9 | 0.18 | 0.37 |  1.20 | 0.040 | 16 |  75 | 0.9920 | 3.18 | 0.63 | 10.8 | 5 |\n| 6.6 | 0.16 | 0.40 |  1.50 | 0.044 | 48 | 143 | 0.9912 | 3.54 | 0.52 | 12.4 | 7 |\n| 8.3 | 0.42 | 0.62 | 19.25 | 0.040 | 41 | 172 | 1.0002 | 2.98 | 0.67 |  9.7 | 5 |\n| 6.6 | 0.17 | 0.38 |  1.50 | 0.032 | 28 | 112 | 0.9914 | 3.25 | 0.55 | 11.4 | 7 |\n| 6.3 | 0.48 | 0.04 |  1.10 | 0.046 | 30 |  99 | 0.9928 | 3.24 | 0.36 |  9.6 | 6 |\n| 6.2 | 0.66 | 0.48 |  1.20 | 0.029 | 29 |  75 | 0.9892 | 3.33 | 0.39 | 12.8 | 8 |\n| 7.4 | 0.34 | 0.42 |  1.10 | 0.033 | 17 | 171 | 0.9917 | 3.12 | 0.53 | 11.3 | 6 |\n| 6.5 | 0.31 | 0.14 |  7.50 | 0.044 | 34 | 133 | 0.9955 | 3.22 | 0.50 |  9.5 | 5 |\n| 6.2 | 0.66 | 0.48 |  1.20 | 0.029 | 29 |  75 | 0.9892 | 3.33 | 0.39 | 12.8 | 8 |\n| 6.4 | 0.31 | 0.38 |  2.90 | 0.038 | 19 | 102 | 0.9912 | 3.17 | 0.35 | 11.0 | 7 |\n| 6.8 | 0.26 | 0.42 |  1.70 | 0.049 | 41 | 122 | 0.9930 | 3.47 | 0.48 | 10.5 | 8 |\n| 7.6 | 0.67 | 0.14 |  1.50 | 0.074 | 25 | 168 | 0.9937 | 3.05 | 0.51 |  9.3 | 5 |\n| 6.6 | 0.27 | 0.41 |  1.30 | 0.052 | 16 | 142 | 0.9951 | 3.42 | 0.47 | 10.0 | 6 |\n| 7.0 | 0.25 | 0.32 |  9.00 | 0.046 | 56 | 245 | 0.9955 | 3.25 | 0.50 | 10.4 | 6 |\n| 6.9 | 0.24 | 0.35 |  1.00 | 0.052 | 35 | 146 | 0.9930 | 3.45 | 0.44 | 10.0 | 6 |\n| 7.0 | 0.28 | 0.39 |  8.70 | 0.051 | 32 | 141 | 0.9961 | 3.38 | 0.53 | 10.5 | 6 |\n| 7.4 | 0.27 | 0.48 |  1.10 | 0.047 | 17 | 132 | 0.9914 | 3.19 | 0.49 | 11.6 | 6 |\n| 7.2 | 0.32 | 0.36 |  2.00 | 0.033 | 37 | 114 | 0.9906 | 3.10 | 0.71 | 12.3 | 7 |\n| ⋮ | ⋮ | ⋮ | ⋮ | ⋮ | ⋮ | ⋮ | ⋮ | ⋮ | ⋮ | ⋮ | ⋮ |\n| 5.8 | 0.230 | 0.31 |  4.50 | 0.046 | 42 | 124 | 0.99324 | 3.31 | 0.64 | 10.800000 | 6 |\n| 6.6 | 0.240 | 0.33 | 10.10 | 0.032 |  8 |  81 | 0.99626 | 3.19 | 0.51 |  9.800000 | 6 |\n| 6.1 | 0.320 | 0.28 |  6.60 | 0.021 | 29 | 132 | 0.99188 | 3.15 | 0.36 | 11.450000 | 7 |\n| 5.0 | 0.200 | 0.40 |  1.90 | 0.015 | 20 |  98 | 0.98970 | 3.37 | 0.55 | 12.050000 | 6 |\n| 6.0 | 0.420 | 0.41 | 12.40 | 0.032 | 50 | 179 | 0.99622 | 3.14 | 0.60 |  9.700000 | 5 |\n| 5.7 | 0.210 | 0.32 |  1.60 | 0.030 | 33 | 122 | 0.99044 | 3.33 | 0.52 | 11.900000 | 6 |\n| 5.6 | 0.200 | 0.36 |  2.50 | 0.048 | 16 | 125 | 0.99282 | 3.49 | 0.49 | 10.000000 | 6 |\n| 7.4 | 0.220 | 0.26 |  1.20 | 0.035 | 18 |  97 | 0.99245 | 3.12 | 0.41 |  9.700000 | 6 |\n| 6.2 | 0.380 | 0.42 |  2.50 | 0.038 | 34 | 117 | 0.99132 | 3.36 | 0.59 | 11.600000 | 7 |\n| 5.9 | 0.540 | 0.00 |  0.80 | 0.032 | 12 |  82 | 0.99286 | 3.25 | 0.36 |  8.800000 | 5 |\n| 6.2 | 0.530 | 0.02 |  0.90 | 0.035 |  6 |  81 | 0.99234 | 3.24 | 0.35 |  9.500000 | 4 |\n| 6.6 | 0.340 | 0.40 |  8.10 | 0.046 | 68 | 170 | 0.99494 | 3.15 | 0.50 |  9.533333 | 6 |\n| 6.6 | 0.340 | 0.40 |  8.10 | 0.046 | 68 | 170 | 0.99494 | 3.15 | 0.50 |  9.533333 | 6 |\n| 5.0 | 0.235 | 0.27 | 11.75 | 0.030 | 34 | 118 | 0.99540 | 3.07 | 0.50 |  9.400000 | 6 |\n| 5.5 | 0.320 | 0.13 |  1.30 | 0.037 | 45 | 156 | 0.99184 | 3.26 | 0.38 | 10.700000 | 5 |\n| 4.9 | 0.470 | 0.17 |  1.90 | 0.035 | 60 | 148 | 0.98964 | 3.27 | 0.35 | 11.500000 | 6 |\n| 6.5 | 0.330 | 0.38 |  8.30 | 0.048 | 68 | 174 | 0.99492 | 3.14 | 0.50 |  9.600000 | 5 |\n| 6.6 | 0.340 | 0.40 |  8.10 | 0.046 | 68 | 170 | 0.99494 | 3.15 | 0.50 |  9.550000 | 6 |\n| 6.2 | 0.210 | 0.28 |  5.70 | 0.028 | 45 | 121 | 0.99168 | 3.21 | 1.08 | 12.150000 | 7 |\n| 6.2 | 0.410 | 0.22 |  1.90 | 0.023 |  5 |  56 | 0.98928 | 3.04 | 0.79 | 13.000000 | 7 |\n| 6.8 | 0.220 | 0.36 |  1.20 | 0.052 | 38 | 127 | 0.99330 | 3.04 | 0.54 |  9.200000 | 5 |\n| 4.9 | 0.235 | 0.27 | 11.75 | 0.030 | 34 | 118 | 0.99540 | 3.07 | 0.50 |  9.400000 | 6 |\n| 6.1 | 0.340 | 0.29 |  2.20 | 0.036 | 25 | 100 | 0.98938 | 3.06 | 0.44 | 11.800000 | 6 |\n| 5.7 | 0.210 | 0.32 |  0.90 | 0.038 | 38 | 121 | 0.99074 | 3.24 | 0.46 | 10.600000 | 6 |\n| 6.5 | 0.230 | 0.38 |  1.30 | 0.032 | 29 | 112 | 0.99298 | 3.29 | 0.54 |  9.700000 | 5 |\n| 6.2 | 0.210 | 0.29 |  1.60 | 0.039 | 24 |  92 | 0.99114 | 3.27 | 0.50 | 11.200000 | 6 |\n| 6.6 | 0.320 | 0.36 |  8.00 | 0.047 | 57 | 168 | 0.99490 | 3.15 | 0.46 |  9.600000 | 5 |\n| 6.5 | 0.240 | 0.19 |  1.20 | 0.041 | 30 | 111 | 0.99254 | 2.99 | 0.46 |  9.400000 | 6 |\n| 5.5 | 0.290 | 0.30 |  1.10 | 0.022 | 20 | 110 | 0.98869 | 3.34 | 0.38 | 12.800000 | 7 |\n| 6.0 | 0.210 | 0.38 |  0.80 | 0.020 | 22 |  98 | 0.98941 | 3.26 | 0.32 | 11.800000 | 6 |\n\n",
            "text/html": [
              "<table class=\"dataframe\">\n",
              "<caption>A data.frame: 4898 × 12</caption>\n",
              "<thead>\n",
              "\t<tr><th scope=col>fixed.acidity</th><th scope=col>volatile.acidity</th><th scope=col>citric.acid</th><th scope=col>residual.sugar</th><th scope=col>chlorides</th><th scope=col>free.sulfur.dioxide</th><th scope=col>total.sulfur.dioxide</th><th scope=col>density</th><th scope=col>pH</th><th scope=col>sulphates</th><th scope=col>alcohol</th><th scope=col>quality</th></tr>\n",
              "\t<tr><th scope=col>&lt;dbl&gt;</th><th scope=col>&lt;dbl&gt;</th><th scope=col>&lt;dbl&gt;</th><th scope=col>&lt;dbl&gt;</th><th scope=col>&lt;dbl&gt;</th><th scope=col>&lt;dbl&gt;</th><th scope=col>&lt;dbl&gt;</th><th scope=col>&lt;dbl&gt;</th><th scope=col>&lt;dbl&gt;</th><th scope=col>&lt;dbl&gt;</th><th scope=col>&lt;dbl&gt;</th><th scope=col>&lt;int&gt;</th></tr>\n",
              "</thead>\n",
              "<tbody>\n",
              "\t<tr><td>7.0</td><td>0.27</td><td>0.36</td><td>20.70</td><td>0.045</td><td>45</td><td>170</td><td>1.0010</td><td>3.00</td><td>0.45</td><td> 8.8</td><td>6</td></tr>\n",
              "\t<tr><td>6.3</td><td>0.30</td><td>0.34</td><td> 1.60</td><td>0.049</td><td>14</td><td>132</td><td>0.9940</td><td>3.30</td><td>0.49</td><td> 9.5</td><td>6</td></tr>\n",
              "\t<tr><td>8.1</td><td>0.28</td><td>0.40</td><td> 6.90</td><td>0.050</td><td>30</td><td> 97</td><td>0.9951</td><td>3.26</td><td>0.44</td><td>10.1</td><td>6</td></tr>\n",
              "\t<tr><td>7.2</td><td>0.23</td><td>0.32</td><td> 8.50</td><td>0.058</td><td>47</td><td>186</td><td>0.9956</td><td>3.19</td><td>0.40</td><td> 9.9</td><td>6</td></tr>\n",
              "\t<tr><td>7.2</td><td>0.23</td><td>0.32</td><td> 8.50</td><td>0.058</td><td>47</td><td>186</td><td>0.9956</td><td>3.19</td><td>0.40</td><td> 9.9</td><td>6</td></tr>\n",
              "\t<tr><td>8.1</td><td>0.28</td><td>0.40</td><td> 6.90</td><td>0.050</td><td>30</td><td> 97</td><td>0.9951</td><td>3.26</td><td>0.44</td><td>10.1</td><td>6</td></tr>\n",
              "\t<tr><td>6.2</td><td>0.32</td><td>0.16</td><td> 7.00</td><td>0.045</td><td>30</td><td>136</td><td>0.9949</td><td>3.18</td><td>0.47</td><td> 9.6</td><td>6</td></tr>\n",
              "\t<tr><td>7.0</td><td>0.27</td><td>0.36</td><td>20.70</td><td>0.045</td><td>45</td><td>170</td><td>1.0010</td><td>3.00</td><td>0.45</td><td> 8.8</td><td>6</td></tr>\n",
              "\t<tr><td>6.3</td><td>0.30</td><td>0.34</td><td> 1.60</td><td>0.049</td><td>14</td><td>132</td><td>0.9940</td><td>3.30</td><td>0.49</td><td> 9.5</td><td>6</td></tr>\n",
              "\t<tr><td>8.1</td><td>0.22</td><td>0.43</td><td> 1.50</td><td>0.044</td><td>28</td><td>129</td><td>0.9938</td><td>3.22</td><td>0.45</td><td>11.0</td><td>6</td></tr>\n",
              "\t<tr><td>8.1</td><td>0.27</td><td>0.41</td><td> 1.45</td><td>0.033</td><td>11</td><td> 63</td><td>0.9908</td><td>2.99</td><td>0.56</td><td>12.0</td><td>5</td></tr>\n",
              "\t<tr><td>8.6</td><td>0.23</td><td>0.40</td><td> 4.20</td><td>0.035</td><td>17</td><td>109</td><td>0.9947</td><td>3.14</td><td>0.53</td><td> 9.7</td><td>5</td></tr>\n",
              "\t<tr><td>7.9</td><td>0.18</td><td>0.37</td><td> 1.20</td><td>0.040</td><td>16</td><td> 75</td><td>0.9920</td><td>3.18</td><td>0.63</td><td>10.8</td><td>5</td></tr>\n",
              "\t<tr><td>6.6</td><td>0.16</td><td>0.40</td><td> 1.50</td><td>0.044</td><td>48</td><td>143</td><td>0.9912</td><td>3.54</td><td>0.52</td><td>12.4</td><td>7</td></tr>\n",
              "\t<tr><td>8.3</td><td>0.42</td><td>0.62</td><td>19.25</td><td>0.040</td><td>41</td><td>172</td><td>1.0002</td><td>2.98</td><td>0.67</td><td> 9.7</td><td>5</td></tr>\n",
              "\t<tr><td>6.6</td><td>0.17</td><td>0.38</td><td> 1.50</td><td>0.032</td><td>28</td><td>112</td><td>0.9914</td><td>3.25</td><td>0.55</td><td>11.4</td><td>7</td></tr>\n",
              "\t<tr><td>6.3</td><td>0.48</td><td>0.04</td><td> 1.10</td><td>0.046</td><td>30</td><td> 99</td><td>0.9928</td><td>3.24</td><td>0.36</td><td> 9.6</td><td>6</td></tr>\n",
              "\t<tr><td>6.2</td><td>0.66</td><td>0.48</td><td> 1.20</td><td>0.029</td><td>29</td><td> 75</td><td>0.9892</td><td>3.33</td><td>0.39</td><td>12.8</td><td>8</td></tr>\n",
              "\t<tr><td>7.4</td><td>0.34</td><td>0.42</td><td> 1.10</td><td>0.033</td><td>17</td><td>171</td><td>0.9917</td><td>3.12</td><td>0.53</td><td>11.3</td><td>6</td></tr>\n",
              "\t<tr><td>6.5</td><td>0.31</td><td>0.14</td><td> 7.50</td><td>0.044</td><td>34</td><td>133</td><td>0.9955</td><td>3.22</td><td>0.50</td><td> 9.5</td><td>5</td></tr>\n",
              "\t<tr><td>6.2</td><td>0.66</td><td>0.48</td><td> 1.20</td><td>0.029</td><td>29</td><td> 75</td><td>0.9892</td><td>3.33</td><td>0.39</td><td>12.8</td><td>8</td></tr>\n",
              "\t<tr><td>6.4</td><td>0.31</td><td>0.38</td><td> 2.90</td><td>0.038</td><td>19</td><td>102</td><td>0.9912</td><td>3.17</td><td>0.35</td><td>11.0</td><td>7</td></tr>\n",
              "\t<tr><td>6.8</td><td>0.26</td><td>0.42</td><td> 1.70</td><td>0.049</td><td>41</td><td>122</td><td>0.9930</td><td>3.47</td><td>0.48</td><td>10.5</td><td>8</td></tr>\n",
              "\t<tr><td>7.6</td><td>0.67</td><td>0.14</td><td> 1.50</td><td>0.074</td><td>25</td><td>168</td><td>0.9937</td><td>3.05</td><td>0.51</td><td> 9.3</td><td>5</td></tr>\n",
              "\t<tr><td>6.6</td><td>0.27</td><td>0.41</td><td> 1.30</td><td>0.052</td><td>16</td><td>142</td><td>0.9951</td><td>3.42</td><td>0.47</td><td>10.0</td><td>6</td></tr>\n",
              "\t<tr><td>7.0</td><td>0.25</td><td>0.32</td><td> 9.00</td><td>0.046</td><td>56</td><td>245</td><td>0.9955</td><td>3.25</td><td>0.50</td><td>10.4</td><td>6</td></tr>\n",
              "\t<tr><td>6.9</td><td>0.24</td><td>0.35</td><td> 1.00</td><td>0.052</td><td>35</td><td>146</td><td>0.9930</td><td>3.45</td><td>0.44</td><td>10.0</td><td>6</td></tr>\n",
              "\t<tr><td>7.0</td><td>0.28</td><td>0.39</td><td> 8.70</td><td>0.051</td><td>32</td><td>141</td><td>0.9961</td><td>3.38</td><td>0.53</td><td>10.5</td><td>6</td></tr>\n",
              "\t<tr><td>7.4</td><td>0.27</td><td>0.48</td><td> 1.10</td><td>0.047</td><td>17</td><td>132</td><td>0.9914</td><td>3.19</td><td>0.49</td><td>11.6</td><td>6</td></tr>\n",
              "\t<tr><td>7.2</td><td>0.32</td><td>0.36</td><td> 2.00</td><td>0.033</td><td>37</td><td>114</td><td>0.9906</td><td>3.10</td><td>0.71</td><td>12.3</td><td>7</td></tr>\n",
              "\t<tr><td>⋮</td><td>⋮</td><td>⋮</td><td>⋮</td><td>⋮</td><td>⋮</td><td>⋮</td><td>⋮</td><td>⋮</td><td>⋮</td><td>⋮</td><td>⋮</td></tr>\n",
              "\t<tr><td>5.8</td><td>0.230</td><td>0.31</td><td> 4.50</td><td>0.046</td><td>42</td><td>124</td><td>0.99324</td><td>3.31</td><td>0.64</td><td>10.800000</td><td>6</td></tr>\n",
              "\t<tr><td>6.6</td><td>0.240</td><td>0.33</td><td>10.10</td><td>0.032</td><td> 8</td><td> 81</td><td>0.99626</td><td>3.19</td><td>0.51</td><td> 9.800000</td><td>6</td></tr>\n",
              "\t<tr><td>6.1</td><td>0.320</td><td>0.28</td><td> 6.60</td><td>0.021</td><td>29</td><td>132</td><td>0.99188</td><td>3.15</td><td>0.36</td><td>11.450000</td><td>7</td></tr>\n",
              "\t<tr><td>5.0</td><td>0.200</td><td>0.40</td><td> 1.90</td><td>0.015</td><td>20</td><td> 98</td><td>0.98970</td><td>3.37</td><td>0.55</td><td>12.050000</td><td>6</td></tr>\n",
              "\t<tr><td>6.0</td><td>0.420</td><td>0.41</td><td>12.40</td><td>0.032</td><td>50</td><td>179</td><td>0.99622</td><td>3.14</td><td>0.60</td><td> 9.700000</td><td>5</td></tr>\n",
              "\t<tr><td>5.7</td><td>0.210</td><td>0.32</td><td> 1.60</td><td>0.030</td><td>33</td><td>122</td><td>0.99044</td><td>3.33</td><td>0.52</td><td>11.900000</td><td>6</td></tr>\n",
              "\t<tr><td>5.6</td><td>0.200</td><td>0.36</td><td> 2.50</td><td>0.048</td><td>16</td><td>125</td><td>0.99282</td><td>3.49</td><td>0.49</td><td>10.000000</td><td>6</td></tr>\n",
              "\t<tr><td>7.4</td><td>0.220</td><td>0.26</td><td> 1.20</td><td>0.035</td><td>18</td><td> 97</td><td>0.99245</td><td>3.12</td><td>0.41</td><td> 9.700000</td><td>6</td></tr>\n",
              "\t<tr><td>6.2</td><td>0.380</td><td>0.42</td><td> 2.50</td><td>0.038</td><td>34</td><td>117</td><td>0.99132</td><td>3.36</td><td>0.59</td><td>11.600000</td><td>7</td></tr>\n",
              "\t<tr><td>5.9</td><td>0.540</td><td>0.00</td><td> 0.80</td><td>0.032</td><td>12</td><td> 82</td><td>0.99286</td><td>3.25</td><td>0.36</td><td> 8.800000</td><td>5</td></tr>\n",
              "\t<tr><td>6.2</td><td>0.530</td><td>0.02</td><td> 0.90</td><td>0.035</td><td> 6</td><td> 81</td><td>0.99234</td><td>3.24</td><td>0.35</td><td> 9.500000</td><td>4</td></tr>\n",
              "\t<tr><td>6.6</td><td>0.340</td><td>0.40</td><td> 8.10</td><td>0.046</td><td>68</td><td>170</td><td>0.99494</td><td>3.15</td><td>0.50</td><td> 9.533333</td><td>6</td></tr>\n",
              "\t<tr><td>6.6</td><td>0.340</td><td>0.40</td><td> 8.10</td><td>0.046</td><td>68</td><td>170</td><td>0.99494</td><td>3.15</td><td>0.50</td><td> 9.533333</td><td>6</td></tr>\n",
              "\t<tr><td>5.0</td><td>0.235</td><td>0.27</td><td>11.75</td><td>0.030</td><td>34</td><td>118</td><td>0.99540</td><td>3.07</td><td>0.50</td><td> 9.400000</td><td>6</td></tr>\n",
              "\t<tr><td>5.5</td><td>0.320</td><td>0.13</td><td> 1.30</td><td>0.037</td><td>45</td><td>156</td><td>0.99184</td><td>3.26</td><td>0.38</td><td>10.700000</td><td>5</td></tr>\n",
              "\t<tr><td>4.9</td><td>0.470</td><td>0.17</td><td> 1.90</td><td>0.035</td><td>60</td><td>148</td><td>0.98964</td><td>3.27</td><td>0.35</td><td>11.500000</td><td>6</td></tr>\n",
              "\t<tr><td>6.5</td><td>0.330</td><td>0.38</td><td> 8.30</td><td>0.048</td><td>68</td><td>174</td><td>0.99492</td><td>3.14</td><td>0.50</td><td> 9.600000</td><td>5</td></tr>\n",
              "\t<tr><td>6.6</td><td>0.340</td><td>0.40</td><td> 8.10</td><td>0.046</td><td>68</td><td>170</td><td>0.99494</td><td>3.15</td><td>0.50</td><td> 9.550000</td><td>6</td></tr>\n",
              "\t<tr><td>6.2</td><td>0.210</td><td>0.28</td><td> 5.70</td><td>0.028</td><td>45</td><td>121</td><td>0.99168</td><td>3.21</td><td>1.08</td><td>12.150000</td><td>7</td></tr>\n",
              "\t<tr><td>6.2</td><td>0.410</td><td>0.22</td><td> 1.90</td><td>0.023</td><td> 5</td><td> 56</td><td>0.98928</td><td>3.04</td><td>0.79</td><td>13.000000</td><td>7</td></tr>\n",
              "\t<tr><td>6.8</td><td>0.220</td><td>0.36</td><td> 1.20</td><td>0.052</td><td>38</td><td>127</td><td>0.99330</td><td>3.04</td><td>0.54</td><td> 9.200000</td><td>5</td></tr>\n",
              "\t<tr><td>4.9</td><td>0.235</td><td>0.27</td><td>11.75</td><td>0.030</td><td>34</td><td>118</td><td>0.99540</td><td>3.07</td><td>0.50</td><td> 9.400000</td><td>6</td></tr>\n",
              "\t<tr><td>6.1</td><td>0.340</td><td>0.29</td><td> 2.20</td><td>0.036</td><td>25</td><td>100</td><td>0.98938</td><td>3.06</td><td>0.44</td><td>11.800000</td><td>6</td></tr>\n",
              "\t<tr><td>5.7</td><td>0.210</td><td>0.32</td><td> 0.90</td><td>0.038</td><td>38</td><td>121</td><td>0.99074</td><td>3.24</td><td>0.46</td><td>10.600000</td><td>6</td></tr>\n",
              "\t<tr><td>6.5</td><td>0.230</td><td>0.38</td><td> 1.30</td><td>0.032</td><td>29</td><td>112</td><td>0.99298</td><td>3.29</td><td>0.54</td><td> 9.700000</td><td>5</td></tr>\n",
              "\t<tr><td>6.2</td><td>0.210</td><td>0.29</td><td> 1.60</td><td>0.039</td><td>24</td><td> 92</td><td>0.99114</td><td>3.27</td><td>0.50</td><td>11.200000</td><td>6</td></tr>\n",
              "\t<tr><td>6.6</td><td>0.320</td><td>0.36</td><td> 8.00</td><td>0.047</td><td>57</td><td>168</td><td>0.99490</td><td>3.15</td><td>0.46</td><td> 9.600000</td><td>5</td></tr>\n",
              "\t<tr><td>6.5</td><td>0.240</td><td>0.19</td><td> 1.20</td><td>0.041</td><td>30</td><td>111</td><td>0.99254</td><td>2.99</td><td>0.46</td><td> 9.400000</td><td>6</td></tr>\n",
              "\t<tr><td>5.5</td><td>0.290</td><td>0.30</td><td> 1.10</td><td>0.022</td><td>20</td><td>110</td><td>0.98869</td><td>3.34</td><td>0.38</td><td>12.800000</td><td>7</td></tr>\n",
              "\t<tr><td>6.0</td><td>0.210</td><td>0.38</td><td> 0.80</td><td>0.020</td><td>22</td><td> 98</td><td>0.98941</td><td>3.26</td><td>0.32</td><td>11.800000</td><td>6</td></tr>\n",
              "</tbody>\n",
              "</table>\n"
            ]
          },
          "metadata": {
            "tags": []
          }
        }
      ]
    },
    {
      "cell_type": "code",
      "metadata": {
        "id": "CnCnYtcCljhi",
        "colab": {
          "base_uri": "https://localhost:8080/",
          "height": 1000
        },
        "outputId": "77599cfd-5db3-4b83-8c02-1b7d8f71c854"
      },
      "source": [
        "# Task1(12p)\n",
        "# In the task, use the data from 'http://archive.ics.uci.edu/ml/machine-learning-databases/statlog/german/german.data-numeric'\n",
        "# You can load the data using:\n",
        "read.fwf('http://archive.ics.uci.edu/ml/machine-learning-databases/statlog/german/german.data-numeric', widths = rep(4, 25), header = FALSE)\n",
        "\n",
        "# (1p) Rename 25th column to 'target'.It contains information about bank's clients default - 2 => client with a default, 1=> client with no default. Recode 'target' to mark client with default as 1 and 0 otherwise.\n",
        "# (3p) Check frequencies of 'target' values. How can we cope with unbalanced data? Name at least 3 solutions. Randomly undersample the data to have 50/50 proportions of 'target' values.\n",
        "# (1p) Divide balanced data into training (85%) and validation (15%) with seed equal to 32\n",
        "# (1p) Build logistic regression model with 'glm' function. We want to classify 'target' using all other features in a dataset.\n",
        "# (2p) Conduct feature selection using 'step' function. Use BIC (Bayesian Information Criterion) as model selection criterion. How many variables were removed from model compared to initial logistic regression?\n",
        "# (4p) Using model after feature selection, conduct cost-based threshold optimization on test data with False Positive cost equal to 2 and False Negative Equal to 5. What is the optimal cutoff threshold?"
      ],
      "execution_count": null,
      "outputs": [
        {
          "output_type": "display_data",
          "data": {
            "text/plain": [
              "     V1 V2 V3 V4  V5 V6 V7 V8 V9 V10 ⋯ V16 V17 V18 V19 V20 V21 V22 V23 V24 V25\n",
              "1    1   6 4   12 5  5  3  4  1  67  ⋯ 0   0   1   0   0   1   0   0   1   1  \n",
              "2    2  48 2   60 1  3  2  2  1  22  ⋯ 0   0   1   0   0   1   0   0   1   2  \n",
              "3    4  12 4   21 1  4  3  3  1  49  ⋯ 0   0   1   0   0   1   0   1   0   1  \n",
              "4    1  42 2   79 1  4  3  4  2  45  ⋯ 0   0   0   0   0   0   0   0   1   1  \n",
              "5    1  24 3   49 1  3  3  4  4  53  ⋯ 1   0   1   0   0   0   0   0   1   2  \n",
              "6    4  36 2   91 5  3  3  4  4  35  ⋯ 0   0   1   0   0   0   0   1   0   1  \n",
              "7    4  24 2   28 3  5  3  4  2  53  ⋯ 0   0   1   0   0   1   0   0   1   1  \n",
              "8    2  36 2   69 1  3  3  2  3  35  ⋯ 0   1   1   0   1   0   0   0   0   1  \n",
              "9    4  12 2   31 4  4  1  4  1  61  ⋯ 0   0   1   0   0   1   0   1   0   1  \n",
              "10   2  30 4   52 1  1  4  2  3  28  ⋯ 1   0   1   0   0   1   0   0   0   2  \n",
              "11   2  12 2   13 1  2  2  1  3  25  ⋯ 1   0   1   0   1   0   0   0   1   2  \n",
              "12   1  48 2   43 1  2  2  4  2  24  ⋯ 0   0   1   0   1   0   0   0   1   2  \n",
              "13   2  12 2   16 1  3  2  1  3  22  ⋯ 0   0   1   0   0   1   0   0   1   1  \n",
              "14   1  24 4   12 1  5  3  4  3  60  ⋯ 1   0   1   0   0   1   0   1   0   2  \n",
              "15   1  15 2   14 1  3  2  4  3  28  ⋯ 1   0   1   0   1   0   0   0   1   1  \n",
              "16   1  24 2   13 2  3  2  2  3  32  ⋯ 0   0   1   0   0   1   0   1   0   2  \n",
              "17   4  24 4   24 5  5  3  4  2  53  ⋯ 0   0   1   0   0   1   0   0   1   1  \n",
              "18   1  30 0   81 5  2  3  3  3  25  ⋯ 0   0   1   0   0   1   0   0   1   1  \n",
              "19   2  24 2  126 1  5  2  2  4  44  ⋯ 0   1   1   0   0   0   0   0   0   2  \n",
              "20   4  24 2   34 3  5  3  2  3  31  ⋯ 0   0   1   0   0   1   0   0   1   1  \n",
              "21   4   9 4   21 1  3  3  4  3  48  ⋯ 1   0   1   0   0   1   0   0   1   1  \n",
              "22   1   6 2   26 3  3  3  3  1  44  ⋯ 0   0   1   0   1   0   0   0   1   1  \n",
              "23   1  10 4   22 1  2  3  3  1  48  ⋯ 1   0   1   0   1   0   0   1   0   1  \n",
              "24   2  12 4   18 2  2  3  4  2  44  ⋯ 0   1   1   0   0   1   0   0   1   1  \n",
              "25   4  10 4   21 5  3  4  1  3  26  ⋯ 0   0   1   0   0   1   0   0   1   1  \n",
              "26   1   6 2   14 1  3  3  2  1  36  ⋯ 0   0   1   0   0   1   0   1   0   1  \n",
              "27   4   6 0    4 1  5  4  4  3  39  ⋯ 0   0   1   0   0   1   0   1   0   1  \n",
              "28   3  12 1    4 4  3  2  3  1  42  ⋯ 0   0   1   0   1   0   0   0   1   1  \n",
              "29   2   7 2   24 1  3  3  2  1  34  ⋯ 0   0   0   0   0   1   0   0   1   1  \n",
              "30   1  60 3   68 1  5  3  4  4  63  ⋯ 0   0   1   0   0   1   0   0   1   2  \n",
              "⋮    ⋮  ⋮  ⋮  ⋮   ⋮  ⋮  ⋮  ⋮  ⋮  ⋮   ⋱ ⋮   ⋮   ⋮   ⋮   ⋮   ⋮   ⋮   ⋮   ⋮   ⋮  \n",
              "971  2  15 2  15  2  3  3  2  1  22  ⋯ 0   0   0   0   0   1   0   0   1   1  \n",
              "972  4  24 2  74  1  3  3  4  2  43  ⋯ 1   0   1   0   0   1   0   1   0   1  \n",
              "973  1  24 1  12  1  1  2  4  4  29  ⋯ 1   0   0   1   1   0   1   0   0   2  \n",
              "974  1  60 2  73  1  5  3  4  4  36  ⋯ 0   0   0   1   1   0   0   0   1   2  \n",
              "975  4  30 4  28  1  3  2  2  3  33  ⋯ 0   0   1   0   0   1   0   0   1   1  \n",
              "976  3  24 2  13  3  3  2  3  3  57  ⋯ 0   0   1   0   0   1   0   1   0   1  \n",
              "977  2   6 2   8  1  3  2  3  1  64  ⋯ 0   0   0   0   0   1   0   0   1   1  \n",
              "978  2  18 3  24  5  5  3  2  2  42  ⋯ 0   0   1   0   0   1   0   0   1   1  \n",
              "979  4  24 3  25  1  5  3  4  3  47  ⋯ 1   0   1   0   0   1   0   1   0   2  \n",
              "980  2  15 1  13  2  3  4  2  2  25  ⋯ 1   0   1   0   1   0   0   0   1   2  \n",
              "981  2  30 4  84  1  4  3  2  2  49  ⋯ 0   0   1   0   0   1   0   0   1   2  \n",
              "982  4  48 2  48  1  1  3  2  3  33  ⋯ 0   0   1   0   1   0   0   0   0   2  \n",
              "983  3  21 2  29  2  3  2  1  3  28  ⋯ 1   0   1   0   0   1   0   0   0   1  \n",
              "984  1  36 2  82  1  3  3  2  2  26  ⋯ 0   1   1   0   0   1   0   0   1   2  \n",
              "985  4  24 4  20  1  4  3  2  2  30  ⋯ 0   0   1   0   0   1   0   1   0   1  \n",
              "986  1  15 4  14  1  3  2  3  2  25  ⋯ 0   0   1   0   1   0   0   0   1   1  \n",
              "987  3  42 0  63  1  2  1  1  2  33  ⋯ 0   0   1   0   0   1   0   0   1   1  \n",
              "988  4  13 2  14  2  1  2  4  1  64  ⋯ 0   0   1   0   0   1   0   0   1   1  \n",
              "989  1  24 2  66  1  1  3  2  4  29  ⋯ 0   1   1   0   0   0   0   0   0   1  \n",
              "990  2  24 4  17  1  5  3  2  2  48  ⋯ 0   0   1   0   0   1   0   1   0   1  \n",
              "991  4  12 4  36  5  2  3  1  2  37  ⋯ 0   0   1   0   0   1   0   1   0   1  \n",
              "992  4  15 1  16  2  5  3  4  3  34  ⋯ 0   0   1   0   0   1   0   1   0   1  \n",
              "993  1  18 2  19  5  4  4  4  3  23  ⋯ 0   0   1   0   1   0   0   1   0   1  \n",
              "994  1  36 2  40  1  1  3  3  2  30  ⋯ 0   0   1   0   0   1   0   0   0   1  \n",
              "995  4  12 2  24  5  5  3  3  3  50  ⋯ 1   0   1   0   0   1   0   0   1   1  \n",
              "996  4  12 2  17  1  4  2  4  1  31  ⋯ 0   0   1   0   0   1   0   1   0   1  \n",
              "997  1  30 2  39  1  3  1  4  2  40  ⋯ 0   1   1   0   0   1   0   0   0   1  \n",
              "998  4  12 2   8  1  5  3  4  3  38  ⋯ 0   0   1   0   0   1   0   0   1   1  \n",
              "999  1  45 2  18  1  3  3  4  4  23  ⋯ 0   0   1   0   0   0   0   0   1   2  \n",
              "1000 2  45 4  46  2  1  3  4  3  27  ⋯ 0   1   1   0   0   1   0   0   1   1  "
            ],
            "text/latex": "A data.frame: 1000 × 25\n\\begin{tabular}{lllllllllllllllllllll}\n V1 & V2 & V3 & V4 & V5 & V6 & V7 & V8 & V9 & V10 & ⋯ & V16 & V17 & V18 & V19 & V20 & V21 & V22 & V23 & V24 & V25\\\\\n <int> & <int> & <int> & <int> & <int> & <int> & <int> & <int> & <int> & <int> & ⋯ & <int> & <int> & <int> & <int> & <int> & <int> & <int> & <int> & <int> & <int>\\\\\n\\hline\n\t 1 &  6 & 4 &  12 & 5 & 5 & 3 & 4 & 1 & 67 & ⋯ & 0 & 0 & 1 & 0 & 0 & 1 & 0 & 0 & 1 & 1\\\\\n\t 2 & 48 & 2 &  60 & 1 & 3 & 2 & 2 & 1 & 22 & ⋯ & 0 & 0 & 1 & 0 & 0 & 1 & 0 & 0 & 1 & 2\\\\\n\t 4 & 12 & 4 &  21 & 1 & 4 & 3 & 3 & 1 & 49 & ⋯ & 0 & 0 & 1 & 0 & 0 & 1 & 0 & 1 & 0 & 1\\\\\n\t 1 & 42 & 2 &  79 & 1 & 4 & 3 & 4 & 2 & 45 & ⋯ & 0 & 0 & 0 & 0 & 0 & 0 & 0 & 0 & 1 & 1\\\\\n\t 1 & 24 & 3 &  49 & 1 & 3 & 3 & 4 & 4 & 53 & ⋯ & 1 & 0 & 1 & 0 & 0 & 0 & 0 & 0 & 1 & 2\\\\\n\t 4 & 36 & 2 &  91 & 5 & 3 & 3 & 4 & 4 & 35 & ⋯ & 0 & 0 & 1 & 0 & 0 & 0 & 0 & 1 & 0 & 1\\\\\n\t 4 & 24 & 2 &  28 & 3 & 5 & 3 & 4 & 2 & 53 & ⋯ & 0 & 0 & 1 & 0 & 0 & 1 & 0 & 0 & 1 & 1\\\\\n\t 2 & 36 & 2 &  69 & 1 & 3 & 3 & 2 & 3 & 35 & ⋯ & 0 & 1 & 1 & 0 & 1 & 0 & 0 & 0 & 0 & 1\\\\\n\t 4 & 12 & 2 &  31 & 4 & 4 & 1 & 4 & 1 & 61 & ⋯ & 0 & 0 & 1 & 0 & 0 & 1 & 0 & 1 & 0 & 1\\\\\n\t 2 & 30 & 4 &  52 & 1 & 1 & 4 & 2 & 3 & 28 & ⋯ & 1 & 0 & 1 & 0 & 0 & 1 & 0 & 0 & 0 & 2\\\\\n\t 2 & 12 & 2 &  13 & 1 & 2 & 2 & 1 & 3 & 25 & ⋯ & 1 & 0 & 1 & 0 & 1 & 0 & 0 & 0 & 1 & 2\\\\\n\t 1 & 48 & 2 &  43 & 1 & 2 & 2 & 4 & 2 & 24 & ⋯ & 0 & 0 & 1 & 0 & 1 & 0 & 0 & 0 & 1 & 2\\\\\n\t 2 & 12 & 2 &  16 & 1 & 3 & 2 & 1 & 3 & 22 & ⋯ & 0 & 0 & 1 & 0 & 0 & 1 & 0 & 0 & 1 & 1\\\\\n\t 1 & 24 & 4 &  12 & 1 & 5 & 3 & 4 & 3 & 60 & ⋯ & 1 & 0 & 1 & 0 & 0 & 1 & 0 & 1 & 0 & 2\\\\\n\t 1 & 15 & 2 &  14 & 1 & 3 & 2 & 4 & 3 & 28 & ⋯ & 1 & 0 & 1 & 0 & 1 & 0 & 0 & 0 & 1 & 1\\\\\n\t 1 & 24 & 2 &  13 & 2 & 3 & 2 & 2 & 3 & 32 & ⋯ & 0 & 0 & 1 & 0 & 0 & 1 & 0 & 1 & 0 & 2\\\\\n\t 4 & 24 & 4 &  24 & 5 & 5 & 3 & 4 & 2 & 53 & ⋯ & 0 & 0 & 1 & 0 & 0 & 1 & 0 & 0 & 1 & 1\\\\\n\t 1 & 30 & 0 &  81 & 5 & 2 & 3 & 3 & 3 & 25 & ⋯ & 0 & 0 & 1 & 0 & 0 & 1 & 0 & 0 & 1 & 1\\\\\n\t 2 & 24 & 2 & 126 & 1 & 5 & 2 & 2 & 4 & 44 & ⋯ & 0 & 1 & 1 & 0 & 0 & 0 & 0 & 0 & 0 & 2\\\\\n\t 4 & 24 & 2 &  34 & 3 & 5 & 3 & 2 & 3 & 31 & ⋯ & 0 & 0 & 1 & 0 & 0 & 1 & 0 & 0 & 1 & 1\\\\\n\t 4 &  9 & 4 &  21 & 1 & 3 & 3 & 4 & 3 & 48 & ⋯ & 1 & 0 & 1 & 0 & 0 & 1 & 0 & 0 & 1 & 1\\\\\n\t 1 &  6 & 2 &  26 & 3 & 3 & 3 & 3 & 1 & 44 & ⋯ & 0 & 0 & 1 & 0 & 1 & 0 & 0 & 0 & 1 & 1\\\\\n\t 1 & 10 & 4 &  22 & 1 & 2 & 3 & 3 & 1 & 48 & ⋯ & 1 & 0 & 1 & 0 & 1 & 0 & 0 & 1 & 0 & 1\\\\\n\t 2 & 12 & 4 &  18 & 2 & 2 & 3 & 4 & 2 & 44 & ⋯ & 0 & 1 & 1 & 0 & 0 & 1 & 0 & 0 & 1 & 1\\\\\n\t 4 & 10 & 4 &  21 & 5 & 3 & 4 & 1 & 3 & 26 & ⋯ & 0 & 0 & 1 & 0 & 0 & 1 & 0 & 0 & 1 & 1\\\\\n\t 1 &  6 & 2 &  14 & 1 & 3 & 3 & 2 & 1 & 36 & ⋯ & 0 & 0 & 1 & 0 & 0 & 1 & 0 & 1 & 0 & 1\\\\\n\t 4 &  6 & 0 &   4 & 1 & 5 & 4 & 4 & 3 & 39 & ⋯ & 0 & 0 & 1 & 0 & 0 & 1 & 0 & 1 & 0 & 1\\\\\n\t 3 & 12 & 1 &   4 & 4 & 3 & 2 & 3 & 1 & 42 & ⋯ & 0 & 0 & 1 & 0 & 1 & 0 & 0 & 0 & 1 & 1\\\\\n\t 2 &  7 & 2 &  24 & 1 & 3 & 3 & 2 & 1 & 34 & ⋯ & 0 & 0 & 0 & 0 & 0 & 1 & 0 & 0 & 1 & 1\\\\\n\t 1 & 60 & 3 &  68 & 1 & 5 & 3 & 4 & 4 & 63 & ⋯ & 0 & 0 & 1 & 0 & 0 & 1 & 0 & 0 & 1 & 2\\\\\n\t ⋮ & ⋮ & ⋮ & ⋮ & ⋮ & ⋮ & ⋮ & ⋮ & ⋮ & ⋮ & ⋱ & ⋮ & ⋮ & ⋮ & ⋮ & ⋮ & ⋮ & ⋮ & ⋮ & ⋮ & ⋮\\\\\n\t 2 & 15 & 2 & 15 & 2 & 3 & 3 & 2 & 1 & 22 & ⋯ & 0 & 0 & 0 & 0 & 0 & 1 & 0 & 0 & 1 & 1\\\\\n\t 4 & 24 & 2 & 74 & 1 & 3 & 3 & 4 & 2 & 43 & ⋯ & 1 & 0 & 1 & 0 & 0 & 1 & 0 & 1 & 0 & 1\\\\\n\t 1 & 24 & 1 & 12 & 1 & 1 & 2 & 4 & 4 & 29 & ⋯ & 1 & 0 & 0 & 1 & 1 & 0 & 1 & 0 & 0 & 2\\\\\n\t 1 & 60 & 2 & 73 & 1 & 5 & 3 & 4 & 4 & 36 & ⋯ & 0 & 0 & 0 & 1 & 1 & 0 & 0 & 0 & 1 & 2\\\\\n\t 4 & 30 & 4 & 28 & 1 & 3 & 2 & 2 & 3 & 33 & ⋯ & 0 & 0 & 1 & 0 & 0 & 1 & 0 & 0 & 1 & 1\\\\\n\t 3 & 24 & 2 & 13 & 3 & 3 & 2 & 3 & 3 & 57 & ⋯ & 0 & 0 & 1 & 0 & 0 & 1 & 0 & 1 & 0 & 1\\\\\n\t 2 &  6 & 2 &  8 & 1 & 3 & 2 & 3 & 1 & 64 & ⋯ & 0 & 0 & 0 & 0 & 0 & 1 & 0 & 0 & 1 & 1\\\\\n\t 2 & 18 & 3 & 24 & 5 & 5 & 3 & 2 & 2 & 42 & ⋯ & 0 & 0 & 1 & 0 & 0 & 1 & 0 & 0 & 1 & 1\\\\\n\t 4 & 24 & 3 & 25 & 1 & 5 & 3 & 4 & 3 & 47 & ⋯ & 1 & 0 & 1 & 0 & 0 & 1 & 0 & 1 & 0 & 2\\\\\n\t 2 & 15 & 1 & 13 & 2 & 3 & 4 & 2 & 2 & 25 & ⋯ & 1 & 0 & 1 & 0 & 1 & 0 & 0 & 0 & 1 & 2\\\\\n\t 2 & 30 & 4 & 84 & 1 & 4 & 3 & 2 & 2 & 49 & ⋯ & 0 & 0 & 1 & 0 & 0 & 1 & 0 & 0 & 1 & 2\\\\\n\t 4 & 48 & 2 & 48 & 1 & 1 & 3 & 2 & 3 & 33 & ⋯ & 0 & 0 & 1 & 0 & 1 & 0 & 0 & 0 & 0 & 2\\\\\n\t 3 & 21 & 2 & 29 & 2 & 3 & 2 & 1 & 3 & 28 & ⋯ & 1 & 0 & 1 & 0 & 0 & 1 & 0 & 0 & 0 & 1\\\\\n\t 1 & 36 & 2 & 82 & 1 & 3 & 3 & 2 & 2 & 26 & ⋯ & 0 & 1 & 1 & 0 & 0 & 1 & 0 & 0 & 1 & 2\\\\\n\t 4 & 24 & 4 & 20 & 1 & 4 & 3 & 2 & 2 & 30 & ⋯ & 0 & 0 & 1 & 0 & 0 & 1 & 0 & 1 & 0 & 1\\\\\n\t 1 & 15 & 4 & 14 & 1 & 3 & 2 & 3 & 2 & 25 & ⋯ & 0 & 0 & 1 & 0 & 1 & 0 & 0 & 0 & 1 & 1\\\\\n\t 3 & 42 & 0 & 63 & 1 & 2 & 1 & 1 & 2 & 33 & ⋯ & 0 & 0 & 1 & 0 & 0 & 1 & 0 & 0 & 1 & 1\\\\\n\t 4 & 13 & 2 & 14 & 2 & 1 & 2 & 4 & 1 & 64 & ⋯ & 0 & 0 & 1 & 0 & 0 & 1 & 0 & 0 & 1 & 1\\\\\n\t 1 & 24 & 2 & 66 & 1 & 1 & 3 & 2 & 4 & 29 & ⋯ & 0 & 1 & 1 & 0 & 0 & 0 & 0 & 0 & 0 & 1\\\\\n\t 2 & 24 & 4 & 17 & 1 & 5 & 3 & 2 & 2 & 48 & ⋯ & 0 & 0 & 1 & 0 & 0 & 1 & 0 & 1 & 0 & 1\\\\\n\t 4 & 12 & 4 & 36 & 5 & 2 & 3 & 1 & 2 & 37 & ⋯ & 0 & 0 & 1 & 0 & 0 & 1 & 0 & 1 & 0 & 1\\\\\n\t 4 & 15 & 1 & 16 & 2 & 5 & 3 & 4 & 3 & 34 & ⋯ & 0 & 0 & 1 & 0 & 0 & 1 & 0 & 1 & 0 & 1\\\\\n\t 1 & 18 & 2 & 19 & 5 & 4 & 4 & 4 & 3 & 23 & ⋯ & 0 & 0 & 1 & 0 & 1 & 0 & 0 & 1 & 0 & 1\\\\\n\t 1 & 36 & 2 & 40 & 1 & 1 & 3 & 3 & 2 & 30 & ⋯ & 0 & 0 & 1 & 0 & 0 & 1 & 0 & 0 & 0 & 1\\\\\n\t 4 & 12 & 2 & 24 & 5 & 5 & 3 & 3 & 3 & 50 & ⋯ & 1 & 0 & 1 & 0 & 0 & 1 & 0 & 0 & 1 & 1\\\\\n\t 4 & 12 & 2 & 17 & 1 & 4 & 2 & 4 & 1 & 31 & ⋯ & 0 & 0 & 1 & 0 & 0 & 1 & 0 & 1 & 0 & 1\\\\\n\t 1 & 30 & 2 & 39 & 1 & 3 & 1 & 4 & 2 & 40 & ⋯ & 0 & 1 & 1 & 0 & 0 & 1 & 0 & 0 & 0 & 1\\\\\n\t 4 & 12 & 2 &  8 & 1 & 5 & 3 & 4 & 3 & 38 & ⋯ & 0 & 0 & 1 & 0 & 0 & 1 & 0 & 0 & 1 & 1\\\\\n\t 1 & 45 & 2 & 18 & 1 & 3 & 3 & 4 & 4 & 23 & ⋯ & 0 & 0 & 1 & 0 & 0 & 0 & 0 & 0 & 1 & 2\\\\\n\t 2 & 45 & 4 & 46 & 2 & 1 & 3 & 4 & 3 & 27 & ⋯ & 0 & 1 & 1 & 0 & 0 & 1 & 0 & 0 & 1 & 1\\\\\n\\end{tabular}\n",
            "text/markdown": "\nA data.frame: 1000 × 25\n\n| V1 &lt;int&gt; | V2 &lt;int&gt; | V3 &lt;int&gt; | V4 &lt;int&gt; | V5 &lt;int&gt; | V6 &lt;int&gt; | V7 &lt;int&gt; | V8 &lt;int&gt; | V9 &lt;int&gt; | V10 &lt;int&gt; | ⋯ ⋯ | V16 &lt;int&gt; | V17 &lt;int&gt; | V18 &lt;int&gt; | V19 &lt;int&gt; | V20 &lt;int&gt; | V21 &lt;int&gt; | V22 &lt;int&gt; | V23 &lt;int&gt; | V24 &lt;int&gt; | V25 &lt;int&gt; |\n|---|---|---|---|---|---|---|---|---|---|---|---|---|---|---|---|---|---|---|---|---|\n| 1 |  6 | 4 |  12 | 5 | 5 | 3 | 4 | 1 | 67 | ⋯ | 0 | 0 | 1 | 0 | 0 | 1 | 0 | 0 | 1 | 1 |\n| 2 | 48 | 2 |  60 | 1 | 3 | 2 | 2 | 1 | 22 | ⋯ | 0 | 0 | 1 | 0 | 0 | 1 | 0 | 0 | 1 | 2 |\n| 4 | 12 | 4 |  21 | 1 | 4 | 3 | 3 | 1 | 49 | ⋯ | 0 | 0 | 1 | 0 | 0 | 1 | 0 | 1 | 0 | 1 |\n| 1 | 42 | 2 |  79 | 1 | 4 | 3 | 4 | 2 | 45 | ⋯ | 0 | 0 | 0 | 0 | 0 | 0 | 0 | 0 | 1 | 1 |\n| 1 | 24 | 3 |  49 | 1 | 3 | 3 | 4 | 4 | 53 | ⋯ | 1 | 0 | 1 | 0 | 0 | 0 | 0 | 0 | 1 | 2 |\n| 4 | 36 | 2 |  91 | 5 | 3 | 3 | 4 | 4 | 35 | ⋯ | 0 | 0 | 1 | 0 | 0 | 0 | 0 | 1 | 0 | 1 |\n| 4 | 24 | 2 |  28 | 3 | 5 | 3 | 4 | 2 | 53 | ⋯ | 0 | 0 | 1 | 0 | 0 | 1 | 0 | 0 | 1 | 1 |\n| 2 | 36 | 2 |  69 | 1 | 3 | 3 | 2 | 3 | 35 | ⋯ | 0 | 1 | 1 | 0 | 1 | 0 | 0 | 0 | 0 | 1 |\n| 4 | 12 | 2 |  31 | 4 | 4 | 1 | 4 | 1 | 61 | ⋯ | 0 | 0 | 1 | 0 | 0 | 1 | 0 | 1 | 0 | 1 |\n| 2 | 30 | 4 |  52 | 1 | 1 | 4 | 2 | 3 | 28 | ⋯ | 1 | 0 | 1 | 0 | 0 | 1 | 0 | 0 | 0 | 2 |\n| 2 | 12 | 2 |  13 | 1 | 2 | 2 | 1 | 3 | 25 | ⋯ | 1 | 0 | 1 | 0 | 1 | 0 | 0 | 0 | 1 | 2 |\n| 1 | 48 | 2 |  43 | 1 | 2 | 2 | 4 | 2 | 24 | ⋯ | 0 | 0 | 1 | 0 | 1 | 0 | 0 | 0 | 1 | 2 |\n| 2 | 12 | 2 |  16 | 1 | 3 | 2 | 1 | 3 | 22 | ⋯ | 0 | 0 | 1 | 0 | 0 | 1 | 0 | 0 | 1 | 1 |\n| 1 | 24 | 4 |  12 | 1 | 5 | 3 | 4 | 3 | 60 | ⋯ | 1 | 0 | 1 | 0 | 0 | 1 | 0 | 1 | 0 | 2 |\n| 1 | 15 | 2 |  14 | 1 | 3 | 2 | 4 | 3 | 28 | ⋯ | 1 | 0 | 1 | 0 | 1 | 0 | 0 | 0 | 1 | 1 |\n| 1 | 24 | 2 |  13 | 2 | 3 | 2 | 2 | 3 | 32 | ⋯ | 0 | 0 | 1 | 0 | 0 | 1 | 0 | 1 | 0 | 2 |\n| 4 | 24 | 4 |  24 | 5 | 5 | 3 | 4 | 2 | 53 | ⋯ | 0 | 0 | 1 | 0 | 0 | 1 | 0 | 0 | 1 | 1 |\n| 1 | 30 | 0 |  81 | 5 | 2 | 3 | 3 | 3 | 25 | ⋯ | 0 | 0 | 1 | 0 | 0 | 1 | 0 | 0 | 1 | 1 |\n| 2 | 24 | 2 | 126 | 1 | 5 | 2 | 2 | 4 | 44 | ⋯ | 0 | 1 | 1 | 0 | 0 | 0 | 0 | 0 | 0 | 2 |\n| 4 | 24 | 2 |  34 | 3 | 5 | 3 | 2 | 3 | 31 | ⋯ | 0 | 0 | 1 | 0 | 0 | 1 | 0 | 0 | 1 | 1 |\n| 4 |  9 | 4 |  21 | 1 | 3 | 3 | 4 | 3 | 48 | ⋯ | 1 | 0 | 1 | 0 | 0 | 1 | 0 | 0 | 1 | 1 |\n| 1 |  6 | 2 |  26 | 3 | 3 | 3 | 3 | 1 | 44 | ⋯ | 0 | 0 | 1 | 0 | 1 | 0 | 0 | 0 | 1 | 1 |\n| 1 | 10 | 4 |  22 | 1 | 2 | 3 | 3 | 1 | 48 | ⋯ | 1 | 0 | 1 | 0 | 1 | 0 | 0 | 1 | 0 | 1 |\n| 2 | 12 | 4 |  18 | 2 | 2 | 3 | 4 | 2 | 44 | ⋯ | 0 | 1 | 1 | 0 | 0 | 1 | 0 | 0 | 1 | 1 |\n| 4 | 10 | 4 |  21 | 5 | 3 | 4 | 1 | 3 | 26 | ⋯ | 0 | 0 | 1 | 0 | 0 | 1 | 0 | 0 | 1 | 1 |\n| 1 |  6 | 2 |  14 | 1 | 3 | 3 | 2 | 1 | 36 | ⋯ | 0 | 0 | 1 | 0 | 0 | 1 | 0 | 1 | 0 | 1 |\n| 4 |  6 | 0 |   4 | 1 | 5 | 4 | 4 | 3 | 39 | ⋯ | 0 | 0 | 1 | 0 | 0 | 1 | 0 | 1 | 0 | 1 |\n| 3 | 12 | 1 |   4 | 4 | 3 | 2 | 3 | 1 | 42 | ⋯ | 0 | 0 | 1 | 0 | 1 | 0 | 0 | 0 | 1 | 1 |\n| 2 |  7 | 2 |  24 | 1 | 3 | 3 | 2 | 1 | 34 | ⋯ | 0 | 0 | 0 | 0 | 0 | 1 | 0 | 0 | 1 | 1 |\n| 1 | 60 | 3 |  68 | 1 | 5 | 3 | 4 | 4 | 63 | ⋯ | 0 | 0 | 1 | 0 | 0 | 1 | 0 | 0 | 1 | 2 |\n| ⋮ | ⋮ | ⋮ | ⋮ | ⋮ | ⋮ | ⋮ | ⋮ | ⋮ | ⋮ | ⋱ | ⋮ | ⋮ | ⋮ | ⋮ | ⋮ | ⋮ | ⋮ | ⋮ | ⋮ | ⋮ |\n| 2 | 15 | 2 | 15 | 2 | 3 | 3 | 2 | 1 | 22 | ⋯ | 0 | 0 | 0 | 0 | 0 | 1 | 0 | 0 | 1 | 1 |\n| 4 | 24 | 2 | 74 | 1 | 3 | 3 | 4 | 2 | 43 | ⋯ | 1 | 0 | 1 | 0 | 0 | 1 | 0 | 1 | 0 | 1 |\n| 1 | 24 | 1 | 12 | 1 | 1 | 2 | 4 | 4 | 29 | ⋯ | 1 | 0 | 0 | 1 | 1 | 0 | 1 | 0 | 0 | 2 |\n| 1 | 60 | 2 | 73 | 1 | 5 | 3 | 4 | 4 | 36 | ⋯ | 0 | 0 | 0 | 1 | 1 | 0 | 0 | 0 | 1 | 2 |\n| 4 | 30 | 4 | 28 | 1 | 3 | 2 | 2 | 3 | 33 | ⋯ | 0 | 0 | 1 | 0 | 0 | 1 | 0 | 0 | 1 | 1 |\n| 3 | 24 | 2 | 13 | 3 | 3 | 2 | 3 | 3 | 57 | ⋯ | 0 | 0 | 1 | 0 | 0 | 1 | 0 | 1 | 0 | 1 |\n| 2 |  6 | 2 |  8 | 1 | 3 | 2 | 3 | 1 | 64 | ⋯ | 0 | 0 | 0 | 0 | 0 | 1 | 0 | 0 | 1 | 1 |\n| 2 | 18 | 3 | 24 | 5 | 5 | 3 | 2 | 2 | 42 | ⋯ | 0 | 0 | 1 | 0 | 0 | 1 | 0 | 0 | 1 | 1 |\n| 4 | 24 | 3 | 25 | 1 | 5 | 3 | 4 | 3 | 47 | ⋯ | 1 | 0 | 1 | 0 | 0 | 1 | 0 | 1 | 0 | 2 |\n| 2 | 15 | 1 | 13 | 2 | 3 | 4 | 2 | 2 | 25 | ⋯ | 1 | 0 | 1 | 0 | 1 | 0 | 0 | 0 | 1 | 2 |\n| 2 | 30 | 4 | 84 | 1 | 4 | 3 | 2 | 2 | 49 | ⋯ | 0 | 0 | 1 | 0 | 0 | 1 | 0 | 0 | 1 | 2 |\n| 4 | 48 | 2 | 48 | 1 | 1 | 3 | 2 | 3 | 33 | ⋯ | 0 | 0 | 1 | 0 | 1 | 0 | 0 | 0 | 0 | 2 |\n| 3 | 21 | 2 | 29 | 2 | 3 | 2 | 1 | 3 | 28 | ⋯ | 1 | 0 | 1 | 0 | 0 | 1 | 0 | 0 | 0 | 1 |\n| 1 | 36 | 2 | 82 | 1 | 3 | 3 | 2 | 2 | 26 | ⋯ | 0 | 1 | 1 | 0 | 0 | 1 | 0 | 0 | 1 | 2 |\n| 4 | 24 | 4 | 20 | 1 | 4 | 3 | 2 | 2 | 30 | ⋯ | 0 | 0 | 1 | 0 | 0 | 1 | 0 | 1 | 0 | 1 |\n| 1 | 15 | 4 | 14 | 1 | 3 | 2 | 3 | 2 | 25 | ⋯ | 0 | 0 | 1 | 0 | 1 | 0 | 0 | 0 | 1 | 1 |\n| 3 | 42 | 0 | 63 | 1 | 2 | 1 | 1 | 2 | 33 | ⋯ | 0 | 0 | 1 | 0 | 0 | 1 | 0 | 0 | 1 | 1 |\n| 4 | 13 | 2 | 14 | 2 | 1 | 2 | 4 | 1 | 64 | ⋯ | 0 | 0 | 1 | 0 | 0 | 1 | 0 | 0 | 1 | 1 |\n| 1 | 24 | 2 | 66 | 1 | 1 | 3 | 2 | 4 | 29 | ⋯ | 0 | 1 | 1 | 0 | 0 | 0 | 0 | 0 | 0 | 1 |\n| 2 | 24 | 4 | 17 | 1 | 5 | 3 | 2 | 2 | 48 | ⋯ | 0 | 0 | 1 | 0 | 0 | 1 | 0 | 1 | 0 | 1 |\n| 4 | 12 | 4 | 36 | 5 | 2 | 3 | 1 | 2 | 37 | ⋯ | 0 | 0 | 1 | 0 | 0 | 1 | 0 | 1 | 0 | 1 |\n| 4 | 15 | 1 | 16 | 2 | 5 | 3 | 4 | 3 | 34 | ⋯ | 0 | 0 | 1 | 0 | 0 | 1 | 0 | 1 | 0 | 1 |\n| 1 | 18 | 2 | 19 | 5 | 4 | 4 | 4 | 3 | 23 | ⋯ | 0 | 0 | 1 | 0 | 1 | 0 | 0 | 1 | 0 | 1 |\n| 1 | 36 | 2 | 40 | 1 | 1 | 3 | 3 | 2 | 30 | ⋯ | 0 | 0 | 1 | 0 | 0 | 1 | 0 | 0 | 0 | 1 |\n| 4 | 12 | 2 | 24 | 5 | 5 | 3 | 3 | 3 | 50 | ⋯ | 1 | 0 | 1 | 0 | 0 | 1 | 0 | 0 | 1 | 1 |\n| 4 | 12 | 2 | 17 | 1 | 4 | 2 | 4 | 1 | 31 | ⋯ | 0 | 0 | 1 | 0 | 0 | 1 | 0 | 1 | 0 | 1 |\n| 1 | 30 | 2 | 39 | 1 | 3 | 1 | 4 | 2 | 40 | ⋯ | 0 | 1 | 1 | 0 | 0 | 1 | 0 | 0 | 0 | 1 |\n| 4 | 12 | 2 |  8 | 1 | 5 | 3 | 4 | 3 | 38 | ⋯ | 0 | 0 | 1 | 0 | 0 | 1 | 0 | 0 | 1 | 1 |\n| 1 | 45 | 2 | 18 | 1 | 3 | 3 | 4 | 4 | 23 | ⋯ | 0 | 0 | 1 | 0 | 0 | 0 | 0 | 0 | 1 | 2 |\n| 2 | 45 | 4 | 46 | 2 | 1 | 3 | 4 | 3 | 27 | ⋯ | 0 | 1 | 1 | 0 | 0 | 1 | 0 | 0 | 1 | 1 |\n\n",
            "text/html": [
              "<table class=\"dataframe\">\n",
              "<caption>A data.frame: 1000 × 25</caption>\n",
              "<thead>\n",
              "\t<tr><th scope=col>V1</th><th scope=col>V2</th><th scope=col>V3</th><th scope=col>V4</th><th scope=col>V5</th><th scope=col>V6</th><th scope=col>V7</th><th scope=col>V8</th><th scope=col>V9</th><th scope=col>V10</th><th scope=col>⋯</th><th scope=col>V16</th><th scope=col>V17</th><th scope=col>V18</th><th scope=col>V19</th><th scope=col>V20</th><th scope=col>V21</th><th scope=col>V22</th><th scope=col>V23</th><th scope=col>V24</th><th scope=col>V25</th></tr>\n",
              "\t<tr><th scope=col>&lt;int&gt;</th><th scope=col>&lt;int&gt;</th><th scope=col>&lt;int&gt;</th><th scope=col>&lt;int&gt;</th><th scope=col>&lt;int&gt;</th><th scope=col>&lt;int&gt;</th><th scope=col>&lt;int&gt;</th><th scope=col>&lt;int&gt;</th><th scope=col>&lt;int&gt;</th><th scope=col>&lt;int&gt;</th><th scope=col>⋯</th><th scope=col>&lt;int&gt;</th><th scope=col>&lt;int&gt;</th><th scope=col>&lt;int&gt;</th><th scope=col>&lt;int&gt;</th><th scope=col>&lt;int&gt;</th><th scope=col>&lt;int&gt;</th><th scope=col>&lt;int&gt;</th><th scope=col>&lt;int&gt;</th><th scope=col>&lt;int&gt;</th><th scope=col>&lt;int&gt;</th></tr>\n",
              "</thead>\n",
              "<tbody>\n",
              "\t<tr><td>1</td><td> 6</td><td>4</td><td> 12</td><td>5</td><td>5</td><td>3</td><td>4</td><td>1</td><td>67</td><td>⋯</td><td>0</td><td>0</td><td>1</td><td>0</td><td>0</td><td>1</td><td>0</td><td>0</td><td>1</td><td>1</td></tr>\n",
              "\t<tr><td>2</td><td>48</td><td>2</td><td> 60</td><td>1</td><td>3</td><td>2</td><td>2</td><td>1</td><td>22</td><td>⋯</td><td>0</td><td>0</td><td>1</td><td>0</td><td>0</td><td>1</td><td>0</td><td>0</td><td>1</td><td>2</td></tr>\n",
              "\t<tr><td>4</td><td>12</td><td>4</td><td> 21</td><td>1</td><td>4</td><td>3</td><td>3</td><td>1</td><td>49</td><td>⋯</td><td>0</td><td>0</td><td>1</td><td>0</td><td>0</td><td>1</td><td>0</td><td>1</td><td>0</td><td>1</td></tr>\n",
              "\t<tr><td>1</td><td>42</td><td>2</td><td> 79</td><td>1</td><td>4</td><td>3</td><td>4</td><td>2</td><td>45</td><td>⋯</td><td>0</td><td>0</td><td>0</td><td>0</td><td>0</td><td>0</td><td>0</td><td>0</td><td>1</td><td>1</td></tr>\n",
              "\t<tr><td>1</td><td>24</td><td>3</td><td> 49</td><td>1</td><td>3</td><td>3</td><td>4</td><td>4</td><td>53</td><td>⋯</td><td>1</td><td>0</td><td>1</td><td>0</td><td>0</td><td>0</td><td>0</td><td>0</td><td>1</td><td>2</td></tr>\n",
              "\t<tr><td>4</td><td>36</td><td>2</td><td> 91</td><td>5</td><td>3</td><td>3</td><td>4</td><td>4</td><td>35</td><td>⋯</td><td>0</td><td>0</td><td>1</td><td>0</td><td>0</td><td>0</td><td>0</td><td>1</td><td>0</td><td>1</td></tr>\n",
              "\t<tr><td>4</td><td>24</td><td>2</td><td> 28</td><td>3</td><td>5</td><td>3</td><td>4</td><td>2</td><td>53</td><td>⋯</td><td>0</td><td>0</td><td>1</td><td>0</td><td>0</td><td>1</td><td>0</td><td>0</td><td>1</td><td>1</td></tr>\n",
              "\t<tr><td>2</td><td>36</td><td>2</td><td> 69</td><td>1</td><td>3</td><td>3</td><td>2</td><td>3</td><td>35</td><td>⋯</td><td>0</td><td>1</td><td>1</td><td>0</td><td>1</td><td>0</td><td>0</td><td>0</td><td>0</td><td>1</td></tr>\n",
              "\t<tr><td>4</td><td>12</td><td>2</td><td> 31</td><td>4</td><td>4</td><td>1</td><td>4</td><td>1</td><td>61</td><td>⋯</td><td>0</td><td>0</td><td>1</td><td>0</td><td>0</td><td>1</td><td>0</td><td>1</td><td>0</td><td>1</td></tr>\n",
              "\t<tr><td>2</td><td>30</td><td>4</td><td> 52</td><td>1</td><td>1</td><td>4</td><td>2</td><td>3</td><td>28</td><td>⋯</td><td>1</td><td>0</td><td>1</td><td>0</td><td>0</td><td>1</td><td>0</td><td>0</td><td>0</td><td>2</td></tr>\n",
              "\t<tr><td>2</td><td>12</td><td>2</td><td> 13</td><td>1</td><td>2</td><td>2</td><td>1</td><td>3</td><td>25</td><td>⋯</td><td>1</td><td>0</td><td>1</td><td>0</td><td>1</td><td>0</td><td>0</td><td>0</td><td>1</td><td>2</td></tr>\n",
              "\t<tr><td>1</td><td>48</td><td>2</td><td> 43</td><td>1</td><td>2</td><td>2</td><td>4</td><td>2</td><td>24</td><td>⋯</td><td>0</td><td>0</td><td>1</td><td>0</td><td>1</td><td>0</td><td>0</td><td>0</td><td>1</td><td>2</td></tr>\n",
              "\t<tr><td>2</td><td>12</td><td>2</td><td> 16</td><td>1</td><td>3</td><td>2</td><td>1</td><td>3</td><td>22</td><td>⋯</td><td>0</td><td>0</td><td>1</td><td>0</td><td>0</td><td>1</td><td>0</td><td>0</td><td>1</td><td>1</td></tr>\n",
              "\t<tr><td>1</td><td>24</td><td>4</td><td> 12</td><td>1</td><td>5</td><td>3</td><td>4</td><td>3</td><td>60</td><td>⋯</td><td>1</td><td>0</td><td>1</td><td>0</td><td>0</td><td>1</td><td>0</td><td>1</td><td>0</td><td>2</td></tr>\n",
              "\t<tr><td>1</td><td>15</td><td>2</td><td> 14</td><td>1</td><td>3</td><td>2</td><td>4</td><td>3</td><td>28</td><td>⋯</td><td>1</td><td>0</td><td>1</td><td>0</td><td>1</td><td>0</td><td>0</td><td>0</td><td>1</td><td>1</td></tr>\n",
              "\t<tr><td>1</td><td>24</td><td>2</td><td> 13</td><td>2</td><td>3</td><td>2</td><td>2</td><td>3</td><td>32</td><td>⋯</td><td>0</td><td>0</td><td>1</td><td>0</td><td>0</td><td>1</td><td>0</td><td>1</td><td>0</td><td>2</td></tr>\n",
              "\t<tr><td>4</td><td>24</td><td>4</td><td> 24</td><td>5</td><td>5</td><td>3</td><td>4</td><td>2</td><td>53</td><td>⋯</td><td>0</td><td>0</td><td>1</td><td>0</td><td>0</td><td>1</td><td>0</td><td>0</td><td>1</td><td>1</td></tr>\n",
              "\t<tr><td>1</td><td>30</td><td>0</td><td> 81</td><td>5</td><td>2</td><td>3</td><td>3</td><td>3</td><td>25</td><td>⋯</td><td>0</td><td>0</td><td>1</td><td>0</td><td>0</td><td>1</td><td>0</td><td>0</td><td>1</td><td>1</td></tr>\n",
              "\t<tr><td>2</td><td>24</td><td>2</td><td>126</td><td>1</td><td>5</td><td>2</td><td>2</td><td>4</td><td>44</td><td>⋯</td><td>0</td><td>1</td><td>1</td><td>0</td><td>0</td><td>0</td><td>0</td><td>0</td><td>0</td><td>2</td></tr>\n",
              "\t<tr><td>4</td><td>24</td><td>2</td><td> 34</td><td>3</td><td>5</td><td>3</td><td>2</td><td>3</td><td>31</td><td>⋯</td><td>0</td><td>0</td><td>1</td><td>0</td><td>0</td><td>1</td><td>0</td><td>0</td><td>1</td><td>1</td></tr>\n",
              "\t<tr><td>4</td><td> 9</td><td>4</td><td> 21</td><td>1</td><td>3</td><td>3</td><td>4</td><td>3</td><td>48</td><td>⋯</td><td>1</td><td>0</td><td>1</td><td>0</td><td>0</td><td>1</td><td>0</td><td>0</td><td>1</td><td>1</td></tr>\n",
              "\t<tr><td>1</td><td> 6</td><td>2</td><td> 26</td><td>3</td><td>3</td><td>3</td><td>3</td><td>1</td><td>44</td><td>⋯</td><td>0</td><td>0</td><td>1</td><td>0</td><td>1</td><td>0</td><td>0</td><td>0</td><td>1</td><td>1</td></tr>\n",
              "\t<tr><td>1</td><td>10</td><td>4</td><td> 22</td><td>1</td><td>2</td><td>3</td><td>3</td><td>1</td><td>48</td><td>⋯</td><td>1</td><td>0</td><td>1</td><td>0</td><td>1</td><td>0</td><td>0</td><td>1</td><td>0</td><td>1</td></tr>\n",
              "\t<tr><td>2</td><td>12</td><td>4</td><td> 18</td><td>2</td><td>2</td><td>3</td><td>4</td><td>2</td><td>44</td><td>⋯</td><td>0</td><td>1</td><td>1</td><td>0</td><td>0</td><td>1</td><td>0</td><td>0</td><td>1</td><td>1</td></tr>\n",
              "\t<tr><td>4</td><td>10</td><td>4</td><td> 21</td><td>5</td><td>3</td><td>4</td><td>1</td><td>3</td><td>26</td><td>⋯</td><td>0</td><td>0</td><td>1</td><td>0</td><td>0</td><td>1</td><td>0</td><td>0</td><td>1</td><td>1</td></tr>\n",
              "\t<tr><td>1</td><td> 6</td><td>2</td><td> 14</td><td>1</td><td>3</td><td>3</td><td>2</td><td>1</td><td>36</td><td>⋯</td><td>0</td><td>0</td><td>1</td><td>0</td><td>0</td><td>1</td><td>0</td><td>1</td><td>0</td><td>1</td></tr>\n",
              "\t<tr><td>4</td><td> 6</td><td>0</td><td>  4</td><td>1</td><td>5</td><td>4</td><td>4</td><td>3</td><td>39</td><td>⋯</td><td>0</td><td>0</td><td>1</td><td>0</td><td>0</td><td>1</td><td>0</td><td>1</td><td>0</td><td>1</td></tr>\n",
              "\t<tr><td>3</td><td>12</td><td>1</td><td>  4</td><td>4</td><td>3</td><td>2</td><td>3</td><td>1</td><td>42</td><td>⋯</td><td>0</td><td>0</td><td>1</td><td>0</td><td>1</td><td>0</td><td>0</td><td>0</td><td>1</td><td>1</td></tr>\n",
              "\t<tr><td>2</td><td> 7</td><td>2</td><td> 24</td><td>1</td><td>3</td><td>3</td><td>2</td><td>1</td><td>34</td><td>⋯</td><td>0</td><td>0</td><td>0</td><td>0</td><td>0</td><td>1</td><td>0</td><td>0</td><td>1</td><td>1</td></tr>\n",
              "\t<tr><td>1</td><td>60</td><td>3</td><td> 68</td><td>1</td><td>5</td><td>3</td><td>4</td><td>4</td><td>63</td><td>⋯</td><td>0</td><td>0</td><td>1</td><td>0</td><td>0</td><td>1</td><td>0</td><td>0</td><td>1</td><td>2</td></tr>\n",
              "\t<tr><td>⋮</td><td>⋮</td><td>⋮</td><td>⋮</td><td>⋮</td><td>⋮</td><td>⋮</td><td>⋮</td><td>⋮</td><td>⋮</td><td>⋱</td><td>⋮</td><td>⋮</td><td>⋮</td><td>⋮</td><td>⋮</td><td>⋮</td><td>⋮</td><td>⋮</td><td>⋮</td><td>⋮</td></tr>\n",
              "\t<tr><td>2</td><td>15</td><td>2</td><td>15</td><td>2</td><td>3</td><td>3</td><td>2</td><td>1</td><td>22</td><td>⋯</td><td>0</td><td>0</td><td>0</td><td>0</td><td>0</td><td>1</td><td>0</td><td>0</td><td>1</td><td>1</td></tr>\n",
              "\t<tr><td>4</td><td>24</td><td>2</td><td>74</td><td>1</td><td>3</td><td>3</td><td>4</td><td>2</td><td>43</td><td>⋯</td><td>1</td><td>0</td><td>1</td><td>0</td><td>0</td><td>1</td><td>0</td><td>1</td><td>0</td><td>1</td></tr>\n",
              "\t<tr><td>1</td><td>24</td><td>1</td><td>12</td><td>1</td><td>1</td><td>2</td><td>4</td><td>4</td><td>29</td><td>⋯</td><td>1</td><td>0</td><td>0</td><td>1</td><td>1</td><td>0</td><td>1</td><td>0</td><td>0</td><td>2</td></tr>\n",
              "\t<tr><td>1</td><td>60</td><td>2</td><td>73</td><td>1</td><td>5</td><td>3</td><td>4</td><td>4</td><td>36</td><td>⋯</td><td>0</td><td>0</td><td>0</td><td>1</td><td>1</td><td>0</td><td>0</td><td>0</td><td>1</td><td>2</td></tr>\n",
              "\t<tr><td>4</td><td>30</td><td>4</td><td>28</td><td>1</td><td>3</td><td>2</td><td>2</td><td>3</td><td>33</td><td>⋯</td><td>0</td><td>0</td><td>1</td><td>0</td><td>0</td><td>1</td><td>0</td><td>0</td><td>1</td><td>1</td></tr>\n",
              "\t<tr><td>3</td><td>24</td><td>2</td><td>13</td><td>3</td><td>3</td><td>2</td><td>3</td><td>3</td><td>57</td><td>⋯</td><td>0</td><td>0</td><td>1</td><td>0</td><td>0</td><td>1</td><td>0</td><td>1</td><td>0</td><td>1</td></tr>\n",
              "\t<tr><td>2</td><td> 6</td><td>2</td><td> 8</td><td>1</td><td>3</td><td>2</td><td>3</td><td>1</td><td>64</td><td>⋯</td><td>0</td><td>0</td><td>0</td><td>0</td><td>0</td><td>1</td><td>0</td><td>0</td><td>1</td><td>1</td></tr>\n",
              "\t<tr><td>2</td><td>18</td><td>3</td><td>24</td><td>5</td><td>5</td><td>3</td><td>2</td><td>2</td><td>42</td><td>⋯</td><td>0</td><td>0</td><td>1</td><td>0</td><td>0</td><td>1</td><td>0</td><td>0</td><td>1</td><td>1</td></tr>\n",
              "\t<tr><td>4</td><td>24</td><td>3</td><td>25</td><td>1</td><td>5</td><td>3</td><td>4</td><td>3</td><td>47</td><td>⋯</td><td>1</td><td>0</td><td>1</td><td>0</td><td>0</td><td>1</td><td>0</td><td>1</td><td>0</td><td>2</td></tr>\n",
              "\t<tr><td>2</td><td>15</td><td>1</td><td>13</td><td>2</td><td>3</td><td>4</td><td>2</td><td>2</td><td>25</td><td>⋯</td><td>1</td><td>0</td><td>1</td><td>0</td><td>1</td><td>0</td><td>0</td><td>0</td><td>1</td><td>2</td></tr>\n",
              "\t<tr><td>2</td><td>30</td><td>4</td><td>84</td><td>1</td><td>4</td><td>3</td><td>2</td><td>2</td><td>49</td><td>⋯</td><td>0</td><td>0</td><td>1</td><td>0</td><td>0</td><td>1</td><td>0</td><td>0</td><td>1</td><td>2</td></tr>\n",
              "\t<tr><td>4</td><td>48</td><td>2</td><td>48</td><td>1</td><td>1</td><td>3</td><td>2</td><td>3</td><td>33</td><td>⋯</td><td>0</td><td>0</td><td>1</td><td>0</td><td>1</td><td>0</td><td>0</td><td>0</td><td>0</td><td>2</td></tr>\n",
              "\t<tr><td>3</td><td>21</td><td>2</td><td>29</td><td>2</td><td>3</td><td>2</td><td>1</td><td>3</td><td>28</td><td>⋯</td><td>1</td><td>0</td><td>1</td><td>0</td><td>0</td><td>1</td><td>0</td><td>0</td><td>0</td><td>1</td></tr>\n",
              "\t<tr><td>1</td><td>36</td><td>2</td><td>82</td><td>1</td><td>3</td><td>3</td><td>2</td><td>2</td><td>26</td><td>⋯</td><td>0</td><td>1</td><td>1</td><td>0</td><td>0</td><td>1</td><td>0</td><td>0</td><td>1</td><td>2</td></tr>\n",
              "\t<tr><td>4</td><td>24</td><td>4</td><td>20</td><td>1</td><td>4</td><td>3</td><td>2</td><td>2</td><td>30</td><td>⋯</td><td>0</td><td>0</td><td>1</td><td>0</td><td>0</td><td>1</td><td>0</td><td>1</td><td>0</td><td>1</td></tr>\n",
              "\t<tr><td>1</td><td>15</td><td>4</td><td>14</td><td>1</td><td>3</td><td>2</td><td>3</td><td>2</td><td>25</td><td>⋯</td><td>0</td><td>0</td><td>1</td><td>0</td><td>1</td><td>0</td><td>0</td><td>0</td><td>1</td><td>1</td></tr>\n",
              "\t<tr><td>3</td><td>42</td><td>0</td><td>63</td><td>1</td><td>2</td><td>1</td><td>1</td><td>2</td><td>33</td><td>⋯</td><td>0</td><td>0</td><td>1</td><td>0</td><td>0</td><td>1</td><td>0</td><td>0</td><td>1</td><td>1</td></tr>\n",
              "\t<tr><td>4</td><td>13</td><td>2</td><td>14</td><td>2</td><td>1</td><td>2</td><td>4</td><td>1</td><td>64</td><td>⋯</td><td>0</td><td>0</td><td>1</td><td>0</td><td>0</td><td>1</td><td>0</td><td>0</td><td>1</td><td>1</td></tr>\n",
              "\t<tr><td>1</td><td>24</td><td>2</td><td>66</td><td>1</td><td>1</td><td>3</td><td>2</td><td>4</td><td>29</td><td>⋯</td><td>0</td><td>1</td><td>1</td><td>0</td><td>0</td><td>0</td><td>0</td><td>0</td><td>0</td><td>1</td></tr>\n",
              "\t<tr><td>2</td><td>24</td><td>4</td><td>17</td><td>1</td><td>5</td><td>3</td><td>2</td><td>2</td><td>48</td><td>⋯</td><td>0</td><td>0</td><td>1</td><td>0</td><td>0</td><td>1</td><td>0</td><td>1</td><td>0</td><td>1</td></tr>\n",
              "\t<tr><td>4</td><td>12</td><td>4</td><td>36</td><td>5</td><td>2</td><td>3</td><td>1</td><td>2</td><td>37</td><td>⋯</td><td>0</td><td>0</td><td>1</td><td>0</td><td>0</td><td>1</td><td>0</td><td>1</td><td>0</td><td>1</td></tr>\n",
              "\t<tr><td>4</td><td>15</td><td>1</td><td>16</td><td>2</td><td>5</td><td>3</td><td>4</td><td>3</td><td>34</td><td>⋯</td><td>0</td><td>0</td><td>1</td><td>0</td><td>0</td><td>1</td><td>0</td><td>1</td><td>0</td><td>1</td></tr>\n",
              "\t<tr><td>1</td><td>18</td><td>2</td><td>19</td><td>5</td><td>4</td><td>4</td><td>4</td><td>3</td><td>23</td><td>⋯</td><td>0</td><td>0</td><td>1</td><td>0</td><td>1</td><td>0</td><td>0</td><td>1</td><td>0</td><td>1</td></tr>\n",
              "\t<tr><td>1</td><td>36</td><td>2</td><td>40</td><td>1</td><td>1</td><td>3</td><td>3</td><td>2</td><td>30</td><td>⋯</td><td>0</td><td>0</td><td>1</td><td>0</td><td>0</td><td>1</td><td>0</td><td>0</td><td>0</td><td>1</td></tr>\n",
              "\t<tr><td>4</td><td>12</td><td>2</td><td>24</td><td>5</td><td>5</td><td>3</td><td>3</td><td>3</td><td>50</td><td>⋯</td><td>1</td><td>0</td><td>1</td><td>0</td><td>0</td><td>1</td><td>0</td><td>0</td><td>1</td><td>1</td></tr>\n",
              "\t<tr><td>4</td><td>12</td><td>2</td><td>17</td><td>1</td><td>4</td><td>2</td><td>4</td><td>1</td><td>31</td><td>⋯</td><td>0</td><td>0</td><td>1</td><td>0</td><td>0</td><td>1</td><td>0</td><td>1</td><td>0</td><td>1</td></tr>\n",
              "\t<tr><td>1</td><td>30</td><td>2</td><td>39</td><td>1</td><td>3</td><td>1</td><td>4</td><td>2</td><td>40</td><td>⋯</td><td>0</td><td>1</td><td>1</td><td>0</td><td>0</td><td>1</td><td>0</td><td>0</td><td>0</td><td>1</td></tr>\n",
              "\t<tr><td>4</td><td>12</td><td>2</td><td> 8</td><td>1</td><td>5</td><td>3</td><td>4</td><td>3</td><td>38</td><td>⋯</td><td>0</td><td>0</td><td>1</td><td>0</td><td>0</td><td>1</td><td>0</td><td>0</td><td>1</td><td>1</td></tr>\n",
              "\t<tr><td>1</td><td>45</td><td>2</td><td>18</td><td>1</td><td>3</td><td>3</td><td>4</td><td>4</td><td>23</td><td>⋯</td><td>0</td><td>0</td><td>1</td><td>0</td><td>0</td><td>0</td><td>0</td><td>0</td><td>1</td><td>2</td></tr>\n",
              "\t<tr><td>2</td><td>45</td><td>4</td><td>46</td><td>2</td><td>1</td><td>3</td><td>4</td><td>3</td><td>27</td><td>⋯</td><td>0</td><td>1</td><td>1</td><td>0</td><td>0</td><td>1</td><td>0</td><td>0</td><td>1</td><td>1</td></tr>\n",
              "</tbody>\n",
              "</table>\n"
            ]
          },
          "metadata": {
            "tags": []
          }
        }
      ]
    },
    {
      "cell_type": "code",
      "metadata": {
        "id": "O94UrV-Yn0jk",
        "colab": {
          "base_uri": "https://localhost:8080/"
        },
        "outputId": "6e9bd870-6715-4166-ca84-402457892be0"
      },
      "source": [
        "print(installed.packages)"
      ],
      "execution_count": null,
      "outputs": [
        {
          "output_type": "stream",
          "text": [
            "function (lib.loc = NULL, priority = NULL, noCache = FALSE, fields = NULL, \n",
            "    subarch = .Platform$r_arch, ...) \n",
            "{\n",
            "    if (is.null(lib.loc)) \n",
            "        lib.loc <- .libPaths()\n",
            "    if (!is.null(priority)) {\n",
            "        if (!is.character(priority)) \n",
            "            stop(\"'priority' must be character or NULL\")\n",
            "        if (any(b <- priority %in% \"high\")) \n",
            "            priority <- c(priority[!b], \"recommended\", \"base\")\n",
            "    }\n",
            "    fields <- .instPkgFields(fields)\n",
            "    retval <- matrix(character(), 0L, 2L + length(fields))\n",
            "    for (lib in lib.loc) {\n",
            "        if (noCache) {\n",
            "            ret0 <- .readPkgDesc(lib, fields)\n",
            "            if (length(ret0)) \n",
            "                retval <- rbind(retval, ret0, deparse.level = 0L)\n",
            "        }\n",
            "        else {\n",
            "            base <- paste(c(lib, fields), collapse = \",\")\n",
            "            enc <- sprintf(\"%d_%s\", nchar(base), .Call(C_crc64, \n",
            "                base))\n",
            "            dest <- file.path(tempdir(), paste0(\"libloc_\", enc, \n",
            "                \".rds\"))\n",
            "            test <- file.exists(dest) && file.mtime(dest) > file.mtime(lib) && \n",
            "                (val <- readRDS(dest))$base == base\n",
            "            if (isTRUE(as.vector(test))) \n",
            "                retval <- rbind(retval, val$value)\n",
            "            else {\n",
            "                ret0 <- .readPkgDesc(lib, fields)\n",
            "                if (length(ret0)) {\n",
            "                  retval <- rbind(retval, ret0, deparse.level = 0L)\n",
            "                  saveRDS(list(base = base, value = ret0), dest)\n",
            "                }\n",
            "                else unlink(dest)\n",
            "            }\n",
            "        }\n",
            "    }\n",
            "    .fixupPkgMat(retval, fields, priority, subarch)\n",
            "}\n",
            "<bytecode: 0x55a943c693b8>\n",
            "<environment: namespace:utils>\n"
          ],
          "name": "stdout"
        }
      ]
    },
    {
      "cell_type": "code",
      "metadata": {
        "colab": {
          "base_uri": "https://localhost:8080/"
        },
        "id": "VJw-Ng6xnquJ",
        "outputId": "65db9f7e-1e8c-4bb5-d80f-3be5aa5fa4c3"
      },
      "source": [
        "df <- read.fwf('http://archive.ics.uci.edu/ml/machine-learning-databases/statlog/german/german.data-numeric', widths = rep(4, 25), header = FALSE)\n",
        "print(head(df))\n"
      ],
      "execution_count": null,
      "outputs": [
        {
          "output_type": "stream",
          "text": [
            "  V1 V2 V3 V4 V5 V6 V7 V8 V9 V10 V11 V12 V13 V14 V15 V16 V17 V18 V19 V20 V21\n",
            "1  1  6  4 12  5  5  3  4  1  67   3   2   1   2   1   0   0   1   0   0   1\n",
            "2  2 48  2 60  1  3  2  2  1  22   3   1   1   1   1   0   0   1   0   0   1\n",
            "3  4 12  4 21  1  4  3  3  1  49   3   1   2   1   1   0   0   1   0   0   1\n",
            "4  1 42  2 79  1  4  3  4  2  45   3   1   2   1   1   0   0   0   0   0   0\n",
            "5  1 24  3 49  1  3  3  4  4  53   3   2   2   1   1   1   0   1   0   0   0\n",
            "6  4 36  2 91  5  3  3  4  4  35   3   1   2   2   1   0   0   1   0   0   0\n",
            "  V22 V23 V24 V25\n",
            "1   0   0   1   1\n",
            "2   0   0   1   2\n",
            "3   0   1   0   1\n",
            "4   0   0   1   1\n",
            "5   0   0   1   2\n",
            "6   0   1   0   1\n"
          ],
          "name": "stdout"
        }
      ]
    },
    {
      "cell_type": "code",
      "metadata": {
        "id": "2zdpqGMopwT8"
      },
      "source": [
        "# (1p) Rename 25th column to 'target'.It contains information about bank's clients default - 2 => client with a default, 1=> client with no default. Recode 'target' to mark client with default as 1 and 0 otherwise."
      ],
      "execution_count": null,
      "outputs": []
    },
    {
      "cell_type": "code",
      "metadata": {
        "id": "DllRdpD5qub_"
      },
      "source": [
        "names(df)[names(df) == \"V25\"] <- \"target\"\n"
      ],
      "execution_count": null,
      "outputs": []
    },
    {
      "cell_type": "code",
      "metadata": {
        "id": "rzrlU89Iu4Nw"
      },
      "source": [
        "# Recode 'target' to mark client with default as 1 and 0 otherwise.\n",
        "df$target <- ifelse(df$target==\"2\", 1, 0) "
      ],
      "execution_count": null,
      "outputs": []
    },
    {
      "cell_type": "code",
      "metadata": {
        "colab": {
          "base_uri": "https://localhost:8080/"
        },
        "id": "NOgMjVpVwOer",
        "outputId": "c194cced-7b9e-47ab-ec1a-564f6dd0d9a1"
      },
      "source": [
        "print(head(df))"
      ],
      "execution_count": null,
      "outputs": [
        {
          "output_type": "stream",
          "text": [
            "  V1 V2 V3 V4 V5 V6 V7 V8 V9 V10 V11 V12 V13 V14 V15 V16 V17 V18 V19 V20 V21\n",
            "1  1  6  4 12  5  5  3  4  1  67   3   2   1   2   1   0   0   1   0   0   1\n",
            "2  2 48  2 60  1  3  2  2  1  22   3   1   1   1   1   0   0   1   0   0   1\n",
            "3  4 12  4 21  1  4  3  3  1  49   3   1   2   1   1   0   0   1   0   0   1\n",
            "4  1 42  2 79  1  4  3  4  2  45   3   1   2   1   1   0   0   0   0   0   0\n",
            "5  1 24  3 49  1  3  3  4  4  53   3   2   2   1   1   1   0   1   0   0   0\n",
            "6  4 36  2 91  5  3  3  4  4  35   3   1   2   2   1   0   0   1   0   0   0\n",
            "  V22 V23 V24 target\n",
            "1   0   0   1      0\n",
            "2   0   0   1      1\n",
            "3   0   1   0      0\n",
            "4   0   0   1      0\n",
            "5   0   0   1      1\n",
            "6   0   1   0      0\n"
          ],
          "name": "stdout"
        }
      ]
    },
    {
      "cell_type": "code",
      "metadata": {
        "id": "fcESCwv2r6mx"
      },
      "source": [
        "# (3p) Check frequencies of 'target' values. How can we cope with unbalanced data? Name at least 3 solutions. Randomly undersample the data to have 50/50 proportions of 'target' values."
      ],
      "execution_count": null,
      "outputs": []
    },
    {
      "cell_type": "code",
      "metadata": {
        "id": "dIPSoOwrxyXo"
      },
      "source": [
        "df2 <- df %>% group_by(target) %>% summarize(class_count = n())"
      ],
      "execution_count": null,
      "outputs": []
    },
    {
      "cell_type": "code",
      "metadata": {
        "colab": {
          "base_uri": "https://localhost:8080/"
        },
        "id": "XjrMWXDOyroQ",
        "outputId": "ec776144-6d5c-4d3b-d917-46a54bed14e2"
      },
      "source": [
        "print(head(df2))"
      ],
      "execution_count": null,
      "outputs": [
        {
          "output_type": "stream",
          "text": [
            "\u001b[90m# A tibble: 2 x 2\u001b[39m\n",
            "  target class_count\n",
            "   \u001b[3m\u001b[90m<dbl>\u001b[39m\u001b[23m       \u001b[3m\u001b[90m<int>\u001b[39m\u001b[23m\n",
            "\u001b[90m1\u001b[39m      0         700\n",
            "\u001b[90m2\u001b[39m      1         300\n"
          ],
          "name": "stdout"
        }
      ]
    },
    {
      "cell_type": "code",
      "metadata": {
        "colab": {
          "base_uri": "https://localhost:8080/",
          "height": 68
        },
        "id": "b-HqppS75dWl",
        "outputId": "e7708953-14d7-4e10-df9e-1ae4da5608c1"
      },
      "source": [
        "prop.table(table(df$target))"
      ],
      "execution_count": null,
      "outputs": [
        {
          "output_type": "display_data",
          "data": {
            "text/plain": [
              "\n",
              "  0   1 \n",
              "0.7 0.3 "
            ]
          },
          "metadata": {
            "tags": []
          }
        }
      ]
    },
    {
      "cell_type": "code",
      "metadata": {
        "id": "dNgF4T3rwp4X"
      },
      "source": [
        "# (1p) Divide balanced data into training (85%) and validation (15%) with seed equal to 32"
      ],
      "execution_count": null,
      "outputs": []
    },
    {
      "cell_type": "code",
      "metadata": {
        "id": "g734HKMB0McP"
      },
      "source": [
        "#set.seed(32)\n",
        "#split = sample(1:nrow(df),0.85*nrow(df)) \n",
        "#training_set = df[indices,]\n",
        "#test_set = DATA_SET[-indices,]\n"
      ],
      "execution_count": null,
      "outputs": []
    },
    {
      "cell_type": "code",
      "metadata": {
        "id": "agxGtL5e8fEa"
      },
      "source": [
        ""
      ],
      "execution_count": null,
      "outputs": []
    },
    {
      "cell_type": "code",
      "metadata": {
        "id": "92g_KAJa8muK",
        "colab": {
          "base_uri": "https://localhost:8080/",
          "height": 1000
        },
        "outputId": "63ab211f-428f-4de8-d97f-81572991fa18"
      },
      "source": [
        "# Task3(14p)\n",
        "# In the task, use the data from 'https://archive.ics.uci.edu/ml/machine-learning-databases/wine-quality/winequality-white.csv'\n",
        "# The quality of white wines is contained in a variable quality.\n",
        "# The data is separated by a semicolon and has headers. You can load the data using:\n",
        "read.table('https://archive.ics.uci.edu/ml/machine-learning-databases/wine-quality/winequality-white.csv', stringsAsFactors = F, sep =';', header = T)\n",
        "\n",
        "# (1p) Check if any data is missing. If so, remove missing data from the dataset.\n",
        "# (2p) Prepare the histogram and density estimation curve (on the same plot) of the variable total.sulfur.dioxide.\n",
        "# (1p) Divide data into training (80%) and validation (20%) with seed equal to 12\n",
        "# (3p) Prepare a random forest model with library 'randomForest' using default parameter values, with wine quality as target variable and all other variables as predictors. Which 2 explanatory variables explain the most of wine quality variance?\n",
        "# (3p) Prepare the GAM model with the 'mgcv' package, with wine quality as target variable and all other variables as predictors. Apply smoothing the spline only to 'chlorides' and 'sulphates' variables\n",
        "# (2p) Prepare a linear regression model with an 'lm' package, with wine quality as target variable and all other variables as predictors. Provide Adjusted R-squared of the model.\n",
        "# (2p) Compare the quality of 3 above models by measuring RMSE for each (on test set) and prepare barplot with those values. Which model is the best in terms of RMSE?"
      ],
      "execution_count": null,
      "outputs": [
        {
          "output_type": "display_data",
          "data": {
            "text/plain": [
              "     fixed.acidity volatile.acidity citric.acid residual.sugar chlorides\n",
              "1    7.0           0.27             0.36        20.70          0.045    \n",
              "2    6.3           0.30             0.34         1.60          0.049    \n",
              "3    8.1           0.28             0.40         6.90          0.050    \n",
              "4    7.2           0.23             0.32         8.50          0.058    \n",
              "5    7.2           0.23             0.32         8.50          0.058    \n",
              "6    8.1           0.28             0.40         6.90          0.050    \n",
              "7    6.2           0.32             0.16         7.00          0.045    \n",
              "8    7.0           0.27             0.36        20.70          0.045    \n",
              "9    6.3           0.30             0.34         1.60          0.049    \n",
              "10   8.1           0.22             0.43         1.50          0.044    \n",
              "11   8.1           0.27             0.41         1.45          0.033    \n",
              "12   8.6           0.23             0.40         4.20          0.035    \n",
              "13   7.9           0.18             0.37         1.20          0.040    \n",
              "14   6.6           0.16             0.40         1.50          0.044    \n",
              "15   8.3           0.42             0.62        19.25          0.040    \n",
              "16   6.6           0.17             0.38         1.50          0.032    \n",
              "17   6.3           0.48             0.04         1.10          0.046    \n",
              "18   6.2           0.66             0.48         1.20          0.029    \n",
              "19   7.4           0.34             0.42         1.10          0.033    \n",
              "20   6.5           0.31             0.14         7.50          0.044    \n",
              "21   6.2           0.66             0.48         1.20          0.029    \n",
              "22   6.4           0.31             0.38         2.90          0.038    \n",
              "23   6.8           0.26             0.42         1.70          0.049    \n",
              "24   7.6           0.67             0.14         1.50          0.074    \n",
              "25   6.6           0.27             0.41         1.30          0.052    \n",
              "26   7.0           0.25             0.32         9.00          0.046    \n",
              "27   6.9           0.24             0.35         1.00          0.052    \n",
              "28   7.0           0.28             0.39         8.70          0.051    \n",
              "29   7.4           0.27             0.48         1.10          0.047    \n",
              "30   7.2           0.32             0.36         2.00          0.033    \n",
              "⋮    ⋮             ⋮                ⋮           ⋮              ⋮        \n",
              "4869 5.8           0.230            0.31         4.50          0.046    \n",
              "4870 6.6           0.240            0.33        10.10          0.032    \n",
              "4871 6.1           0.320            0.28         6.60          0.021    \n",
              "4872 5.0           0.200            0.40         1.90          0.015    \n",
              "4873 6.0           0.420            0.41        12.40          0.032    \n",
              "4874 5.7           0.210            0.32         1.60          0.030    \n",
              "4875 5.6           0.200            0.36         2.50          0.048    \n",
              "4876 7.4           0.220            0.26         1.20          0.035    \n",
              "4877 6.2           0.380            0.42         2.50          0.038    \n",
              "4878 5.9           0.540            0.00         0.80          0.032    \n",
              "4879 6.2           0.530            0.02         0.90          0.035    \n",
              "4880 6.6           0.340            0.40         8.10          0.046    \n",
              "4881 6.6           0.340            0.40         8.10          0.046    \n",
              "4882 5.0           0.235            0.27        11.75          0.030    \n",
              "4883 5.5           0.320            0.13         1.30          0.037    \n",
              "4884 4.9           0.470            0.17         1.90          0.035    \n",
              "4885 6.5           0.330            0.38         8.30          0.048    \n",
              "4886 6.6           0.340            0.40         8.10          0.046    \n",
              "4887 6.2           0.210            0.28         5.70          0.028    \n",
              "4888 6.2           0.410            0.22         1.90          0.023    \n",
              "4889 6.8           0.220            0.36         1.20          0.052    \n",
              "4890 4.9           0.235            0.27        11.75          0.030    \n",
              "4891 6.1           0.340            0.29         2.20          0.036    \n",
              "4892 5.7           0.210            0.32         0.90          0.038    \n",
              "4893 6.5           0.230            0.38         1.30          0.032    \n",
              "4894 6.2           0.210            0.29         1.60          0.039    \n",
              "4895 6.6           0.320            0.36         8.00          0.047    \n",
              "4896 6.5           0.240            0.19         1.20          0.041    \n",
              "4897 5.5           0.290            0.30         1.10          0.022    \n",
              "4898 6.0           0.210            0.38         0.80          0.020    \n",
              "     free.sulfur.dioxide total.sulfur.dioxide density pH   sulphates alcohol  \n",
              "1    45                  170                  1.0010  3.00 0.45       8.8     \n",
              "2    14                  132                  0.9940  3.30 0.49       9.5     \n",
              "3    30                   97                  0.9951  3.26 0.44      10.1     \n",
              "4    47                  186                  0.9956  3.19 0.40       9.9     \n",
              "5    47                  186                  0.9956  3.19 0.40       9.9     \n",
              "6    30                   97                  0.9951  3.26 0.44      10.1     \n",
              "7    30                  136                  0.9949  3.18 0.47       9.6     \n",
              "8    45                  170                  1.0010  3.00 0.45       8.8     \n",
              "9    14                  132                  0.9940  3.30 0.49       9.5     \n",
              "10   28                  129                  0.9938  3.22 0.45      11.0     \n",
              "11   11                   63                  0.9908  2.99 0.56      12.0     \n",
              "12   17                  109                  0.9947  3.14 0.53       9.7     \n",
              "13   16                   75                  0.9920  3.18 0.63      10.8     \n",
              "14   48                  143                  0.9912  3.54 0.52      12.4     \n",
              "15   41                  172                  1.0002  2.98 0.67       9.7     \n",
              "16   28                  112                  0.9914  3.25 0.55      11.4     \n",
              "17   30                   99                  0.9928  3.24 0.36       9.6     \n",
              "18   29                   75                  0.9892  3.33 0.39      12.8     \n",
              "19   17                  171                  0.9917  3.12 0.53      11.3     \n",
              "20   34                  133                  0.9955  3.22 0.50       9.5     \n",
              "21   29                   75                  0.9892  3.33 0.39      12.8     \n",
              "22   19                  102                  0.9912  3.17 0.35      11.0     \n",
              "23   41                  122                  0.9930  3.47 0.48      10.5     \n",
              "24   25                  168                  0.9937  3.05 0.51       9.3     \n",
              "25   16                  142                  0.9951  3.42 0.47      10.0     \n",
              "26   56                  245                  0.9955  3.25 0.50      10.4     \n",
              "27   35                  146                  0.9930  3.45 0.44      10.0     \n",
              "28   32                  141                  0.9961  3.38 0.53      10.5     \n",
              "29   17                  132                  0.9914  3.19 0.49      11.6     \n",
              "30   37                  114                  0.9906  3.10 0.71      12.3     \n",
              "⋮    ⋮                   ⋮                    ⋮       ⋮    ⋮         ⋮        \n",
              "4869 42                  124                  0.99324 3.31 0.64      10.800000\n",
              "4870  8                   81                  0.99626 3.19 0.51       9.800000\n",
              "4871 29                  132                  0.99188 3.15 0.36      11.450000\n",
              "4872 20                   98                  0.98970 3.37 0.55      12.050000\n",
              "4873 50                  179                  0.99622 3.14 0.60       9.700000\n",
              "4874 33                  122                  0.99044 3.33 0.52      11.900000\n",
              "4875 16                  125                  0.99282 3.49 0.49      10.000000\n",
              "4876 18                   97                  0.99245 3.12 0.41       9.700000\n",
              "4877 34                  117                  0.99132 3.36 0.59      11.600000\n",
              "4878 12                   82                  0.99286 3.25 0.36       8.800000\n",
              "4879  6                   81                  0.99234 3.24 0.35       9.500000\n",
              "4880 68                  170                  0.99494 3.15 0.50       9.533333\n",
              "4881 68                  170                  0.99494 3.15 0.50       9.533333\n",
              "4882 34                  118                  0.99540 3.07 0.50       9.400000\n",
              "4883 45                  156                  0.99184 3.26 0.38      10.700000\n",
              "4884 60                  148                  0.98964 3.27 0.35      11.500000\n",
              "4885 68                  174                  0.99492 3.14 0.50       9.600000\n",
              "4886 68                  170                  0.99494 3.15 0.50       9.550000\n",
              "4887 45                  121                  0.99168 3.21 1.08      12.150000\n",
              "4888  5                   56                  0.98928 3.04 0.79      13.000000\n",
              "4889 38                  127                  0.99330 3.04 0.54       9.200000\n",
              "4890 34                  118                  0.99540 3.07 0.50       9.400000\n",
              "4891 25                  100                  0.98938 3.06 0.44      11.800000\n",
              "4892 38                  121                  0.99074 3.24 0.46      10.600000\n",
              "4893 29                  112                  0.99298 3.29 0.54       9.700000\n",
              "4894 24                   92                  0.99114 3.27 0.50      11.200000\n",
              "4895 57                  168                  0.99490 3.15 0.46       9.600000\n",
              "4896 30                  111                  0.99254 2.99 0.46       9.400000\n",
              "4897 20                  110                  0.98869 3.34 0.38      12.800000\n",
              "4898 22                   98                  0.98941 3.26 0.32      11.800000\n",
              "     quality\n",
              "1    6      \n",
              "2    6      \n",
              "3    6      \n",
              "4    6      \n",
              "5    6      \n",
              "6    6      \n",
              "7    6      \n",
              "8    6      \n",
              "9    6      \n",
              "10   6      \n",
              "11   5      \n",
              "12   5      \n",
              "13   5      \n",
              "14   7      \n",
              "15   5      \n",
              "16   7      \n",
              "17   6      \n",
              "18   8      \n",
              "19   6      \n",
              "20   5      \n",
              "21   8      \n",
              "22   7      \n",
              "23   8      \n",
              "24   5      \n",
              "25   6      \n",
              "26   6      \n",
              "27   6      \n",
              "28   6      \n",
              "29   6      \n",
              "30   7      \n",
              "⋮    ⋮      \n",
              "4869 6      \n",
              "4870 6      \n",
              "4871 7      \n",
              "4872 6      \n",
              "4873 5      \n",
              "4874 6      \n",
              "4875 6      \n",
              "4876 6      \n",
              "4877 7      \n",
              "4878 5      \n",
              "4879 4      \n",
              "4880 6      \n",
              "4881 6      \n",
              "4882 6      \n",
              "4883 5      \n",
              "4884 6      \n",
              "4885 5      \n",
              "4886 6      \n",
              "4887 7      \n",
              "4888 7      \n",
              "4889 5      \n",
              "4890 6      \n",
              "4891 6      \n",
              "4892 6      \n",
              "4893 5      \n",
              "4894 6      \n",
              "4895 5      \n",
              "4896 6      \n",
              "4897 7      \n",
              "4898 6      "
            ],
            "text/latex": "A data.frame: 4898 × 12\n\\begin{tabular}{llllllllllll}\n fixed.acidity & volatile.acidity & citric.acid & residual.sugar & chlorides & free.sulfur.dioxide & total.sulfur.dioxide & density & pH & sulphates & alcohol & quality\\\\\n <dbl> & <dbl> & <dbl> & <dbl> & <dbl> & <dbl> & <dbl> & <dbl> & <dbl> & <dbl> & <dbl> & <int>\\\\\n\\hline\n\t 7.0 & 0.27 & 0.36 & 20.70 & 0.045 & 45 & 170 & 1.0010 & 3.00 & 0.45 &  8.8 & 6\\\\\n\t 6.3 & 0.30 & 0.34 &  1.60 & 0.049 & 14 & 132 & 0.9940 & 3.30 & 0.49 &  9.5 & 6\\\\\n\t 8.1 & 0.28 & 0.40 &  6.90 & 0.050 & 30 &  97 & 0.9951 & 3.26 & 0.44 & 10.1 & 6\\\\\n\t 7.2 & 0.23 & 0.32 &  8.50 & 0.058 & 47 & 186 & 0.9956 & 3.19 & 0.40 &  9.9 & 6\\\\\n\t 7.2 & 0.23 & 0.32 &  8.50 & 0.058 & 47 & 186 & 0.9956 & 3.19 & 0.40 &  9.9 & 6\\\\\n\t 8.1 & 0.28 & 0.40 &  6.90 & 0.050 & 30 &  97 & 0.9951 & 3.26 & 0.44 & 10.1 & 6\\\\\n\t 6.2 & 0.32 & 0.16 &  7.00 & 0.045 & 30 & 136 & 0.9949 & 3.18 & 0.47 &  9.6 & 6\\\\\n\t 7.0 & 0.27 & 0.36 & 20.70 & 0.045 & 45 & 170 & 1.0010 & 3.00 & 0.45 &  8.8 & 6\\\\\n\t 6.3 & 0.30 & 0.34 &  1.60 & 0.049 & 14 & 132 & 0.9940 & 3.30 & 0.49 &  9.5 & 6\\\\\n\t 8.1 & 0.22 & 0.43 &  1.50 & 0.044 & 28 & 129 & 0.9938 & 3.22 & 0.45 & 11.0 & 6\\\\\n\t 8.1 & 0.27 & 0.41 &  1.45 & 0.033 & 11 &  63 & 0.9908 & 2.99 & 0.56 & 12.0 & 5\\\\\n\t 8.6 & 0.23 & 0.40 &  4.20 & 0.035 & 17 & 109 & 0.9947 & 3.14 & 0.53 &  9.7 & 5\\\\\n\t 7.9 & 0.18 & 0.37 &  1.20 & 0.040 & 16 &  75 & 0.9920 & 3.18 & 0.63 & 10.8 & 5\\\\\n\t 6.6 & 0.16 & 0.40 &  1.50 & 0.044 & 48 & 143 & 0.9912 & 3.54 & 0.52 & 12.4 & 7\\\\\n\t 8.3 & 0.42 & 0.62 & 19.25 & 0.040 & 41 & 172 & 1.0002 & 2.98 & 0.67 &  9.7 & 5\\\\\n\t 6.6 & 0.17 & 0.38 &  1.50 & 0.032 & 28 & 112 & 0.9914 & 3.25 & 0.55 & 11.4 & 7\\\\\n\t 6.3 & 0.48 & 0.04 &  1.10 & 0.046 & 30 &  99 & 0.9928 & 3.24 & 0.36 &  9.6 & 6\\\\\n\t 6.2 & 0.66 & 0.48 &  1.20 & 0.029 & 29 &  75 & 0.9892 & 3.33 & 0.39 & 12.8 & 8\\\\\n\t 7.4 & 0.34 & 0.42 &  1.10 & 0.033 & 17 & 171 & 0.9917 & 3.12 & 0.53 & 11.3 & 6\\\\\n\t 6.5 & 0.31 & 0.14 &  7.50 & 0.044 & 34 & 133 & 0.9955 & 3.22 & 0.50 &  9.5 & 5\\\\\n\t 6.2 & 0.66 & 0.48 &  1.20 & 0.029 & 29 &  75 & 0.9892 & 3.33 & 0.39 & 12.8 & 8\\\\\n\t 6.4 & 0.31 & 0.38 &  2.90 & 0.038 & 19 & 102 & 0.9912 & 3.17 & 0.35 & 11.0 & 7\\\\\n\t 6.8 & 0.26 & 0.42 &  1.70 & 0.049 & 41 & 122 & 0.9930 & 3.47 & 0.48 & 10.5 & 8\\\\\n\t 7.6 & 0.67 & 0.14 &  1.50 & 0.074 & 25 & 168 & 0.9937 & 3.05 & 0.51 &  9.3 & 5\\\\\n\t 6.6 & 0.27 & 0.41 &  1.30 & 0.052 & 16 & 142 & 0.9951 & 3.42 & 0.47 & 10.0 & 6\\\\\n\t 7.0 & 0.25 & 0.32 &  9.00 & 0.046 & 56 & 245 & 0.9955 & 3.25 & 0.50 & 10.4 & 6\\\\\n\t 6.9 & 0.24 & 0.35 &  1.00 & 0.052 & 35 & 146 & 0.9930 & 3.45 & 0.44 & 10.0 & 6\\\\\n\t 7.0 & 0.28 & 0.39 &  8.70 & 0.051 & 32 & 141 & 0.9961 & 3.38 & 0.53 & 10.5 & 6\\\\\n\t 7.4 & 0.27 & 0.48 &  1.10 & 0.047 & 17 & 132 & 0.9914 & 3.19 & 0.49 & 11.6 & 6\\\\\n\t 7.2 & 0.32 & 0.36 &  2.00 & 0.033 & 37 & 114 & 0.9906 & 3.10 & 0.71 & 12.3 & 7\\\\\n\t ⋮ & ⋮ & ⋮ & ⋮ & ⋮ & ⋮ & ⋮ & ⋮ & ⋮ & ⋮ & ⋮ & ⋮\\\\\n\t 5.8 & 0.230 & 0.31 &  4.50 & 0.046 & 42 & 124 & 0.99324 & 3.31 & 0.64 & 10.800000 & 6\\\\\n\t 6.6 & 0.240 & 0.33 & 10.10 & 0.032 &  8 &  81 & 0.99626 & 3.19 & 0.51 &  9.800000 & 6\\\\\n\t 6.1 & 0.320 & 0.28 &  6.60 & 0.021 & 29 & 132 & 0.99188 & 3.15 & 0.36 & 11.450000 & 7\\\\\n\t 5.0 & 0.200 & 0.40 &  1.90 & 0.015 & 20 &  98 & 0.98970 & 3.37 & 0.55 & 12.050000 & 6\\\\\n\t 6.0 & 0.420 & 0.41 & 12.40 & 0.032 & 50 & 179 & 0.99622 & 3.14 & 0.60 &  9.700000 & 5\\\\\n\t 5.7 & 0.210 & 0.32 &  1.60 & 0.030 & 33 & 122 & 0.99044 & 3.33 & 0.52 & 11.900000 & 6\\\\\n\t 5.6 & 0.200 & 0.36 &  2.50 & 0.048 & 16 & 125 & 0.99282 & 3.49 & 0.49 & 10.000000 & 6\\\\\n\t 7.4 & 0.220 & 0.26 &  1.20 & 0.035 & 18 &  97 & 0.99245 & 3.12 & 0.41 &  9.700000 & 6\\\\\n\t 6.2 & 0.380 & 0.42 &  2.50 & 0.038 & 34 & 117 & 0.99132 & 3.36 & 0.59 & 11.600000 & 7\\\\\n\t 5.9 & 0.540 & 0.00 &  0.80 & 0.032 & 12 &  82 & 0.99286 & 3.25 & 0.36 &  8.800000 & 5\\\\\n\t 6.2 & 0.530 & 0.02 &  0.90 & 0.035 &  6 &  81 & 0.99234 & 3.24 & 0.35 &  9.500000 & 4\\\\\n\t 6.6 & 0.340 & 0.40 &  8.10 & 0.046 & 68 & 170 & 0.99494 & 3.15 & 0.50 &  9.533333 & 6\\\\\n\t 6.6 & 0.340 & 0.40 &  8.10 & 0.046 & 68 & 170 & 0.99494 & 3.15 & 0.50 &  9.533333 & 6\\\\\n\t 5.0 & 0.235 & 0.27 & 11.75 & 0.030 & 34 & 118 & 0.99540 & 3.07 & 0.50 &  9.400000 & 6\\\\\n\t 5.5 & 0.320 & 0.13 &  1.30 & 0.037 & 45 & 156 & 0.99184 & 3.26 & 0.38 & 10.700000 & 5\\\\\n\t 4.9 & 0.470 & 0.17 &  1.90 & 0.035 & 60 & 148 & 0.98964 & 3.27 & 0.35 & 11.500000 & 6\\\\\n\t 6.5 & 0.330 & 0.38 &  8.30 & 0.048 & 68 & 174 & 0.99492 & 3.14 & 0.50 &  9.600000 & 5\\\\\n\t 6.6 & 0.340 & 0.40 &  8.10 & 0.046 & 68 & 170 & 0.99494 & 3.15 & 0.50 &  9.550000 & 6\\\\\n\t 6.2 & 0.210 & 0.28 &  5.70 & 0.028 & 45 & 121 & 0.99168 & 3.21 & 1.08 & 12.150000 & 7\\\\\n\t 6.2 & 0.410 & 0.22 &  1.90 & 0.023 &  5 &  56 & 0.98928 & 3.04 & 0.79 & 13.000000 & 7\\\\\n\t 6.8 & 0.220 & 0.36 &  1.20 & 0.052 & 38 & 127 & 0.99330 & 3.04 & 0.54 &  9.200000 & 5\\\\\n\t 4.9 & 0.235 & 0.27 & 11.75 & 0.030 & 34 & 118 & 0.99540 & 3.07 & 0.50 &  9.400000 & 6\\\\\n\t 6.1 & 0.340 & 0.29 &  2.20 & 0.036 & 25 & 100 & 0.98938 & 3.06 & 0.44 & 11.800000 & 6\\\\\n\t 5.7 & 0.210 & 0.32 &  0.90 & 0.038 & 38 & 121 & 0.99074 & 3.24 & 0.46 & 10.600000 & 6\\\\\n\t 6.5 & 0.230 & 0.38 &  1.30 & 0.032 & 29 & 112 & 0.99298 & 3.29 & 0.54 &  9.700000 & 5\\\\\n\t 6.2 & 0.210 & 0.29 &  1.60 & 0.039 & 24 &  92 & 0.99114 & 3.27 & 0.50 & 11.200000 & 6\\\\\n\t 6.6 & 0.320 & 0.36 &  8.00 & 0.047 & 57 & 168 & 0.99490 & 3.15 & 0.46 &  9.600000 & 5\\\\\n\t 6.5 & 0.240 & 0.19 &  1.20 & 0.041 & 30 & 111 & 0.99254 & 2.99 & 0.46 &  9.400000 & 6\\\\\n\t 5.5 & 0.290 & 0.30 &  1.10 & 0.022 & 20 & 110 & 0.98869 & 3.34 & 0.38 & 12.800000 & 7\\\\\n\t 6.0 & 0.210 & 0.38 &  0.80 & 0.020 & 22 &  98 & 0.98941 & 3.26 & 0.32 & 11.800000 & 6\\\\\n\\end{tabular}\n",
            "text/markdown": "\nA data.frame: 4898 × 12\n\n| fixed.acidity &lt;dbl&gt; | volatile.acidity &lt;dbl&gt; | citric.acid &lt;dbl&gt; | residual.sugar &lt;dbl&gt; | chlorides &lt;dbl&gt; | free.sulfur.dioxide &lt;dbl&gt; | total.sulfur.dioxide &lt;dbl&gt; | density &lt;dbl&gt; | pH &lt;dbl&gt; | sulphates &lt;dbl&gt; | alcohol &lt;dbl&gt; | quality &lt;int&gt; |\n|---|---|---|---|---|---|---|---|---|---|---|---|\n| 7.0 | 0.27 | 0.36 | 20.70 | 0.045 | 45 | 170 | 1.0010 | 3.00 | 0.45 |  8.8 | 6 |\n| 6.3 | 0.30 | 0.34 |  1.60 | 0.049 | 14 | 132 | 0.9940 | 3.30 | 0.49 |  9.5 | 6 |\n| 8.1 | 0.28 | 0.40 |  6.90 | 0.050 | 30 |  97 | 0.9951 | 3.26 | 0.44 | 10.1 | 6 |\n| 7.2 | 0.23 | 0.32 |  8.50 | 0.058 | 47 | 186 | 0.9956 | 3.19 | 0.40 |  9.9 | 6 |\n| 7.2 | 0.23 | 0.32 |  8.50 | 0.058 | 47 | 186 | 0.9956 | 3.19 | 0.40 |  9.9 | 6 |\n| 8.1 | 0.28 | 0.40 |  6.90 | 0.050 | 30 |  97 | 0.9951 | 3.26 | 0.44 | 10.1 | 6 |\n| 6.2 | 0.32 | 0.16 |  7.00 | 0.045 | 30 | 136 | 0.9949 | 3.18 | 0.47 |  9.6 | 6 |\n| 7.0 | 0.27 | 0.36 | 20.70 | 0.045 | 45 | 170 | 1.0010 | 3.00 | 0.45 |  8.8 | 6 |\n| 6.3 | 0.30 | 0.34 |  1.60 | 0.049 | 14 | 132 | 0.9940 | 3.30 | 0.49 |  9.5 | 6 |\n| 8.1 | 0.22 | 0.43 |  1.50 | 0.044 | 28 | 129 | 0.9938 | 3.22 | 0.45 | 11.0 | 6 |\n| 8.1 | 0.27 | 0.41 |  1.45 | 0.033 | 11 |  63 | 0.9908 | 2.99 | 0.56 | 12.0 | 5 |\n| 8.6 | 0.23 | 0.40 |  4.20 | 0.035 | 17 | 109 | 0.9947 | 3.14 | 0.53 |  9.7 | 5 |\n| 7.9 | 0.18 | 0.37 |  1.20 | 0.040 | 16 |  75 | 0.9920 | 3.18 | 0.63 | 10.8 | 5 |\n| 6.6 | 0.16 | 0.40 |  1.50 | 0.044 | 48 | 143 | 0.9912 | 3.54 | 0.52 | 12.4 | 7 |\n| 8.3 | 0.42 | 0.62 | 19.25 | 0.040 | 41 | 172 | 1.0002 | 2.98 | 0.67 |  9.7 | 5 |\n| 6.6 | 0.17 | 0.38 |  1.50 | 0.032 | 28 | 112 | 0.9914 | 3.25 | 0.55 | 11.4 | 7 |\n| 6.3 | 0.48 | 0.04 |  1.10 | 0.046 | 30 |  99 | 0.9928 | 3.24 | 0.36 |  9.6 | 6 |\n| 6.2 | 0.66 | 0.48 |  1.20 | 0.029 | 29 |  75 | 0.9892 | 3.33 | 0.39 | 12.8 | 8 |\n| 7.4 | 0.34 | 0.42 |  1.10 | 0.033 | 17 | 171 | 0.9917 | 3.12 | 0.53 | 11.3 | 6 |\n| 6.5 | 0.31 | 0.14 |  7.50 | 0.044 | 34 | 133 | 0.9955 | 3.22 | 0.50 |  9.5 | 5 |\n| 6.2 | 0.66 | 0.48 |  1.20 | 0.029 | 29 |  75 | 0.9892 | 3.33 | 0.39 | 12.8 | 8 |\n| 6.4 | 0.31 | 0.38 |  2.90 | 0.038 | 19 | 102 | 0.9912 | 3.17 | 0.35 | 11.0 | 7 |\n| 6.8 | 0.26 | 0.42 |  1.70 | 0.049 | 41 | 122 | 0.9930 | 3.47 | 0.48 | 10.5 | 8 |\n| 7.6 | 0.67 | 0.14 |  1.50 | 0.074 | 25 | 168 | 0.9937 | 3.05 | 0.51 |  9.3 | 5 |\n| 6.6 | 0.27 | 0.41 |  1.30 | 0.052 | 16 | 142 | 0.9951 | 3.42 | 0.47 | 10.0 | 6 |\n| 7.0 | 0.25 | 0.32 |  9.00 | 0.046 | 56 | 245 | 0.9955 | 3.25 | 0.50 | 10.4 | 6 |\n| 6.9 | 0.24 | 0.35 |  1.00 | 0.052 | 35 | 146 | 0.9930 | 3.45 | 0.44 | 10.0 | 6 |\n| 7.0 | 0.28 | 0.39 |  8.70 | 0.051 | 32 | 141 | 0.9961 | 3.38 | 0.53 | 10.5 | 6 |\n| 7.4 | 0.27 | 0.48 |  1.10 | 0.047 | 17 | 132 | 0.9914 | 3.19 | 0.49 | 11.6 | 6 |\n| 7.2 | 0.32 | 0.36 |  2.00 | 0.033 | 37 | 114 | 0.9906 | 3.10 | 0.71 | 12.3 | 7 |\n| ⋮ | ⋮ | ⋮ | ⋮ | ⋮ | ⋮ | ⋮ | ⋮ | ⋮ | ⋮ | ⋮ | ⋮ |\n| 5.8 | 0.230 | 0.31 |  4.50 | 0.046 | 42 | 124 | 0.99324 | 3.31 | 0.64 | 10.800000 | 6 |\n| 6.6 | 0.240 | 0.33 | 10.10 | 0.032 |  8 |  81 | 0.99626 | 3.19 | 0.51 |  9.800000 | 6 |\n| 6.1 | 0.320 | 0.28 |  6.60 | 0.021 | 29 | 132 | 0.99188 | 3.15 | 0.36 | 11.450000 | 7 |\n| 5.0 | 0.200 | 0.40 |  1.90 | 0.015 | 20 |  98 | 0.98970 | 3.37 | 0.55 | 12.050000 | 6 |\n| 6.0 | 0.420 | 0.41 | 12.40 | 0.032 | 50 | 179 | 0.99622 | 3.14 | 0.60 |  9.700000 | 5 |\n| 5.7 | 0.210 | 0.32 |  1.60 | 0.030 | 33 | 122 | 0.99044 | 3.33 | 0.52 | 11.900000 | 6 |\n| 5.6 | 0.200 | 0.36 |  2.50 | 0.048 | 16 | 125 | 0.99282 | 3.49 | 0.49 | 10.000000 | 6 |\n| 7.4 | 0.220 | 0.26 |  1.20 | 0.035 | 18 |  97 | 0.99245 | 3.12 | 0.41 |  9.700000 | 6 |\n| 6.2 | 0.380 | 0.42 |  2.50 | 0.038 | 34 | 117 | 0.99132 | 3.36 | 0.59 | 11.600000 | 7 |\n| 5.9 | 0.540 | 0.00 |  0.80 | 0.032 | 12 |  82 | 0.99286 | 3.25 | 0.36 |  8.800000 | 5 |\n| 6.2 | 0.530 | 0.02 |  0.90 | 0.035 |  6 |  81 | 0.99234 | 3.24 | 0.35 |  9.500000 | 4 |\n| 6.6 | 0.340 | 0.40 |  8.10 | 0.046 | 68 | 170 | 0.99494 | 3.15 | 0.50 |  9.533333 | 6 |\n| 6.6 | 0.340 | 0.40 |  8.10 | 0.046 | 68 | 170 | 0.99494 | 3.15 | 0.50 |  9.533333 | 6 |\n| 5.0 | 0.235 | 0.27 | 11.75 | 0.030 | 34 | 118 | 0.99540 | 3.07 | 0.50 |  9.400000 | 6 |\n| 5.5 | 0.320 | 0.13 |  1.30 | 0.037 | 45 | 156 | 0.99184 | 3.26 | 0.38 | 10.700000 | 5 |\n| 4.9 | 0.470 | 0.17 |  1.90 | 0.035 | 60 | 148 | 0.98964 | 3.27 | 0.35 | 11.500000 | 6 |\n| 6.5 | 0.330 | 0.38 |  8.30 | 0.048 | 68 | 174 | 0.99492 | 3.14 | 0.50 |  9.600000 | 5 |\n| 6.6 | 0.340 | 0.40 |  8.10 | 0.046 | 68 | 170 | 0.99494 | 3.15 | 0.50 |  9.550000 | 6 |\n| 6.2 | 0.210 | 0.28 |  5.70 | 0.028 | 45 | 121 | 0.99168 | 3.21 | 1.08 | 12.150000 | 7 |\n| 6.2 | 0.410 | 0.22 |  1.90 | 0.023 |  5 |  56 | 0.98928 | 3.04 | 0.79 | 13.000000 | 7 |\n| 6.8 | 0.220 | 0.36 |  1.20 | 0.052 | 38 | 127 | 0.99330 | 3.04 | 0.54 |  9.200000 | 5 |\n| 4.9 | 0.235 | 0.27 | 11.75 | 0.030 | 34 | 118 | 0.99540 | 3.07 | 0.50 |  9.400000 | 6 |\n| 6.1 | 0.340 | 0.29 |  2.20 | 0.036 | 25 | 100 | 0.98938 | 3.06 | 0.44 | 11.800000 | 6 |\n| 5.7 | 0.210 | 0.32 |  0.90 | 0.038 | 38 | 121 | 0.99074 | 3.24 | 0.46 | 10.600000 | 6 |\n| 6.5 | 0.230 | 0.38 |  1.30 | 0.032 | 29 | 112 | 0.99298 | 3.29 | 0.54 |  9.700000 | 5 |\n| 6.2 | 0.210 | 0.29 |  1.60 | 0.039 | 24 |  92 | 0.99114 | 3.27 | 0.50 | 11.200000 | 6 |\n| 6.6 | 0.320 | 0.36 |  8.00 | 0.047 | 57 | 168 | 0.99490 | 3.15 | 0.46 |  9.600000 | 5 |\n| 6.5 | 0.240 | 0.19 |  1.20 | 0.041 | 30 | 111 | 0.99254 | 2.99 | 0.46 |  9.400000 | 6 |\n| 5.5 | 0.290 | 0.30 |  1.10 | 0.022 | 20 | 110 | 0.98869 | 3.34 | 0.38 | 12.800000 | 7 |\n| 6.0 | 0.210 | 0.38 |  0.80 | 0.020 | 22 |  98 | 0.98941 | 3.26 | 0.32 | 11.800000 | 6 |\n\n",
            "text/html": [
              "<table class=\"dataframe\">\n",
              "<caption>A data.frame: 4898 × 12</caption>\n",
              "<thead>\n",
              "\t<tr><th scope=col>fixed.acidity</th><th scope=col>volatile.acidity</th><th scope=col>citric.acid</th><th scope=col>residual.sugar</th><th scope=col>chlorides</th><th scope=col>free.sulfur.dioxide</th><th scope=col>total.sulfur.dioxide</th><th scope=col>density</th><th scope=col>pH</th><th scope=col>sulphates</th><th scope=col>alcohol</th><th scope=col>quality</th></tr>\n",
              "\t<tr><th scope=col>&lt;dbl&gt;</th><th scope=col>&lt;dbl&gt;</th><th scope=col>&lt;dbl&gt;</th><th scope=col>&lt;dbl&gt;</th><th scope=col>&lt;dbl&gt;</th><th scope=col>&lt;dbl&gt;</th><th scope=col>&lt;dbl&gt;</th><th scope=col>&lt;dbl&gt;</th><th scope=col>&lt;dbl&gt;</th><th scope=col>&lt;dbl&gt;</th><th scope=col>&lt;dbl&gt;</th><th scope=col>&lt;int&gt;</th></tr>\n",
              "</thead>\n",
              "<tbody>\n",
              "\t<tr><td>7.0</td><td>0.27</td><td>0.36</td><td>20.70</td><td>0.045</td><td>45</td><td>170</td><td>1.0010</td><td>3.00</td><td>0.45</td><td> 8.8</td><td>6</td></tr>\n",
              "\t<tr><td>6.3</td><td>0.30</td><td>0.34</td><td> 1.60</td><td>0.049</td><td>14</td><td>132</td><td>0.9940</td><td>3.30</td><td>0.49</td><td> 9.5</td><td>6</td></tr>\n",
              "\t<tr><td>8.1</td><td>0.28</td><td>0.40</td><td> 6.90</td><td>0.050</td><td>30</td><td> 97</td><td>0.9951</td><td>3.26</td><td>0.44</td><td>10.1</td><td>6</td></tr>\n",
              "\t<tr><td>7.2</td><td>0.23</td><td>0.32</td><td> 8.50</td><td>0.058</td><td>47</td><td>186</td><td>0.9956</td><td>3.19</td><td>0.40</td><td> 9.9</td><td>6</td></tr>\n",
              "\t<tr><td>7.2</td><td>0.23</td><td>0.32</td><td> 8.50</td><td>0.058</td><td>47</td><td>186</td><td>0.9956</td><td>3.19</td><td>0.40</td><td> 9.9</td><td>6</td></tr>\n",
              "\t<tr><td>8.1</td><td>0.28</td><td>0.40</td><td> 6.90</td><td>0.050</td><td>30</td><td> 97</td><td>0.9951</td><td>3.26</td><td>0.44</td><td>10.1</td><td>6</td></tr>\n",
              "\t<tr><td>6.2</td><td>0.32</td><td>0.16</td><td> 7.00</td><td>0.045</td><td>30</td><td>136</td><td>0.9949</td><td>3.18</td><td>0.47</td><td> 9.6</td><td>6</td></tr>\n",
              "\t<tr><td>7.0</td><td>0.27</td><td>0.36</td><td>20.70</td><td>0.045</td><td>45</td><td>170</td><td>1.0010</td><td>3.00</td><td>0.45</td><td> 8.8</td><td>6</td></tr>\n",
              "\t<tr><td>6.3</td><td>0.30</td><td>0.34</td><td> 1.60</td><td>0.049</td><td>14</td><td>132</td><td>0.9940</td><td>3.30</td><td>0.49</td><td> 9.5</td><td>6</td></tr>\n",
              "\t<tr><td>8.1</td><td>0.22</td><td>0.43</td><td> 1.50</td><td>0.044</td><td>28</td><td>129</td><td>0.9938</td><td>3.22</td><td>0.45</td><td>11.0</td><td>6</td></tr>\n",
              "\t<tr><td>8.1</td><td>0.27</td><td>0.41</td><td> 1.45</td><td>0.033</td><td>11</td><td> 63</td><td>0.9908</td><td>2.99</td><td>0.56</td><td>12.0</td><td>5</td></tr>\n",
              "\t<tr><td>8.6</td><td>0.23</td><td>0.40</td><td> 4.20</td><td>0.035</td><td>17</td><td>109</td><td>0.9947</td><td>3.14</td><td>0.53</td><td> 9.7</td><td>5</td></tr>\n",
              "\t<tr><td>7.9</td><td>0.18</td><td>0.37</td><td> 1.20</td><td>0.040</td><td>16</td><td> 75</td><td>0.9920</td><td>3.18</td><td>0.63</td><td>10.8</td><td>5</td></tr>\n",
              "\t<tr><td>6.6</td><td>0.16</td><td>0.40</td><td> 1.50</td><td>0.044</td><td>48</td><td>143</td><td>0.9912</td><td>3.54</td><td>0.52</td><td>12.4</td><td>7</td></tr>\n",
              "\t<tr><td>8.3</td><td>0.42</td><td>0.62</td><td>19.25</td><td>0.040</td><td>41</td><td>172</td><td>1.0002</td><td>2.98</td><td>0.67</td><td> 9.7</td><td>5</td></tr>\n",
              "\t<tr><td>6.6</td><td>0.17</td><td>0.38</td><td> 1.50</td><td>0.032</td><td>28</td><td>112</td><td>0.9914</td><td>3.25</td><td>0.55</td><td>11.4</td><td>7</td></tr>\n",
              "\t<tr><td>6.3</td><td>0.48</td><td>0.04</td><td> 1.10</td><td>0.046</td><td>30</td><td> 99</td><td>0.9928</td><td>3.24</td><td>0.36</td><td> 9.6</td><td>6</td></tr>\n",
              "\t<tr><td>6.2</td><td>0.66</td><td>0.48</td><td> 1.20</td><td>0.029</td><td>29</td><td> 75</td><td>0.9892</td><td>3.33</td><td>0.39</td><td>12.8</td><td>8</td></tr>\n",
              "\t<tr><td>7.4</td><td>0.34</td><td>0.42</td><td> 1.10</td><td>0.033</td><td>17</td><td>171</td><td>0.9917</td><td>3.12</td><td>0.53</td><td>11.3</td><td>6</td></tr>\n",
              "\t<tr><td>6.5</td><td>0.31</td><td>0.14</td><td> 7.50</td><td>0.044</td><td>34</td><td>133</td><td>0.9955</td><td>3.22</td><td>0.50</td><td> 9.5</td><td>5</td></tr>\n",
              "\t<tr><td>6.2</td><td>0.66</td><td>0.48</td><td> 1.20</td><td>0.029</td><td>29</td><td> 75</td><td>0.9892</td><td>3.33</td><td>0.39</td><td>12.8</td><td>8</td></tr>\n",
              "\t<tr><td>6.4</td><td>0.31</td><td>0.38</td><td> 2.90</td><td>0.038</td><td>19</td><td>102</td><td>0.9912</td><td>3.17</td><td>0.35</td><td>11.0</td><td>7</td></tr>\n",
              "\t<tr><td>6.8</td><td>0.26</td><td>0.42</td><td> 1.70</td><td>0.049</td><td>41</td><td>122</td><td>0.9930</td><td>3.47</td><td>0.48</td><td>10.5</td><td>8</td></tr>\n",
              "\t<tr><td>7.6</td><td>0.67</td><td>0.14</td><td> 1.50</td><td>0.074</td><td>25</td><td>168</td><td>0.9937</td><td>3.05</td><td>0.51</td><td> 9.3</td><td>5</td></tr>\n",
              "\t<tr><td>6.6</td><td>0.27</td><td>0.41</td><td> 1.30</td><td>0.052</td><td>16</td><td>142</td><td>0.9951</td><td>3.42</td><td>0.47</td><td>10.0</td><td>6</td></tr>\n",
              "\t<tr><td>7.0</td><td>0.25</td><td>0.32</td><td> 9.00</td><td>0.046</td><td>56</td><td>245</td><td>0.9955</td><td>3.25</td><td>0.50</td><td>10.4</td><td>6</td></tr>\n",
              "\t<tr><td>6.9</td><td>0.24</td><td>0.35</td><td> 1.00</td><td>0.052</td><td>35</td><td>146</td><td>0.9930</td><td>3.45</td><td>0.44</td><td>10.0</td><td>6</td></tr>\n",
              "\t<tr><td>7.0</td><td>0.28</td><td>0.39</td><td> 8.70</td><td>0.051</td><td>32</td><td>141</td><td>0.9961</td><td>3.38</td><td>0.53</td><td>10.5</td><td>6</td></tr>\n",
              "\t<tr><td>7.4</td><td>0.27</td><td>0.48</td><td> 1.10</td><td>0.047</td><td>17</td><td>132</td><td>0.9914</td><td>3.19</td><td>0.49</td><td>11.6</td><td>6</td></tr>\n",
              "\t<tr><td>7.2</td><td>0.32</td><td>0.36</td><td> 2.00</td><td>0.033</td><td>37</td><td>114</td><td>0.9906</td><td>3.10</td><td>0.71</td><td>12.3</td><td>7</td></tr>\n",
              "\t<tr><td>⋮</td><td>⋮</td><td>⋮</td><td>⋮</td><td>⋮</td><td>⋮</td><td>⋮</td><td>⋮</td><td>⋮</td><td>⋮</td><td>⋮</td><td>⋮</td></tr>\n",
              "\t<tr><td>5.8</td><td>0.230</td><td>0.31</td><td> 4.50</td><td>0.046</td><td>42</td><td>124</td><td>0.99324</td><td>3.31</td><td>0.64</td><td>10.800000</td><td>6</td></tr>\n",
              "\t<tr><td>6.6</td><td>0.240</td><td>0.33</td><td>10.10</td><td>0.032</td><td> 8</td><td> 81</td><td>0.99626</td><td>3.19</td><td>0.51</td><td> 9.800000</td><td>6</td></tr>\n",
              "\t<tr><td>6.1</td><td>0.320</td><td>0.28</td><td> 6.60</td><td>0.021</td><td>29</td><td>132</td><td>0.99188</td><td>3.15</td><td>0.36</td><td>11.450000</td><td>7</td></tr>\n",
              "\t<tr><td>5.0</td><td>0.200</td><td>0.40</td><td> 1.90</td><td>0.015</td><td>20</td><td> 98</td><td>0.98970</td><td>3.37</td><td>0.55</td><td>12.050000</td><td>6</td></tr>\n",
              "\t<tr><td>6.0</td><td>0.420</td><td>0.41</td><td>12.40</td><td>0.032</td><td>50</td><td>179</td><td>0.99622</td><td>3.14</td><td>0.60</td><td> 9.700000</td><td>5</td></tr>\n",
              "\t<tr><td>5.7</td><td>0.210</td><td>0.32</td><td> 1.60</td><td>0.030</td><td>33</td><td>122</td><td>0.99044</td><td>3.33</td><td>0.52</td><td>11.900000</td><td>6</td></tr>\n",
              "\t<tr><td>5.6</td><td>0.200</td><td>0.36</td><td> 2.50</td><td>0.048</td><td>16</td><td>125</td><td>0.99282</td><td>3.49</td><td>0.49</td><td>10.000000</td><td>6</td></tr>\n",
              "\t<tr><td>7.4</td><td>0.220</td><td>0.26</td><td> 1.20</td><td>0.035</td><td>18</td><td> 97</td><td>0.99245</td><td>3.12</td><td>0.41</td><td> 9.700000</td><td>6</td></tr>\n",
              "\t<tr><td>6.2</td><td>0.380</td><td>0.42</td><td> 2.50</td><td>0.038</td><td>34</td><td>117</td><td>0.99132</td><td>3.36</td><td>0.59</td><td>11.600000</td><td>7</td></tr>\n",
              "\t<tr><td>5.9</td><td>0.540</td><td>0.00</td><td> 0.80</td><td>0.032</td><td>12</td><td> 82</td><td>0.99286</td><td>3.25</td><td>0.36</td><td> 8.800000</td><td>5</td></tr>\n",
              "\t<tr><td>6.2</td><td>0.530</td><td>0.02</td><td> 0.90</td><td>0.035</td><td> 6</td><td> 81</td><td>0.99234</td><td>3.24</td><td>0.35</td><td> 9.500000</td><td>4</td></tr>\n",
              "\t<tr><td>6.6</td><td>0.340</td><td>0.40</td><td> 8.10</td><td>0.046</td><td>68</td><td>170</td><td>0.99494</td><td>3.15</td><td>0.50</td><td> 9.533333</td><td>6</td></tr>\n",
              "\t<tr><td>6.6</td><td>0.340</td><td>0.40</td><td> 8.10</td><td>0.046</td><td>68</td><td>170</td><td>0.99494</td><td>3.15</td><td>0.50</td><td> 9.533333</td><td>6</td></tr>\n",
              "\t<tr><td>5.0</td><td>0.235</td><td>0.27</td><td>11.75</td><td>0.030</td><td>34</td><td>118</td><td>0.99540</td><td>3.07</td><td>0.50</td><td> 9.400000</td><td>6</td></tr>\n",
              "\t<tr><td>5.5</td><td>0.320</td><td>0.13</td><td> 1.30</td><td>0.037</td><td>45</td><td>156</td><td>0.99184</td><td>3.26</td><td>0.38</td><td>10.700000</td><td>5</td></tr>\n",
              "\t<tr><td>4.9</td><td>0.470</td><td>0.17</td><td> 1.90</td><td>0.035</td><td>60</td><td>148</td><td>0.98964</td><td>3.27</td><td>0.35</td><td>11.500000</td><td>6</td></tr>\n",
              "\t<tr><td>6.5</td><td>0.330</td><td>0.38</td><td> 8.30</td><td>0.048</td><td>68</td><td>174</td><td>0.99492</td><td>3.14</td><td>0.50</td><td> 9.600000</td><td>5</td></tr>\n",
              "\t<tr><td>6.6</td><td>0.340</td><td>0.40</td><td> 8.10</td><td>0.046</td><td>68</td><td>170</td><td>0.99494</td><td>3.15</td><td>0.50</td><td> 9.550000</td><td>6</td></tr>\n",
              "\t<tr><td>6.2</td><td>0.210</td><td>0.28</td><td> 5.70</td><td>0.028</td><td>45</td><td>121</td><td>0.99168</td><td>3.21</td><td>1.08</td><td>12.150000</td><td>7</td></tr>\n",
              "\t<tr><td>6.2</td><td>0.410</td><td>0.22</td><td> 1.90</td><td>0.023</td><td> 5</td><td> 56</td><td>0.98928</td><td>3.04</td><td>0.79</td><td>13.000000</td><td>7</td></tr>\n",
              "\t<tr><td>6.8</td><td>0.220</td><td>0.36</td><td> 1.20</td><td>0.052</td><td>38</td><td>127</td><td>0.99330</td><td>3.04</td><td>0.54</td><td> 9.200000</td><td>5</td></tr>\n",
              "\t<tr><td>4.9</td><td>0.235</td><td>0.27</td><td>11.75</td><td>0.030</td><td>34</td><td>118</td><td>0.99540</td><td>3.07</td><td>0.50</td><td> 9.400000</td><td>6</td></tr>\n",
              "\t<tr><td>6.1</td><td>0.340</td><td>0.29</td><td> 2.20</td><td>0.036</td><td>25</td><td>100</td><td>0.98938</td><td>3.06</td><td>0.44</td><td>11.800000</td><td>6</td></tr>\n",
              "\t<tr><td>5.7</td><td>0.210</td><td>0.32</td><td> 0.90</td><td>0.038</td><td>38</td><td>121</td><td>0.99074</td><td>3.24</td><td>0.46</td><td>10.600000</td><td>6</td></tr>\n",
              "\t<tr><td>6.5</td><td>0.230</td><td>0.38</td><td> 1.30</td><td>0.032</td><td>29</td><td>112</td><td>0.99298</td><td>3.29</td><td>0.54</td><td> 9.700000</td><td>5</td></tr>\n",
              "\t<tr><td>6.2</td><td>0.210</td><td>0.29</td><td> 1.60</td><td>0.039</td><td>24</td><td> 92</td><td>0.99114</td><td>3.27</td><td>0.50</td><td>11.200000</td><td>6</td></tr>\n",
              "\t<tr><td>6.6</td><td>0.320</td><td>0.36</td><td> 8.00</td><td>0.047</td><td>57</td><td>168</td><td>0.99490</td><td>3.15</td><td>0.46</td><td> 9.600000</td><td>5</td></tr>\n",
              "\t<tr><td>6.5</td><td>0.240</td><td>0.19</td><td> 1.20</td><td>0.041</td><td>30</td><td>111</td><td>0.99254</td><td>2.99</td><td>0.46</td><td> 9.400000</td><td>6</td></tr>\n",
              "\t<tr><td>5.5</td><td>0.290</td><td>0.30</td><td> 1.10</td><td>0.022</td><td>20</td><td>110</td><td>0.98869</td><td>3.34</td><td>0.38</td><td>12.800000</td><td>7</td></tr>\n",
              "\t<tr><td>6.0</td><td>0.210</td><td>0.38</td><td> 0.80</td><td>0.020</td><td>22</td><td> 98</td><td>0.98941</td><td>3.26</td><td>0.32</td><td>11.800000</td><td>6</td></tr>\n",
              "</tbody>\n",
              "</table>\n"
            ]
          },
          "metadata": {
            "tags": []
          }
        }
      ]
    },
    {
      "cell_type": "code",
      "metadata": {
        "id": "IglZCdD38n5y",
        "colab": {
          "base_uri": "https://localhost:8080/",
          "height": 1000
        },
        "outputId": "f88cc896-c161-44b7-8ae2-54702c619280"
      },
      "source": [
        "dr <- read.table('https://archive.ics.uci.edu/ml/machine-learning-databases/wine-quality/winequality-white.csv', stringsAsFactors = F, sep =';', header = T)\n",
        "dr"
      ],
      "execution_count": null,
      "outputs": [
        {
          "output_type": "display_data",
          "data": {
            "text/plain": [
              "     fixed.acidity volatile.acidity citric.acid residual.sugar chlorides\n",
              "1    7.0           0.27             0.36        20.70          0.045    \n",
              "2    6.3           0.30             0.34         1.60          0.049    \n",
              "3    8.1           0.28             0.40         6.90          0.050    \n",
              "4    7.2           0.23             0.32         8.50          0.058    \n",
              "5    7.2           0.23             0.32         8.50          0.058    \n",
              "6    8.1           0.28             0.40         6.90          0.050    \n",
              "7    6.2           0.32             0.16         7.00          0.045    \n",
              "8    7.0           0.27             0.36        20.70          0.045    \n",
              "9    6.3           0.30             0.34         1.60          0.049    \n",
              "10   8.1           0.22             0.43         1.50          0.044    \n",
              "11   8.1           0.27             0.41         1.45          0.033    \n",
              "12   8.6           0.23             0.40         4.20          0.035    \n",
              "13   7.9           0.18             0.37         1.20          0.040    \n",
              "14   6.6           0.16             0.40         1.50          0.044    \n",
              "15   8.3           0.42             0.62        19.25          0.040    \n",
              "16   6.6           0.17             0.38         1.50          0.032    \n",
              "17   6.3           0.48             0.04         1.10          0.046    \n",
              "18   6.2           0.66             0.48         1.20          0.029    \n",
              "19   7.4           0.34             0.42         1.10          0.033    \n",
              "20   6.5           0.31             0.14         7.50          0.044    \n",
              "21   6.2           0.66             0.48         1.20          0.029    \n",
              "22   6.4           0.31             0.38         2.90          0.038    \n",
              "23   6.8           0.26             0.42         1.70          0.049    \n",
              "24   7.6           0.67             0.14         1.50          0.074    \n",
              "25   6.6           0.27             0.41         1.30          0.052    \n",
              "26   7.0           0.25             0.32         9.00          0.046    \n",
              "27   6.9           0.24             0.35         1.00          0.052    \n",
              "28   7.0           0.28             0.39         8.70          0.051    \n",
              "29   7.4           0.27             0.48         1.10          0.047    \n",
              "30   7.2           0.32             0.36         2.00          0.033    \n",
              "⋮    ⋮             ⋮                ⋮           ⋮              ⋮        \n",
              "4869 5.8           0.230            0.31         4.50          0.046    \n",
              "4870 6.6           0.240            0.33        10.10          0.032    \n",
              "4871 6.1           0.320            0.28         6.60          0.021    \n",
              "4872 5.0           0.200            0.40         1.90          0.015    \n",
              "4873 6.0           0.420            0.41        12.40          0.032    \n",
              "4874 5.7           0.210            0.32         1.60          0.030    \n",
              "4875 5.6           0.200            0.36         2.50          0.048    \n",
              "4876 7.4           0.220            0.26         1.20          0.035    \n",
              "4877 6.2           0.380            0.42         2.50          0.038    \n",
              "4878 5.9           0.540            0.00         0.80          0.032    \n",
              "4879 6.2           0.530            0.02         0.90          0.035    \n",
              "4880 6.6           0.340            0.40         8.10          0.046    \n",
              "4881 6.6           0.340            0.40         8.10          0.046    \n",
              "4882 5.0           0.235            0.27        11.75          0.030    \n",
              "4883 5.5           0.320            0.13         1.30          0.037    \n",
              "4884 4.9           0.470            0.17         1.90          0.035    \n",
              "4885 6.5           0.330            0.38         8.30          0.048    \n",
              "4886 6.6           0.340            0.40         8.10          0.046    \n",
              "4887 6.2           0.210            0.28         5.70          0.028    \n",
              "4888 6.2           0.410            0.22         1.90          0.023    \n",
              "4889 6.8           0.220            0.36         1.20          0.052    \n",
              "4890 4.9           0.235            0.27        11.75          0.030    \n",
              "4891 6.1           0.340            0.29         2.20          0.036    \n",
              "4892 5.7           0.210            0.32         0.90          0.038    \n",
              "4893 6.5           0.230            0.38         1.30          0.032    \n",
              "4894 6.2           0.210            0.29         1.60          0.039    \n",
              "4895 6.6           0.320            0.36         8.00          0.047    \n",
              "4896 6.5           0.240            0.19         1.20          0.041    \n",
              "4897 5.5           0.290            0.30         1.10          0.022    \n",
              "4898 6.0           0.210            0.38         0.80          0.020    \n",
              "     free.sulfur.dioxide total.sulfur.dioxide density pH   sulphates alcohol  \n",
              "1    45                  170                  1.0010  3.00 0.45       8.8     \n",
              "2    14                  132                  0.9940  3.30 0.49       9.5     \n",
              "3    30                   97                  0.9951  3.26 0.44      10.1     \n",
              "4    47                  186                  0.9956  3.19 0.40       9.9     \n",
              "5    47                  186                  0.9956  3.19 0.40       9.9     \n",
              "6    30                   97                  0.9951  3.26 0.44      10.1     \n",
              "7    30                  136                  0.9949  3.18 0.47       9.6     \n",
              "8    45                  170                  1.0010  3.00 0.45       8.8     \n",
              "9    14                  132                  0.9940  3.30 0.49       9.5     \n",
              "10   28                  129                  0.9938  3.22 0.45      11.0     \n",
              "11   11                   63                  0.9908  2.99 0.56      12.0     \n",
              "12   17                  109                  0.9947  3.14 0.53       9.7     \n",
              "13   16                   75                  0.9920  3.18 0.63      10.8     \n",
              "14   48                  143                  0.9912  3.54 0.52      12.4     \n",
              "15   41                  172                  1.0002  2.98 0.67       9.7     \n",
              "16   28                  112                  0.9914  3.25 0.55      11.4     \n",
              "17   30                   99                  0.9928  3.24 0.36       9.6     \n",
              "18   29                   75                  0.9892  3.33 0.39      12.8     \n",
              "19   17                  171                  0.9917  3.12 0.53      11.3     \n",
              "20   34                  133                  0.9955  3.22 0.50       9.5     \n",
              "21   29                   75                  0.9892  3.33 0.39      12.8     \n",
              "22   19                  102                  0.9912  3.17 0.35      11.0     \n",
              "23   41                  122                  0.9930  3.47 0.48      10.5     \n",
              "24   25                  168                  0.9937  3.05 0.51       9.3     \n",
              "25   16                  142                  0.9951  3.42 0.47      10.0     \n",
              "26   56                  245                  0.9955  3.25 0.50      10.4     \n",
              "27   35                  146                  0.9930  3.45 0.44      10.0     \n",
              "28   32                  141                  0.9961  3.38 0.53      10.5     \n",
              "29   17                  132                  0.9914  3.19 0.49      11.6     \n",
              "30   37                  114                  0.9906  3.10 0.71      12.3     \n",
              "⋮    ⋮                   ⋮                    ⋮       ⋮    ⋮         ⋮        \n",
              "4869 42                  124                  0.99324 3.31 0.64      10.800000\n",
              "4870  8                   81                  0.99626 3.19 0.51       9.800000\n",
              "4871 29                  132                  0.99188 3.15 0.36      11.450000\n",
              "4872 20                   98                  0.98970 3.37 0.55      12.050000\n",
              "4873 50                  179                  0.99622 3.14 0.60       9.700000\n",
              "4874 33                  122                  0.99044 3.33 0.52      11.900000\n",
              "4875 16                  125                  0.99282 3.49 0.49      10.000000\n",
              "4876 18                   97                  0.99245 3.12 0.41       9.700000\n",
              "4877 34                  117                  0.99132 3.36 0.59      11.600000\n",
              "4878 12                   82                  0.99286 3.25 0.36       8.800000\n",
              "4879  6                   81                  0.99234 3.24 0.35       9.500000\n",
              "4880 68                  170                  0.99494 3.15 0.50       9.533333\n",
              "4881 68                  170                  0.99494 3.15 0.50       9.533333\n",
              "4882 34                  118                  0.99540 3.07 0.50       9.400000\n",
              "4883 45                  156                  0.99184 3.26 0.38      10.700000\n",
              "4884 60                  148                  0.98964 3.27 0.35      11.500000\n",
              "4885 68                  174                  0.99492 3.14 0.50       9.600000\n",
              "4886 68                  170                  0.99494 3.15 0.50       9.550000\n",
              "4887 45                  121                  0.99168 3.21 1.08      12.150000\n",
              "4888  5                   56                  0.98928 3.04 0.79      13.000000\n",
              "4889 38                  127                  0.99330 3.04 0.54       9.200000\n",
              "4890 34                  118                  0.99540 3.07 0.50       9.400000\n",
              "4891 25                  100                  0.98938 3.06 0.44      11.800000\n",
              "4892 38                  121                  0.99074 3.24 0.46      10.600000\n",
              "4893 29                  112                  0.99298 3.29 0.54       9.700000\n",
              "4894 24                   92                  0.99114 3.27 0.50      11.200000\n",
              "4895 57                  168                  0.99490 3.15 0.46       9.600000\n",
              "4896 30                  111                  0.99254 2.99 0.46       9.400000\n",
              "4897 20                  110                  0.98869 3.34 0.38      12.800000\n",
              "4898 22                   98                  0.98941 3.26 0.32      11.800000\n",
              "     quality\n",
              "1    6      \n",
              "2    6      \n",
              "3    6      \n",
              "4    6      \n",
              "5    6      \n",
              "6    6      \n",
              "7    6      \n",
              "8    6      \n",
              "9    6      \n",
              "10   6      \n",
              "11   5      \n",
              "12   5      \n",
              "13   5      \n",
              "14   7      \n",
              "15   5      \n",
              "16   7      \n",
              "17   6      \n",
              "18   8      \n",
              "19   6      \n",
              "20   5      \n",
              "21   8      \n",
              "22   7      \n",
              "23   8      \n",
              "24   5      \n",
              "25   6      \n",
              "26   6      \n",
              "27   6      \n",
              "28   6      \n",
              "29   6      \n",
              "30   7      \n",
              "⋮    ⋮      \n",
              "4869 6      \n",
              "4870 6      \n",
              "4871 7      \n",
              "4872 6      \n",
              "4873 5      \n",
              "4874 6      \n",
              "4875 6      \n",
              "4876 6      \n",
              "4877 7      \n",
              "4878 5      \n",
              "4879 4      \n",
              "4880 6      \n",
              "4881 6      \n",
              "4882 6      \n",
              "4883 5      \n",
              "4884 6      \n",
              "4885 5      \n",
              "4886 6      \n",
              "4887 7      \n",
              "4888 7      \n",
              "4889 5      \n",
              "4890 6      \n",
              "4891 6      \n",
              "4892 6      \n",
              "4893 5      \n",
              "4894 6      \n",
              "4895 5      \n",
              "4896 6      \n",
              "4897 7      \n",
              "4898 6      "
            ],
            "text/latex": "A data.frame: 4898 × 12\n\\begin{tabular}{llllllllllll}\n fixed.acidity & volatile.acidity & citric.acid & residual.sugar & chlorides & free.sulfur.dioxide & total.sulfur.dioxide & density & pH & sulphates & alcohol & quality\\\\\n <dbl> & <dbl> & <dbl> & <dbl> & <dbl> & <dbl> & <dbl> & <dbl> & <dbl> & <dbl> & <dbl> & <int>\\\\\n\\hline\n\t 7.0 & 0.27 & 0.36 & 20.70 & 0.045 & 45 & 170 & 1.0010 & 3.00 & 0.45 &  8.8 & 6\\\\\n\t 6.3 & 0.30 & 0.34 &  1.60 & 0.049 & 14 & 132 & 0.9940 & 3.30 & 0.49 &  9.5 & 6\\\\\n\t 8.1 & 0.28 & 0.40 &  6.90 & 0.050 & 30 &  97 & 0.9951 & 3.26 & 0.44 & 10.1 & 6\\\\\n\t 7.2 & 0.23 & 0.32 &  8.50 & 0.058 & 47 & 186 & 0.9956 & 3.19 & 0.40 &  9.9 & 6\\\\\n\t 7.2 & 0.23 & 0.32 &  8.50 & 0.058 & 47 & 186 & 0.9956 & 3.19 & 0.40 &  9.9 & 6\\\\\n\t 8.1 & 0.28 & 0.40 &  6.90 & 0.050 & 30 &  97 & 0.9951 & 3.26 & 0.44 & 10.1 & 6\\\\\n\t 6.2 & 0.32 & 0.16 &  7.00 & 0.045 & 30 & 136 & 0.9949 & 3.18 & 0.47 &  9.6 & 6\\\\\n\t 7.0 & 0.27 & 0.36 & 20.70 & 0.045 & 45 & 170 & 1.0010 & 3.00 & 0.45 &  8.8 & 6\\\\\n\t 6.3 & 0.30 & 0.34 &  1.60 & 0.049 & 14 & 132 & 0.9940 & 3.30 & 0.49 &  9.5 & 6\\\\\n\t 8.1 & 0.22 & 0.43 &  1.50 & 0.044 & 28 & 129 & 0.9938 & 3.22 & 0.45 & 11.0 & 6\\\\\n\t 8.1 & 0.27 & 0.41 &  1.45 & 0.033 & 11 &  63 & 0.9908 & 2.99 & 0.56 & 12.0 & 5\\\\\n\t 8.6 & 0.23 & 0.40 &  4.20 & 0.035 & 17 & 109 & 0.9947 & 3.14 & 0.53 &  9.7 & 5\\\\\n\t 7.9 & 0.18 & 0.37 &  1.20 & 0.040 & 16 &  75 & 0.9920 & 3.18 & 0.63 & 10.8 & 5\\\\\n\t 6.6 & 0.16 & 0.40 &  1.50 & 0.044 & 48 & 143 & 0.9912 & 3.54 & 0.52 & 12.4 & 7\\\\\n\t 8.3 & 0.42 & 0.62 & 19.25 & 0.040 & 41 & 172 & 1.0002 & 2.98 & 0.67 &  9.7 & 5\\\\\n\t 6.6 & 0.17 & 0.38 &  1.50 & 0.032 & 28 & 112 & 0.9914 & 3.25 & 0.55 & 11.4 & 7\\\\\n\t 6.3 & 0.48 & 0.04 &  1.10 & 0.046 & 30 &  99 & 0.9928 & 3.24 & 0.36 &  9.6 & 6\\\\\n\t 6.2 & 0.66 & 0.48 &  1.20 & 0.029 & 29 &  75 & 0.9892 & 3.33 & 0.39 & 12.8 & 8\\\\\n\t 7.4 & 0.34 & 0.42 &  1.10 & 0.033 & 17 & 171 & 0.9917 & 3.12 & 0.53 & 11.3 & 6\\\\\n\t 6.5 & 0.31 & 0.14 &  7.50 & 0.044 & 34 & 133 & 0.9955 & 3.22 & 0.50 &  9.5 & 5\\\\\n\t 6.2 & 0.66 & 0.48 &  1.20 & 0.029 & 29 &  75 & 0.9892 & 3.33 & 0.39 & 12.8 & 8\\\\\n\t 6.4 & 0.31 & 0.38 &  2.90 & 0.038 & 19 & 102 & 0.9912 & 3.17 & 0.35 & 11.0 & 7\\\\\n\t 6.8 & 0.26 & 0.42 &  1.70 & 0.049 & 41 & 122 & 0.9930 & 3.47 & 0.48 & 10.5 & 8\\\\\n\t 7.6 & 0.67 & 0.14 &  1.50 & 0.074 & 25 & 168 & 0.9937 & 3.05 & 0.51 &  9.3 & 5\\\\\n\t 6.6 & 0.27 & 0.41 &  1.30 & 0.052 & 16 & 142 & 0.9951 & 3.42 & 0.47 & 10.0 & 6\\\\\n\t 7.0 & 0.25 & 0.32 &  9.00 & 0.046 & 56 & 245 & 0.9955 & 3.25 & 0.50 & 10.4 & 6\\\\\n\t 6.9 & 0.24 & 0.35 &  1.00 & 0.052 & 35 & 146 & 0.9930 & 3.45 & 0.44 & 10.0 & 6\\\\\n\t 7.0 & 0.28 & 0.39 &  8.70 & 0.051 & 32 & 141 & 0.9961 & 3.38 & 0.53 & 10.5 & 6\\\\\n\t 7.4 & 0.27 & 0.48 &  1.10 & 0.047 & 17 & 132 & 0.9914 & 3.19 & 0.49 & 11.6 & 6\\\\\n\t 7.2 & 0.32 & 0.36 &  2.00 & 0.033 & 37 & 114 & 0.9906 & 3.10 & 0.71 & 12.3 & 7\\\\\n\t ⋮ & ⋮ & ⋮ & ⋮ & ⋮ & ⋮ & ⋮ & ⋮ & ⋮ & ⋮ & ⋮ & ⋮\\\\\n\t 5.8 & 0.230 & 0.31 &  4.50 & 0.046 & 42 & 124 & 0.99324 & 3.31 & 0.64 & 10.800000 & 6\\\\\n\t 6.6 & 0.240 & 0.33 & 10.10 & 0.032 &  8 &  81 & 0.99626 & 3.19 & 0.51 &  9.800000 & 6\\\\\n\t 6.1 & 0.320 & 0.28 &  6.60 & 0.021 & 29 & 132 & 0.99188 & 3.15 & 0.36 & 11.450000 & 7\\\\\n\t 5.0 & 0.200 & 0.40 &  1.90 & 0.015 & 20 &  98 & 0.98970 & 3.37 & 0.55 & 12.050000 & 6\\\\\n\t 6.0 & 0.420 & 0.41 & 12.40 & 0.032 & 50 & 179 & 0.99622 & 3.14 & 0.60 &  9.700000 & 5\\\\\n\t 5.7 & 0.210 & 0.32 &  1.60 & 0.030 & 33 & 122 & 0.99044 & 3.33 & 0.52 & 11.900000 & 6\\\\\n\t 5.6 & 0.200 & 0.36 &  2.50 & 0.048 & 16 & 125 & 0.99282 & 3.49 & 0.49 & 10.000000 & 6\\\\\n\t 7.4 & 0.220 & 0.26 &  1.20 & 0.035 & 18 &  97 & 0.99245 & 3.12 & 0.41 &  9.700000 & 6\\\\\n\t 6.2 & 0.380 & 0.42 &  2.50 & 0.038 & 34 & 117 & 0.99132 & 3.36 & 0.59 & 11.600000 & 7\\\\\n\t 5.9 & 0.540 & 0.00 &  0.80 & 0.032 & 12 &  82 & 0.99286 & 3.25 & 0.36 &  8.800000 & 5\\\\\n\t 6.2 & 0.530 & 0.02 &  0.90 & 0.035 &  6 &  81 & 0.99234 & 3.24 & 0.35 &  9.500000 & 4\\\\\n\t 6.6 & 0.340 & 0.40 &  8.10 & 0.046 & 68 & 170 & 0.99494 & 3.15 & 0.50 &  9.533333 & 6\\\\\n\t 6.6 & 0.340 & 0.40 &  8.10 & 0.046 & 68 & 170 & 0.99494 & 3.15 & 0.50 &  9.533333 & 6\\\\\n\t 5.0 & 0.235 & 0.27 & 11.75 & 0.030 & 34 & 118 & 0.99540 & 3.07 & 0.50 &  9.400000 & 6\\\\\n\t 5.5 & 0.320 & 0.13 &  1.30 & 0.037 & 45 & 156 & 0.99184 & 3.26 & 0.38 & 10.700000 & 5\\\\\n\t 4.9 & 0.470 & 0.17 &  1.90 & 0.035 & 60 & 148 & 0.98964 & 3.27 & 0.35 & 11.500000 & 6\\\\\n\t 6.5 & 0.330 & 0.38 &  8.30 & 0.048 & 68 & 174 & 0.99492 & 3.14 & 0.50 &  9.600000 & 5\\\\\n\t 6.6 & 0.340 & 0.40 &  8.10 & 0.046 & 68 & 170 & 0.99494 & 3.15 & 0.50 &  9.550000 & 6\\\\\n\t 6.2 & 0.210 & 0.28 &  5.70 & 0.028 & 45 & 121 & 0.99168 & 3.21 & 1.08 & 12.150000 & 7\\\\\n\t 6.2 & 0.410 & 0.22 &  1.90 & 0.023 &  5 &  56 & 0.98928 & 3.04 & 0.79 & 13.000000 & 7\\\\\n\t 6.8 & 0.220 & 0.36 &  1.20 & 0.052 & 38 & 127 & 0.99330 & 3.04 & 0.54 &  9.200000 & 5\\\\\n\t 4.9 & 0.235 & 0.27 & 11.75 & 0.030 & 34 & 118 & 0.99540 & 3.07 & 0.50 &  9.400000 & 6\\\\\n\t 6.1 & 0.340 & 0.29 &  2.20 & 0.036 & 25 & 100 & 0.98938 & 3.06 & 0.44 & 11.800000 & 6\\\\\n\t 5.7 & 0.210 & 0.32 &  0.90 & 0.038 & 38 & 121 & 0.99074 & 3.24 & 0.46 & 10.600000 & 6\\\\\n\t 6.5 & 0.230 & 0.38 &  1.30 & 0.032 & 29 & 112 & 0.99298 & 3.29 & 0.54 &  9.700000 & 5\\\\\n\t 6.2 & 0.210 & 0.29 &  1.60 & 0.039 & 24 &  92 & 0.99114 & 3.27 & 0.50 & 11.200000 & 6\\\\\n\t 6.6 & 0.320 & 0.36 &  8.00 & 0.047 & 57 & 168 & 0.99490 & 3.15 & 0.46 &  9.600000 & 5\\\\\n\t 6.5 & 0.240 & 0.19 &  1.20 & 0.041 & 30 & 111 & 0.99254 & 2.99 & 0.46 &  9.400000 & 6\\\\\n\t 5.5 & 0.290 & 0.30 &  1.10 & 0.022 & 20 & 110 & 0.98869 & 3.34 & 0.38 & 12.800000 & 7\\\\\n\t 6.0 & 0.210 & 0.38 &  0.80 & 0.020 & 22 &  98 & 0.98941 & 3.26 & 0.32 & 11.800000 & 6\\\\\n\\end{tabular}\n",
            "text/markdown": "\nA data.frame: 4898 × 12\n\n| fixed.acidity &lt;dbl&gt; | volatile.acidity &lt;dbl&gt; | citric.acid &lt;dbl&gt; | residual.sugar &lt;dbl&gt; | chlorides &lt;dbl&gt; | free.sulfur.dioxide &lt;dbl&gt; | total.sulfur.dioxide &lt;dbl&gt; | density &lt;dbl&gt; | pH &lt;dbl&gt; | sulphates &lt;dbl&gt; | alcohol &lt;dbl&gt; | quality &lt;int&gt; |\n|---|---|---|---|---|---|---|---|---|---|---|---|\n| 7.0 | 0.27 | 0.36 | 20.70 | 0.045 | 45 | 170 | 1.0010 | 3.00 | 0.45 |  8.8 | 6 |\n| 6.3 | 0.30 | 0.34 |  1.60 | 0.049 | 14 | 132 | 0.9940 | 3.30 | 0.49 |  9.5 | 6 |\n| 8.1 | 0.28 | 0.40 |  6.90 | 0.050 | 30 |  97 | 0.9951 | 3.26 | 0.44 | 10.1 | 6 |\n| 7.2 | 0.23 | 0.32 |  8.50 | 0.058 | 47 | 186 | 0.9956 | 3.19 | 0.40 |  9.9 | 6 |\n| 7.2 | 0.23 | 0.32 |  8.50 | 0.058 | 47 | 186 | 0.9956 | 3.19 | 0.40 |  9.9 | 6 |\n| 8.1 | 0.28 | 0.40 |  6.90 | 0.050 | 30 |  97 | 0.9951 | 3.26 | 0.44 | 10.1 | 6 |\n| 6.2 | 0.32 | 0.16 |  7.00 | 0.045 | 30 | 136 | 0.9949 | 3.18 | 0.47 |  9.6 | 6 |\n| 7.0 | 0.27 | 0.36 | 20.70 | 0.045 | 45 | 170 | 1.0010 | 3.00 | 0.45 |  8.8 | 6 |\n| 6.3 | 0.30 | 0.34 |  1.60 | 0.049 | 14 | 132 | 0.9940 | 3.30 | 0.49 |  9.5 | 6 |\n| 8.1 | 0.22 | 0.43 |  1.50 | 0.044 | 28 | 129 | 0.9938 | 3.22 | 0.45 | 11.0 | 6 |\n| 8.1 | 0.27 | 0.41 |  1.45 | 0.033 | 11 |  63 | 0.9908 | 2.99 | 0.56 | 12.0 | 5 |\n| 8.6 | 0.23 | 0.40 |  4.20 | 0.035 | 17 | 109 | 0.9947 | 3.14 | 0.53 |  9.7 | 5 |\n| 7.9 | 0.18 | 0.37 |  1.20 | 0.040 | 16 |  75 | 0.9920 | 3.18 | 0.63 | 10.8 | 5 |\n| 6.6 | 0.16 | 0.40 |  1.50 | 0.044 | 48 | 143 | 0.9912 | 3.54 | 0.52 | 12.4 | 7 |\n| 8.3 | 0.42 | 0.62 | 19.25 | 0.040 | 41 | 172 | 1.0002 | 2.98 | 0.67 |  9.7 | 5 |\n| 6.6 | 0.17 | 0.38 |  1.50 | 0.032 | 28 | 112 | 0.9914 | 3.25 | 0.55 | 11.4 | 7 |\n| 6.3 | 0.48 | 0.04 |  1.10 | 0.046 | 30 |  99 | 0.9928 | 3.24 | 0.36 |  9.6 | 6 |\n| 6.2 | 0.66 | 0.48 |  1.20 | 0.029 | 29 |  75 | 0.9892 | 3.33 | 0.39 | 12.8 | 8 |\n| 7.4 | 0.34 | 0.42 |  1.10 | 0.033 | 17 | 171 | 0.9917 | 3.12 | 0.53 | 11.3 | 6 |\n| 6.5 | 0.31 | 0.14 |  7.50 | 0.044 | 34 | 133 | 0.9955 | 3.22 | 0.50 |  9.5 | 5 |\n| 6.2 | 0.66 | 0.48 |  1.20 | 0.029 | 29 |  75 | 0.9892 | 3.33 | 0.39 | 12.8 | 8 |\n| 6.4 | 0.31 | 0.38 |  2.90 | 0.038 | 19 | 102 | 0.9912 | 3.17 | 0.35 | 11.0 | 7 |\n| 6.8 | 0.26 | 0.42 |  1.70 | 0.049 | 41 | 122 | 0.9930 | 3.47 | 0.48 | 10.5 | 8 |\n| 7.6 | 0.67 | 0.14 |  1.50 | 0.074 | 25 | 168 | 0.9937 | 3.05 | 0.51 |  9.3 | 5 |\n| 6.6 | 0.27 | 0.41 |  1.30 | 0.052 | 16 | 142 | 0.9951 | 3.42 | 0.47 | 10.0 | 6 |\n| 7.0 | 0.25 | 0.32 |  9.00 | 0.046 | 56 | 245 | 0.9955 | 3.25 | 0.50 | 10.4 | 6 |\n| 6.9 | 0.24 | 0.35 |  1.00 | 0.052 | 35 | 146 | 0.9930 | 3.45 | 0.44 | 10.0 | 6 |\n| 7.0 | 0.28 | 0.39 |  8.70 | 0.051 | 32 | 141 | 0.9961 | 3.38 | 0.53 | 10.5 | 6 |\n| 7.4 | 0.27 | 0.48 |  1.10 | 0.047 | 17 | 132 | 0.9914 | 3.19 | 0.49 | 11.6 | 6 |\n| 7.2 | 0.32 | 0.36 |  2.00 | 0.033 | 37 | 114 | 0.9906 | 3.10 | 0.71 | 12.3 | 7 |\n| ⋮ | ⋮ | ⋮ | ⋮ | ⋮ | ⋮ | ⋮ | ⋮ | ⋮ | ⋮ | ⋮ | ⋮ |\n| 5.8 | 0.230 | 0.31 |  4.50 | 0.046 | 42 | 124 | 0.99324 | 3.31 | 0.64 | 10.800000 | 6 |\n| 6.6 | 0.240 | 0.33 | 10.10 | 0.032 |  8 |  81 | 0.99626 | 3.19 | 0.51 |  9.800000 | 6 |\n| 6.1 | 0.320 | 0.28 |  6.60 | 0.021 | 29 | 132 | 0.99188 | 3.15 | 0.36 | 11.450000 | 7 |\n| 5.0 | 0.200 | 0.40 |  1.90 | 0.015 | 20 |  98 | 0.98970 | 3.37 | 0.55 | 12.050000 | 6 |\n| 6.0 | 0.420 | 0.41 | 12.40 | 0.032 | 50 | 179 | 0.99622 | 3.14 | 0.60 |  9.700000 | 5 |\n| 5.7 | 0.210 | 0.32 |  1.60 | 0.030 | 33 | 122 | 0.99044 | 3.33 | 0.52 | 11.900000 | 6 |\n| 5.6 | 0.200 | 0.36 |  2.50 | 0.048 | 16 | 125 | 0.99282 | 3.49 | 0.49 | 10.000000 | 6 |\n| 7.4 | 0.220 | 0.26 |  1.20 | 0.035 | 18 |  97 | 0.99245 | 3.12 | 0.41 |  9.700000 | 6 |\n| 6.2 | 0.380 | 0.42 |  2.50 | 0.038 | 34 | 117 | 0.99132 | 3.36 | 0.59 | 11.600000 | 7 |\n| 5.9 | 0.540 | 0.00 |  0.80 | 0.032 | 12 |  82 | 0.99286 | 3.25 | 0.36 |  8.800000 | 5 |\n| 6.2 | 0.530 | 0.02 |  0.90 | 0.035 |  6 |  81 | 0.99234 | 3.24 | 0.35 |  9.500000 | 4 |\n| 6.6 | 0.340 | 0.40 |  8.10 | 0.046 | 68 | 170 | 0.99494 | 3.15 | 0.50 |  9.533333 | 6 |\n| 6.6 | 0.340 | 0.40 |  8.10 | 0.046 | 68 | 170 | 0.99494 | 3.15 | 0.50 |  9.533333 | 6 |\n| 5.0 | 0.235 | 0.27 | 11.75 | 0.030 | 34 | 118 | 0.99540 | 3.07 | 0.50 |  9.400000 | 6 |\n| 5.5 | 0.320 | 0.13 |  1.30 | 0.037 | 45 | 156 | 0.99184 | 3.26 | 0.38 | 10.700000 | 5 |\n| 4.9 | 0.470 | 0.17 |  1.90 | 0.035 | 60 | 148 | 0.98964 | 3.27 | 0.35 | 11.500000 | 6 |\n| 6.5 | 0.330 | 0.38 |  8.30 | 0.048 | 68 | 174 | 0.99492 | 3.14 | 0.50 |  9.600000 | 5 |\n| 6.6 | 0.340 | 0.40 |  8.10 | 0.046 | 68 | 170 | 0.99494 | 3.15 | 0.50 |  9.550000 | 6 |\n| 6.2 | 0.210 | 0.28 |  5.70 | 0.028 | 45 | 121 | 0.99168 | 3.21 | 1.08 | 12.150000 | 7 |\n| 6.2 | 0.410 | 0.22 |  1.90 | 0.023 |  5 |  56 | 0.98928 | 3.04 | 0.79 | 13.000000 | 7 |\n| 6.8 | 0.220 | 0.36 |  1.20 | 0.052 | 38 | 127 | 0.99330 | 3.04 | 0.54 |  9.200000 | 5 |\n| 4.9 | 0.235 | 0.27 | 11.75 | 0.030 | 34 | 118 | 0.99540 | 3.07 | 0.50 |  9.400000 | 6 |\n| 6.1 | 0.340 | 0.29 |  2.20 | 0.036 | 25 | 100 | 0.98938 | 3.06 | 0.44 | 11.800000 | 6 |\n| 5.7 | 0.210 | 0.32 |  0.90 | 0.038 | 38 | 121 | 0.99074 | 3.24 | 0.46 | 10.600000 | 6 |\n| 6.5 | 0.230 | 0.38 |  1.30 | 0.032 | 29 | 112 | 0.99298 | 3.29 | 0.54 |  9.700000 | 5 |\n| 6.2 | 0.210 | 0.29 |  1.60 | 0.039 | 24 |  92 | 0.99114 | 3.27 | 0.50 | 11.200000 | 6 |\n| 6.6 | 0.320 | 0.36 |  8.00 | 0.047 | 57 | 168 | 0.99490 | 3.15 | 0.46 |  9.600000 | 5 |\n| 6.5 | 0.240 | 0.19 |  1.20 | 0.041 | 30 | 111 | 0.99254 | 2.99 | 0.46 |  9.400000 | 6 |\n| 5.5 | 0.290 | 0.30 |  1.10 | 0.022 | 20 | 110 | 0.98869 | 3.34 | 0.38 | 12.800000 | 7 |\n| 6.0 | 0.210 | 0.38 |  0.80 | 0.020 | 22 |  98 | 0.98941 | 3.26 | 0.32 | 11.800000 | 6 |\n\n",
            "text/html": [
              "<table class=\"dataframe\">\n",
              "<caption>A data.frame: 4898 × 12</caption>\n",
              "<thead>\n",
              "\t<tr><th scope=col>fixed.acidity</th><th scope=col>volatile.acidity</th><th scope=col>citric.acid</th><th scope=col>residual.sugar</th><th scope=col>chlorides</th><th scope=col>free.sulfur.dioxide</th><th scope=col>total.sulfur.dioxide</th><th scope=col>density</th><th scope=col>pH</th><th scope=col>sulphates</th><th scope=col>alcohol</th><th scope=col>quality</th></tr>\n",
              "\t<tr><th scope=col>&lt;dbl&gt;</th><th scope=col>&lt;dbl&gt;</th><th scope=col>&lt;dbl&gt;</th><th scope=col>&lt;dbl&gt;</th><th scope=col>&lt;dbl&gt;</th><th scope=col>&lt;dbl&gt;</th><th scope=col>&lt;dbl&gt;</th><th scope=col>&lt;dbl&gt;</th><th scope=col>&lt;dbl&gt;</th><th scope=col>&lt;dbl&gt;</th><th scope=col>&lt;dbl&gt;</th><th scope=col>&lt;int&gt;</th></tr>\n",
              "</thead>\n",
              "<tbody>\n",
              "\t<tr><td>7.0</td><td>0.27</td><td>0.36</td><td>20.70</td><td>0.045</td><td>45</td><td>170</td><td>1.0010</td><td>3.00</td><td>0.45</td><td> 8.8</td><td>6</td></tr>\n",
              "\t<tr><td>6.3</td><td>0.30</td><td>0.34</td><td> 1.60</td><td>0.049</td><td>14</td><td>132</td><td>0.9940</td><td>3.30</td><td>0.49</td><td> 9.5</td><td>6</td></tr>\n",
              "\t<tr><td>8.1</td><td>0.28</td><td>0.40</td><td> 6.90</td><td>0.050</td><td>30</td><td> 97</td><td>0.9951</td><td>3.26</td><td>0.44</td><td>10.1</td><td>6</td></tr>\n",
              "\t<tr><td>7.2</td><td>0.23</td><td>0.32</td><td> 8.50</td><td>0.058</td><td>47</td><td>186</td><td>0.9956</td><td>3.19</td><td>0.40</td><td> 9.9</td><td>6</td></tr>\n",
              "\t<tr><td>7.2</td><td>0.23</td><td>0.32</td><td> 8.50</td><td>0.058</td><td>47</td><td>186</td><td>0.9956</td><td>3.19</td><td>0.40</td><td> 9.9</td><td>6</td></tr>\n",
              "\t<tr><td>8.1</td><td>0.28</td><td>0.40</td><td> 6.90</td><td>0.050</td><td>30</td><td> 97</td><td>0.9951</td><td>3.26</td><td>0.44</td><td>10.1</td><td>6</td></tr>\n",
              "\t<tr><td>6.2</td><td>0.32</td><td>0.16</td><td> 7.00</td><td>0.045</td><td>30</td><td>136</td><td>0.9949</td><td>3.18</td><td>0.47</td><td> 9.6</td><td>6</td></tr>\n",
              "\t<tr><td>7.0</td><td>0.27</td><td>0.36</td><td>20.70</td><td>0.045</td><td>45</td><td>170</td><td>1.0010</td><td>3.00</td><td>0.45</td><td> 8.8</td><td>6</td></tr>\n",
              "\t<tr><td>6.3</td><td>0.30</td><td>0.34</td><td> 1.60</td><td>0.049</td><td>14</td><td>132</td><td>0.9940</td><td>3.30</td><td>0.49</td><td> 9.5</td><td>6</td></tr>\n",
              "\t<tr><td>8.1</td><td>0.22</td><td>0.43</td><td> 1.50</td><td>0.044</td><td>28</td><td>129</td><td>0.9938</td><td>3.22</td><td>0.45</td><td>11.0</td><td>6</td></tr>\n",
              "\t<tr><td>8.1</td><td>0.27</td><td>0.41</td><td> 1.45</td><td>0.033</td><td>11</td><td> 63</td><td>0.9908</td><td>2.99</td><td>0.56</td><td>12.0</td><td>5</td></tr>\n",
              "\t<tr><td>8.6</td><td>0.23</td><td>0.40</td><td> 4.20</td><td>0.035</td><td>17</td><td>109</td><td>0.9947</td><td>3.14</td><td>0.53</td><td> 9.7</td><td>5</td></tr>\n",
              "\t<tr><td>7.9</td><td>0.18</td><td>0.37</td><td> 1.20</td><td>0.040</td><td>16</td><td> 75</td><td>0.9920</td><td>3.18</td><td>0.63</td><td>10.8</td><td>5</td></tr>\n",
              "\t<tr><td>6.6</td><td>0.16</td><td>0.40</td><td> 1.50</td><td>0.044</td><td>48</td><td>143</td><td>0.9912</td><td>3.54</td><td>0.52</td><td>12.4</td><td>7</td></tr>\n",
              "\t<tr><td>8.3</td><td>0.42</td><td>0.62</td><td>19.25</td><td>0.040</td><td>41</td><td>172</td><td>1.0002</td><td>2.98</td><td>0.67</td><td> 9.7</td><td>5</td></tr>\n",
              "\t<tr><td>6.6</td><td>0.17</td><td>0.38</td><td> 1.50</td><td>0.032</td><td>28</td><td>112</td><td>0.9914</td><td>3.25</td><td>0.55</td><td>11.4</td><td>7</td></tr>\n",
              "\t<tr><td>6.3</td><td>0.48</td><td>0.04</td><td> 1.10</td><td>0.046</td><td>30</td><td> 99</td><td>0.9928</td><td>3.24</td><td>0.36</td><td> 9.6</td><td>6</td></tr>\n",
              "\t<tr><td>6.2</td><td>0.66</td><td>0.48</td><td> 1.20</td><td>0.029</td><td>29</td><td> 75</td><td>0.9892</td><td>3.33</td><td>0.39</td><td>12.8</td><td>8</td></tr>\n",
              "\t<tr><td>7.4</td><td>0.34</td><td>0.42</td><td> 1.10</td><td>0.033</td><td>17</td><td>171</td><td>0.9917</td><td>3.12</td><td>0.53</td><td>11.3</td><td>6</td></tr>\n",
              "\t<tr><td>6.5</td><td>0.31</td><td>0.14</td><td> 7.50</td><td>0.044</td><td>34</td><td>133</td><td>0.9955</td><td>3.22</td><td>0.50</td><td> 9.5</td><td>5</td></tr>\n",
              "\t<tr><td>6.2</td><td>0.66</td><td>0.48</td><td> 1.20</td><td>0.029</td><td>29</td><td> 75</td><td>0.9892</td><td>3.33</td><td>0.39</td><td>12.8</td><td>8</td></tr>\n",
              "\t<tr><td>6.4</td><td>0.31</td><td>0.38</td><td> 2.90</td><td>0.038</td><td>19</td><td>102</td><td>0.9912</td><td>3.17</td><td>0.35</td><td>11.0</td><td>7</td></tr>\n",
              "\t<tr><td>6.8</td><td>0.26</td><td>0.42</td><td> 1.70</td><td>0.049</td><td>41</td><td>122</td><td>0.9930</td><td>3.47</td><td>0.48</td><td>10.5</td><td>8</td></tr>\n",
              "\t<tr><td>7.6</td><td>0.67</td><td>0.14</td><td> 1.50</td><td>0.074</td><td>25</td><td>168</td><td>0.9937</td><td>3.05</td><td>0.51</td><td> 9.3</td><td>5</td></tr>\n",
              "\t<tr><td>6.6</td><td>0.27</td><td>0.41</td><td> 1.30</td><td>0.052</td><td>16</td><td>142</td><td>0.9951</td><td>3.42</td><td>0.47</td><td>10.0</td><td>6</td></tr>\n",
              "\t<tr><td>7.0</td><td>0.25</td><td>0.32</td><td> 9.00</td><td>0.046</td><td>56</td><td>245</td><td>0.9955</td><td>3.25</td><td>0.50</td><td>10.4</td><td>6</td></tr>\n",
              "\t<tr><td>6.9</td><td>0.24</td><td>0.35</td><td> 1.00</td><td>0.052</td><td>35</td><td>146</td><td>0.9930</td><td>3.45</td><td>0.44</td><td>10.0</td><td>6</td></tr>\n",
              "\t<tr><td>7.0</td><td>0.28</td><td>0.39</td><td> 8.70</td><td>0.051</td><td>32</td><td>141</td><td>0.9961</td><td>3.38</td><td>0.53</td><td>10.5</td><td>6</td></tr>\n",
              "\t<tr><td>7.4</td><td>0.27</td><td>0.48</td><td> 1.10</td><td>0.047</td><td>17</td><td>132</td><td>0.9914</td><td>3.19</td><td>0.49</td><td>11.6</td><td>6</td></tr>\n",
              "\t<tr><td>7.2</td><td>0.32</td><td>0.36</td><td> 2.00</td><td>0.033</td><td>37</td><td>114</td><td>0.9906</td><td>3.10</td><td>0.71</td><td>12.3</td><td>7</td></tr>\n",
              "\t<tr><td>⋮</td><td>⋮</td><td>⋮</td><td>⋮</td><td>⋮</td><td>⋮</td><td>⋮</td><td>⋮</td><td>⋮</td><td>⋮</td><td>⋮</td><td>⋮</td></tr>\n",
              "\t<tr><td>5.8</td><td>0.230</td><td>0.31</td><td> 4.50</td><td>0.046</td><td>42</td><td>124</td><td>0.99324</td><td>3.31</td><td>0.64</td><td>10.800000</td><td>6</td></tr>\n",
              "\t<tr><td>6.6</td><td>0.240</td><td>0.33</td><td>10.10</td><td>0.032</td><td> 8</td><td> 81</td><td>0.99626</td><td>3.19</td><td>0.51</td><td> 9.800000</td><td>6</td></tr>\n",
              "\t<tr><td>6.1</td><td>0.320</td><td>0.28</td><td> 6.60</td><td>0.021</td><td>29</td><td>132</td><td>0.99188</td><td>3.15</td><td>0.36</td><td>11.450000</td><td>7</td></tr>\n",
              "\t<tr><td>5.0</td><td>0.200</td><td>0.40</td><td> 1.90</td><td>0.015</td><td>20</td><td> 98</td><td>0.98970</td><td>3.37</td><td>0.55</td><td>12.050000</td><td>6</td></tr>\n",
              "\t<tr><td>6.0</td><td>0.420</td><td>0.41</td><td>12.40</td><td>0.032</td><td>50</td><td>179</td><td>0.99622</td><td>3.14</td><td>0.60</td><td> 9.700000</td><td>5</td></tr>\n",
              "\t<tr><td>5.7</td><td>0.210</td><td>0.32</td><td> 1.60</td><td>0.030</td><td>33</td><td>122</td><td>0.99044</td><td>3.33</td><td>0.52</td><td>11.900000</td><td>6</td></tr>\n",
              "\t<tr><td>5.6</td><td>0.200</td><td>0.36</td><td> 2.50</td><td>0.048</td><td>16</td><td>125</td><td>0.99282</td><td>3.49</td><td>0.49</td><td>10.000000</td><td>6</td></tr>\n",
              "\t<tr><td>7.4</td><td>0.220</td><td>0.26</td><td> 1.20</td><td>0.035</td><td>18</td><td> 97</td><td>0.99245</td><td>3.12</td><td>0.41</td><td> 9.700000</td><td>6</td></tr>\n",
              "\t<tr><td>6.2</td><td>0.380</td><td>0.42</td><td> 2.50</td><td>0.038</td><td>34</td><td>117</td><td>0.99132</td><td>3.36</td><td>0.59</td><td>11.600000</td><td>7</td></tr>\n",
              "\t<tr><td>5.9</td><td>0.540</td><td>0.00</td><td> 0.80</td><td>0.032</td><td>12</td><td> 82</td><td>0.99286</td><td>3.25</td><td>0.36</td><td> 8.800000</td><td>5</td></tr>\n",
              "\t<tr><td>6.2</td><td>0.530</td><td>0.02</td><td> 0.90</td><td>0.035</td><td> 6</td><td> 81</td><td>0.99234</td><td>3.24</td><td>0.35</td><td> 9.500000</td><td>4</td></tr>\n",
              "\t<tr><td>6.6</td><td>0.340</td><td>0.40</td><td> 8.10</td><td>0.046</td><td>68</td><td>170</td><td>0.99494</td><td>3.15</td><td>0.50</td><td> 9.533333</td><td>6</td></tr>\n",
              "\t<tr><td>6.6</td><td>0.340</td><td>0.40</td><td> 8.10</td><td>0.046</td><td>68</td><td>170</td><td>0.99494</td><td>3.15</td><td>0.50</td><td> 9.533333</td><td>6</td></tr>\n",
              "\t<tr><td>5.0</td><td>0.235</td><td>0.27</td><td>11.75</td><td>0.030</td><td>34</td><td>118</td><td>0.99540</td><td>3.07</td><td>0.50</td><td> 9.400000</td><td>6</td></tr>\n",
              "\t<tr><td>5.5</td><td>0.320</td><td>0.13</td><td> 1.30</td><td>0.037</td><td>45</td><td>156</td><td>0.99184</td><td>3.26</td><td>0.38</td><td>10.700000</td><td>5</td></tr>\n",
              "\t<tr><td>4.9</td><td>0.470</td><td>0.17</td><td> 1.90</td><td>0.035</td><td>60</td><td>148</td><td>0.98964</td><td>3.27</td><td>0.35</td><td>11.500000</td><td>6</td></tr>\n",
              "\t<tr><td>6.5</td><td>0.330</td><td>0.38</td><td> 8.30</td><td>0.048</td><td>68</td><td>174</td><td>0.99492</td><td>3.14</td><td>0.50</td><td> 9.600000</td><td>5</td></tr>\n",
              "\t<tr><td>6.6</td><td>0.340</td><td>0.40</td><td> 8.10</td><td>0.046</td><td>68</td><td>170</td><td>0.99494</td><td>3.15</td><td>0.50</td><td> 9.550000</td><td>6</td></tr>\n",
              "\t<tr><td>6.2</td><td>0.210</td><td>0.28</td><td> 5.70</td><td>0.028</td><td>45</td><td>121</td><td>0.99168</td><td>3.21</td><td>1.08</td><td>12.150000</td><td>7</td></tr>\n",
              "\t<tr><td>6.2</td><td>0.410</td><td>0.22</td><td> 1.90</td><td>0.023</td><td> 5</td><td> 56</td><td>0.98928</td><td>3.04</td><td>0.79</td><td>13.000000</td><td>7</td></tr>\n",
              "\t<tr><td>6.8</td><td>0.220</td><td>0.36</td><td> 1.20</td><td>0.052</td><td>38</td><td>127</td><td>0.99330</td><td>3.04</td><td>0.54</td><td> 9.200000</td><td>5</td></tr>\n",
              "\t<tr><td>4.9</td><td>0.235</td><td>0.27</td><td>11.75</td><td>0.030</td><td>34</td><td>118</td><td>0.99540</td><td>3.07</td><td>0.50</td><td> 9.400000</td><td>6</td></tr>\n",
              "\t<tr><td>6.1</td><td>0.340</td><td>0.29</td><td> 2.20</td><td>0.036</td><td>25</td><td>100</td><td>0.98938</td><td>3.06</td><td>0.44</td><td>11.800000</td><td>6</td></tr>\n",
              "\t<tr><td>5.7</td><td>0.210</td><td>0.32</td><td> 0.90</td><td>0.038</td><td>38</td><td>121</td><td>0.99074</td><td>3.24</td><td>0.46</td><td>10.600000</td><td>6</td></tr>\n",
              "\t<tr><td>6.5</td><td>0.230</td><td>0.38</td><td> 1.30</td><td>0.032</td><td>29</td><td>112</td><td>0.99298</td><td>3.29</td><td>0.54</td><td> 9.700000</td><td>5</td></tr>\n",
              "\t<tr><td>6.2</td><td>0.210</td><td>0.29</td><td> 1.60</td><td>0.039</td><td>24</td><td> 92</td><td>0.99114</td><td>3.27</td><td>0.50</td><td>11.200000</td><td>6</td></tr>\n",
              "\t<tr><td>6.6</td><td>0.320</td><td>0.36</td><td> 8.00</td><td>0.047</td><td>57</td><td>168</td><td>0.99490</td><td>3.15</td><td>0.46</td><td> 9.600000</td><td>5</td></tr>\n",
              "\t<tr><td>6.5</td><td>0.240</td><td>0.19</td><td> 1.20</td><td>0.041</td><td>30</td><td>111</td><td>0.99254</td><td>2.99</td><td>0.46</td><td> 9.400000</td><td>6</td></tr>\n",
              "\t<tr><td>5.5</td><td>0.290</td><td>0.30</td><td> 1.10</td><td>0.022</td><td>20</td><td>110</td><td>0.98869</td><td>3.34</td><td>0.38</td><td>12.800000</td><td>7</td></tr>\n",
              "\t<tr><td>6.0</td><td>0.210</td><td>0.38</td><td> 0.80</td><td>0.020</td><td>22</td><td> 98</td><td>0.98941</td><td>3.26</td><td>0.32</td><td>11.800000</td><td>6</td></tr>\n",
              "</tbody>\n",
              "</table>\n"
            ]
          },
          "metadata": {
            "tags": []
          }
        }
      ]
    },
    {
      "cell_type": "code",
      "metadata": {
        "id": "AVYPcuIs82_y"
      },
      "source": [
        "# (1p) Check if any data is missing. If so, remove missing data from the dataset."
      ],
      "execution_count": null,
      "outputs": []
    },
    {
      "cell_type": "code",
      "metadata": {
        "colab": {
          "base_uri": "https://localhost:8080/"
        },
        "id": "dhpxujT_9Z_y",
        "outputId": "0bd107cf-9e45-45e9-d977-77f1e5e6eed0"
      },
      "source": [
        "print(sum(is.na(dr))) # no missing values "
      ],
      "execution_count": null,
      "outputs": [
        {
          "output_type": "stream",
          "text": [
            "[1] 0\n"
          ],
          "name": "stdout"
        }
      ]
    },
    {
      "cell_type": "code",
      "metadata": {
        "id": "oqnL3ojL8_NN"
      },
      "source": [
        "# (2p) Prepare the histogram and density estimation curve (on the same plot) of the variable total.sulfur.dioxide."
      ],
      "execution_count": null,
      "outputs": []
    },
    {
      "cell_type": "code",
      "metadata": {
        "colab": {
          "base_uri": "https://localhost:8080/",
          "height": 437
        },
        "id": "VPjMgJkO-PF6",
        "outputId": "fd1d4116-d81d-4a30-b2ff-89a065ec3454"
      },
      "source": [
        "hist(dr$total.sulfur.dioxide, # histogram\n",
        " col=\"peachpuff\", # column color\n",
        " border=\"black\",\n",
        " prob = TRUE, # show densities instead of frequencies\n",
        " xlab = \"total.sulfur.dioxide\",\n",
        " main = \"sulfur.dioxide\")\n",
        "lines(density(dr$total.sulfur.dioxide), # density plot\n",
        " lwd = 2, # thickness of line\n",
        " col = \"chocolate3\")"
      ],
      "execution_count": null,
      "outputs": [
        {
          "output_type": "display_data",
          "data": {
            "image/png": "[encoded data removed]",
            "text/plain": [
              "Plot with title “sulfur.dioxide”"
            ]
          },
          "metadata": {
            "tags": [],
            "image/png": {
              "width": 420,
              "height": 420
            }
          }
        }
      ]
    },
    {
      "cell_type": "code",
      "metadata": {
        "id": "vbCz_yruAUHC"
      },
      "source": [
        "#(1p) Divide data into training (80%) and validation (20%) with seed equal to 12"
      ],
      "execution_count": null,
      "outputs": []
    },
    {
      "cell_type": "code",
      "metadata": {
        "id": "NbRF3P2DAWqi"
      },
      "source": [
        "set.seed(12)\n",
        "smp = sample(1:nrow(dr),0.8*nrow(dr)) \n",
        "train= dr[smp,]\n",
        "test = dr[-smp,]"
      ],
      "execution_count": null,
      "outputs": []
    },
    {
      "cell_type": "code",
      "metadata": {
        "id": "CZadysg2A8N2",
        "colab": {
          "base_uri": "https://localhost:8080/"
        },
        "outputId": "8ed2de26-dada-490e-eb5b-8c6fe1e5ef1c"
      },
      "source": [
        "str(train)\n",
        "str(test)"
      ],
      "execution_count": null,
      "outputs": [
        {
          "output_type": "stream",
          "text": [
            "'data.frame':\t3918 obs. of  12 variables:\n",
            " $ fixed.acidity       : num  6.3 6.6 6.6 8 6.6 8.5 5.3 7.1 6.7 6.4 ...\n",
            " $ volatile.acidity    : num  0.25 0.27 0.38 0.22 0.26 0.28 0.36 0.21 0.51 0.16 ...\n",
            " $ citric.acid         : num  0.53 0.25 0.28 0.42 0.46 0.34 0.27 0.4 0.24 0.22 ...\n",
            " $ residual.sugar      : num  1.8 1.2 2.8 14.6 6.9 13.8 6.3 1.2 2.1 1.4 ...\n",
            " $ chlorides           : num  0.021 0.033 0.043 0.044 0.047 0.041 0.028 0.069 0.043 0.04 ...\n",
            " $ free.sulfur.dioxide : num  41 36 17 45 59 32 40 24 14 41 ...\n",
            " $ total.sulfur.dioxide: num  101 111 67 163 183 161 132 156 155 149 ...\n",
            " $ density             : num  0.989 0.989 0.989 1 0.996 ...\n",
            " $ pH                  : num  3.19 3.16 3.21 3.21 3.2 3.13 3.37 3.42 3.22 3.49 ...\n",
            " $ sulphates           : num  0.31 0.37 0.47 0.69 0.45 0.4 0.4 0.43 0.6 0.58 ...\n",
            " $ alcohol             : num  13 12.4 13.2 8.6 9.3 9.9 11.6 10.6 13 10 ...\n",
            " $ quality             : int  6 6 6 7 5 6 6 6 6 6 ...\n",
            "'data.frame':\t980 obs. of  12 variables:\n",
            " $ fixed.acidity       : num  6.3 7.2 7.9 6.9 8.3 5.8 7.3 6.7 7 6.7 ...\n",
            " $ volatile.acidity    : num  0.3 0.23 0.18 0.24 0.14 0.27 0.24 0.24 0.31 0.23 ...\n",
            " $ citric.acid         : num  0.34 0.32 0.37 0.35 0.34 0.2 0.39 0.39 0.26 0.26 ...\n",
            " $ residual.sugar      : num  1.6 8.5 1.2 1 1.1 ...\n",
            " $ chlorides           : num  0.049 0.058 0.04 0.052 0.042 0.044 0.057 0.173 0.069 0.06 ...\n",
            " $ free.sulfur.dioxide : num  14 47 16 35 7 22 45 63 28 33 ...\n",
            " $ total.sulfur.dioxide: num  132 186 75 146 47 179 149 157 160 154 ...\n",
            " $ density             : num  0.994 0.996 0.992 0.993 0.993 ...\n",
            " $ pH                  : num  3.3 3.19 3.18 3.45 3.47 3.37 3.21 3.1 3.13 3.24 ...\n",
            " $ sulphates           : num  0.49 0.4 0.63 0.44 0.4 0.37 0.36 0.34 0.46 0.56 ...\n",
            " $ alcohol             : num  9.5 9.9 10.8 10 10.2 10.2 8.6 9.4 9.8 9.5 ...\n",
            " $ quality             : int  6 6 5 6 6 5 5 6 6 6 ...\n"
          ],
          "name": "stdout"
        }
      ]
    },
    {
      "cell_type": "code",
      "metadata": {
        "id": "dbRvvPBMCLki"
      },
      "source": [
        "# Prepare a random forest model with library 'randomForest' using default parameter values, with wine quality as target variable and all other variables as predictors. Which 2 explanatory variables explain the most of wine quality variance?"
      ],
      "execution_count": null,
      "outputs": []
    },
    {
      "cell_type": "code",
      "metadata": {
        "id": "SoSHoJzjC25-"
      },
      "source": [
        "library(randomForest)"
      ],
      "execution_count": null,
      "outputs": []
    },
    {
      "cell_type": "code",
      "metadata": {
        "colab": {
          "base_uri": "https://localhost:8080/"
        },
        "id": "3cViH2vTDEXy",
        "outputId": "7bc4b398-c254-45f1-e6c4-860f075e32cc"
      },
      "source": [
        "str(train)"
      ],
      "execution_count": null,
      "outputs": [
        {
          "output_type": "stream",
          "text": [
            "'data.frame':\t3918 obs. of  12 variables:\n",
            " $ fixed.acidity       : num  6.3 6.6 6.6 8 6.6 8.5 5.3 7.1 6.7 6.4 ...\n",
            " $ volatile.acidity    : num  0.25 0.27 0.38 0.22 0.26 0.28 0.36 0.21 0.51 0.16 ...\n",
            " $ citric.acid         : num  0.53 0.25 0.28 0.42 0.46 0.34 0.27 0.4 0.24 0.22 ...\n",
            " $ residual.sugar      : num  1.8 1.2 2.8 14.6 6.9 13.8 6.3 1.2 2.1 1.4 ...\n",
            " $ chlorides           : num  0.021 0.033 0.043 0.044 0.047 0.041 0.028 0.069 0.043 0.04 ...\n",
            " $ free.sulfur.dioxide : num  41 36 17 45 59 32 40 24 14 41 ...\n",
            " $ total.sulfur.dioxide: num  101 111 67 163 183 161 132 156 155 149 ...\n",
            " $ density             : num  0.989 0.989 0.989 1 0.996 ...\n",
            " $ pH                  : num  3.19 3.16 3.21 3.21 3.2 3.13 3.37 3.42 3.22 3.49 ...\n",
            " $ sulphates           : num  0.31 0.37 0.47 0.69 0.45 0.4 0.4 0.43 0.6 0.58 ...\n",
            " $ alcohol             : num  13 12.4 13.2 8.6 9.3 9.9 11.6 10.6 13 10 ...\n",
            " $ quality             : int  6 6 6 7 5 6 6 6 6 6 ...\n"
          ],
          "name": "stdout"
        }
      ]
    },
    {
      "cell_type": "code",
      "metadata": {
        "id": "1JpNjsiTCoah"
      },
      "source": [
        "rf_classifier = randomForest(quality ~ ., data=train, ntree=100, mtry=2, importance=TRUE)"
      ],
      "execution_count": null,
      "outputs": []
    },
    {
      "cell_type": "code",
      "metadata": {
        "colab": {
          "base_uri": "https://localhost:8080/",
          "height": 170
        },
        "id": "XXcgFyffDKox",
        "outputId": "cc90be8a-95fe-46e9-afe9-8d963e940a05"
      },
      "source": [
        "rf_classifier\n"
      ],
      "execution_count": null,
      "outputs": [
        {
          "output_type": "display_data",
          "data": {
            "text/plain": [
              "\n",
              "Call:\n",
              " randomForest(formula = quality ~ ., data = train, ntree = 100,      mtry = 2, importance = TRUE) \n",
              "               Type of random forest: regression\n",
              "                     Number of trees: 100\n",
              "No. of variables tried at each split: 2\n",
              "\n",
              "          Mean of squared residuals: 0.3885356\n",
              "                    % Var explained: 50.65"
            ]
          },
          "metadata": {
            "tags": []
          }
        }
      ]
    },
    {
      "cell_type": "code",
      "metadata": {
        "colab": {
          "base_uri": "https://localhost:8080/",
          "height": 437
        },
        "id": "xpdThYoODSHU",
        "outputId": "c4fdc540-46ae-4c74-82d8-4e567c66cf8c"
      },
      "source": [
        "varImpPlot(rf_classifier)"
      ],
      "execution_count": null,
      "outputs": [
        {
          "output_type": "display_data",
          "data": {
            "image/png": "[encoded data removed]",
            "text/plain": [
              "plot without title"
            ]
          },
          "metadata": {
            "tags": [],
            "image/png": {
              "width": 420,
              "height": 420
            }
          }
        }
      ]
    },
    {
      "cell_type": "code",
      "metadata": {
        "id": "i6shsAUmDZoJ"
      },
      "source": [
        "# (3p) Prepare the GAM model with the 'mgcv' package, with wine quality as target variable and all other variables as predictors. Apply smoothing the spline only to 'chlorides' and 'sulphates' variables"
      ],
      "execution_count": null,
      "outputs": []
    },
    {
      "cell_type": "code",
      "metadata": {
        "id": "WshoWKiSDjXA"
      },
      "source": [
        "library(mgcv)"
      ],
      "execution_count": null,
      "outputs": []
    },
    {
      "cell_type": "code",
      "metadata": {
        "colab": {
          "base_uri": "https://localhost:8080/"
        },
        "id": "NsBx0fxdDmdN",
        "outputId": "e75746a5-0dee-479a-d717-d11dda0289fc"
      },
      "source": [
        "model = gam(train$quality ~ s(train$chlorides) + train$volatile.acidity \n",
        "                + train$citric.acid + train$residual.sugar + s(train$sulphates \n",
        "                + train$free.sulfur.dioxide + train$total.sulfur.dioxide + train$pH \n",
        "                + train$alcohol + train$fixed.acidity) , data = train)\n",
        "print(model)\n",
        "\n"
      ],
      "execution_count": null,
      "outputs": [
        {
          "output_type": "stream",
          "text": [
            "Warning message in term[i] <- attr(terms(reformulate(term[i])), \"term.labels\"):\n",
            "“number of items to replace is not a multiple of replacement length”\n"
          ],
          "name": "stderr"
        },
        {
          "output_type": "stream",
          "text": [
            "\n",
            "Family: gaussian \n",
            "Link function: identity \n",
            "\n",
            "Formula:\n",
            "train$quality ~ s(train$chlorides) + train$volatile.acidity + \n",
            "    train$citric.acid + train$residual.sugar + s(train$sulphates + \n",
            "    train$free.sulfur.dioxide + train$total.sulfur.dioxide + \n",
            "    train$pH + train$alcohol + train$fixed.acidity)\n",
            "\n",
            "Estimated degrees of freedom:\n",
            "5.16 8.16  total = 17.32 \n",
            "\n",
            "GCV score: 0.685339     \n"
          ],
          "name": "stdout"
        }
      ]
    },
    {
      "cell_type": "code",
      "metadata": {
        "id": "qKV5vfuEFRTO"
      },
      "source": [
        "# (2p) Prepare a linear regression model with an 'lm' package, with wine quality as target variable and all other variables as predictors. Provide Adjusted R-squared of the model."
      ],
      "execution_count": null,
      "outputs": []
    },
    {
      "cell_type": "code",
      "metadata": {
        "colab": {
          "base_uri": "https://localhost:8080/",
          "height": 34
        },
        "id": "2SvJCoRAF6BX",
        "outputId": "4ae8a01d-68fb-4ea3-b61e-1628fa716bbe"
      },
      "source": [
        "names(train)"
      ],
      "execution_count": null,
      "outputs": [
        {
          "output_type": "display_data",
          "data": {
            "text/plain": [
              " [1] \"fixed.acidity\"        \"volatile.acidity\"     \"citric.acid\"         \n",
              " [4] \"residual.sugar\"       \"chlorides\"            \"free.sulfur.dioxide\" \n",
              " [7] \"total.sulfur.dioxide\" \"density\"              \"pH\"                  \n",
              "[10] \"sulphates\"            \"alcohol\"              \"quality\"             "
            ],
            "text/latex": "\\begin{enumerate*}\n\\item 'fixed.acidity'\n\\item 'volatile.acidity'\n\\item 'citric.acid'\n\\item 'residual.sugar'\n\\item 'chlorides'\n\\item 'free.sulfur.dioxide'\n\\item 'total.sulfur.dioxide'\n\\item 'density'\n\\item 'pH'\n\\item 'sulphates'\n\\item 'alcohol'\n\\item 'quality'\n\\end{enumerate*}\n",
            "text/markdown": "1. 'fixed.acidity'\n2. 'volatile.acidity'\n3. 'citric.acid'\n4. 'residual.sugar'\n5. 'chlorides'\n6. 'free.sulfur.dioxide'\n7. 'total.sulfur.dioxide'\n8. 'density'\n9. 'pH'\n10. 'sulphates'\n11. 'alcohol'\n12. 'quality'\n\n\n",
            "text/html": [
              "<style>\n",
              ".list-inline {list-style: none; margin:0; padding: 0}\n",
              ".list-inline>li {display: inline-block}\n",
              ".list-inline>li:not(:last-child)::after {content: \"\\00b7\"; padding: 0 .5ex}\n",
              "</style>\n",
              "<ol class=list-inline><li>'fixed.acidity'</li><li>'volatile.acidity'</li><li>'citric.acid'</li><li>'residual.sugar'</li><li>'chlorides'</li><li>'free.sulfur.dioxide'</li><li>'total.sulfur.dioxide'</li><li>'density'</li><li>'pH'</li><li>'sulphates'</li><li>'alcohol'</li><li>'quality'</li></ol>\n"
            ]
          },
          "metadata": {
            "tags": []
          }
        }
      ]
    },
    {
      "cell_type": "code",
      "metadata": {
        "id": "53xduyEXFRtm"
      },
      "source": [
        "#model <- lm(quality, data = train"
      ],
      "execution_count": null,
      "outputs": []
    },
    {
      "cell_type": "markdown",
      "metadata": {
        "id": "3QsBH33zHB9V"
      },
      "source": [
        ""
      ]
    },
    {
      "cell_type": "code",
      "metadata": {
        "id": "0cyZ8M2bHFG6"
      },
      "source": [
        "\n",
        "\n",
        "# Task2(24p)\n",
        "# Use the data under 'https://archive.ics.uci.edu/ml/machine-learning-databases/00451/dataR2.csv', consisting data of people with breast cancer. If the patient has breast cancer variable Classification is 2, otherwise value 1 is used.\n",
        "# The values in the data set are separated by a comma, they have headers (read it using function 'read.csv', with the stringsAsFactors parameter equal to FALSE).\n",
        "# (1p) Check if any data is missing. If so, remove data from the dataset.\n",
        "# (1p) Recode the variable Classification - ill patients should be denoted as 1 and healthy as 0 - do not create a new variable, but overwrite it\n",
        "# (2p) By how many years on average (variable Age) people with breast cancer are older/younger than the others?\n",
        "# (1p) What is the average Insulin level (Insulin variable) for users with a BMI over 21?\n",
        "# (1p) Randomly divide observations into a training (90% share) and test (10%) set with a seed of 32.\n",
        "# (2p) Prepare the decision tree from the 'rpart' package based on the data from the training set. The target variable is Classification, use all others to explain it. Set the parameter CP to 0. Remember that rpart infers a task by the type of target variable and we are interested in classification\n",
        "# (3p) Choose the optimal level of tree complexity, based on CP parameter table produced by rpart. Cut the tree to the optimal size. Explain how to pick the optimal CP level.\n",
        "# (2p) Draw a pruned decision tree from previous point (with rules).\n",
        "# (2p) Write one example of decision rule generated by a tree (if ... and ... then we predict than patient is ...)\n",
        "# (2p) Prepare the confusion matrix for the test set, assuming a cutoff threshold of 0.60\n",
        "# (3p) Based on the confusion matrix created calculate accuracy, recall and precision. Verify the quality of the tree (subjectively).\n",
        "# (2p) Draw a Lift curve for the prediction on the test set\n",
        "# (2p) Calculate AUC for training and test set. Is the model overfitted? Why/Why not? (comment)\n",
        "\n"
      ],
      "execution_count": null,
      "outputs": []
    },
    {
      "cell_type": "code",
      "metadata": {
        "id": "RD_woynrnotq"
      },
      "source": [
        "dt <-read.csv('https://archive.ics.uci.edu/ml/machine-learning-databases/00451/dataR2.csv', sep=',', header = TRUE, stringsAsFactors = FALSE)"
      ],
      "execution_count": null,
      "outputs": []
    },
    {
      "cell_type": "code",
      "metadata": {
        "id": "obEo7aJTqmF7",
        "colab": {
          "base_uri": "https://localhost:8080/",
          "height": 1000
        },
        "outputId": "3b2bf41c-cccb-4917-a659-4bf41a40e968"
      },
      "source": [
        "dt"
      ],
      "execution_count": null,
      "outputs": [
        {
          "output_type": "display_data",
          "data": {
            "text/plain": [
              "    Age BMI      Glucose Insulin HOMA       Leptin  Adiponectin Resistin\n",
              "1   48  23.50000  70      2.707  0.4674087   8.8071  9.702400    7.99585\n",
              "2   83  20.69049  92      3.115  0.7068973   8.8438  5.429285    4.06405\n",
              "3   82  23.12467  91      4.498  1.0096511  17.9393 22.432040    9.27715\n",
              "4   68  21.36752  77      3.226  0.6127249   9.8827  7.169560   12.76600\n",
              "5   86  21.11111  92      3.549  0.8053864   6.6994  4.819240   10.57635\n",
              "6   49  22.85446  92      3.226  0.7320869   6.8317 13.679750   10.31760\n",
              "7   89  22.70000  77      4.690  0.8907873   6.9640  5.589865   12.93610\n",
              "8   76  23.80000 118      6.470  1.8832013   4.3110 13.251320    5.10420\n",
              "9   73  22.00000  97      3.350  0.8015433   4.4700 10.358725    6.28445\n",
              "10  75  23.00000  83      4.952  1.0138395  17.1270 11.578990    7.09130\n",
              "11  34  21.47000  78      3.469  0.6674356  14.5700 13.110000    6.92000\n",
              "12  29  23.01000  82      5.663  1.1454361  35.5900 26.720000    4.58000\n",
              "13  25  22.86000  82      4.090  0.8272707  20.4500 23.670000    5.14000\n",
              "14  24  18.67000  88      6.107  1.3300000   8.8800 36.060000    6.85000\n",
              "15  38  23.34000  75      5.782  1.0696700  15.2600 17.950000    9.35000\n",
              "16  44  20.76000  86      7.553  1.6000000  14.0900 20.320000    7.64000\n",
              "17  47  22.03000  84      2.869  0.5900000  26.6500 38.040000    3.32000\n",
              "18  61  32.03896  85     18.077  3.7901443  30.7729  7.780255   13.68392\n",
              "19  64  34.52972  95      4.427  1.0373937  21.2117  5.462620    6.70188\n",
              "20  32  36.51264  87     14.026  3.0099796  49.3727  5.100000   17.10223\n",
              "21  36  28.57668  86      4.345  0.9217193  15.1248  8.600000    9.15390\n",
              "22  34  31.97501  87      4.530  0.9721380  28.7502  7.642760    5.62592\n",
              "23  29  32.27079  84      5.810  1.2038320  45.6196  6.209635   24.60330\n",
              "24  35  30.27682  84      4.376  0.9067072  39.2134  9.048185   16.43706\n",
              "25  54  30.48316  90      5.537  1.2292140  12.3310  9.731380   10.19299\n",
              "26  45  37.03561  83      6.760  1.3839973  39.9802  4.617125    8.70448\n",
              "27  50  38.57876 106      6.703  1.7526111  46.6401  4.667645   11.78388\n",
              "28  66  31.44654  90      9.245  2.0523900  45.9624 10.355260   23.38190\n",
              "29  35  35.25076  90      6.817  1.5133740  50.6094  6.966895   22.03703\n",
              "30  36  34.17489  80      6.590  1.3004267  10.2809  5.065915   15.72187\n",
              "⋮   ⋮   ⋮        ⋮       ⋮       ⋮          ⋮       ⋮           ⋮       \n",
              "87  48  28.12500  90      2.540   0.5638800 15.5325 10.222310   16.11032\n",
              "88  85  27.68878 196     51.814  25.0503419 70.8824  7.901685   55.21530\n",
              "89  48  31.25000 199     12.162   5.9699204 18.1314  4.104105   53.63080\n",
              "90  58  29.15452 139     16.582   5.6854151 22.8884 10.262660   13.97399\n",
              "91  40  30.83653 128     41.894  13.2273323 31.0385  6.160995   17.55503\n",
              "92  82  31.21748 100     18.077   4.4589933 31.6453  9.923650   19.94687\n",
              "93  52  30.80125  87     30.212   6.4834952 29.2739  6.268540   24.24591\n",
              "94  49  32.46191 134     24.887   8.2259831 42.3914 10.793940    5.76800\n",
              "95  60  31.23141 131     30.130   9.7360073 37.8430  8.404430   11.50005\n",
              "96  49  29.77778  70      8.396   1.4497093 51.3387 10.731740   20.76801\n",
              "97  44  27.88762  99      9.208   2.2485936 12.6757  5.478170   23.03306\n",
              "98  40  27.63605 103      2.432   0.6178901 14.3224  6.783870   26.01360\n",
              "99  71  27.91552 104     18.200   4.6689067 53.4997  1.656020   49.24184\n",
              "100 69  28.44444 108      8.808   2.3464512 14.7485  5.288025   16.48508\n",
              "101 74  28.65014  88      3.012   0.6538048 31.1233  7.652220   18.35574\n",
              "102 66  26.56250  89      6.524   1.4322355 14.9084  8.429960   14.91922\n",
              "103 65  30.91558  97     10.491   2.5101466 44.0217  3.710090   20.46850\n",
              "104 72  29.13632  83     10.949   2.2416253 26.8081  2.784910   14.76966\n",
              "105 57  34.83815  95     12.548   2.9404147 33.1612  2.364950    9.95420\n",
              "106 73  37.10938 134      5.636   1.8628859 41.4064  3.335665    6.89235\n",
              "107 45  29.38476  90      4.713   1.0462860 23.8479  6.644245   15.55625\n",
              "108 46  33.18000  92      5.750   1.3048667 18.6900  9.160000    8.89000\n",
              "109 68  35.56000 131      8.150   2.6335367 17.8700 11.900000    4.19000\n",
              "110 75  30.48000 152      7.010   2.6282827 50.5300 10.060000   11.73000\n",
              "111 54  36.05000 119     11.910   3.4959820 89.2700  8.010000    5.06000\n",
              "112 45  26.85000  92      3.330   0.7556880 54.6800 12.100000   10.96000\n",
              "113 62  26.84000 100      4.530   1.1174000 12.4500 21.420000    7.32000\n",
              "114 65  32.05000  97      5.730   1.3709980 61.4800 22.540000   10.33000\n",
              "115 72  25.59000  82      2.820   0.5703920 24.9600 33.750000    3.27000\n",
              "116 86  27.18000 138     19.910   6.7773640 90.2800 14.110000    4.35000\n",
              "    MCP.1    Classification\n",
              "1    417.114 1             \n",
              "2    468.786 1             \n",
              "3    554.697 1             \n",
              "4    928.220 1             \n",
              "5    773.920 1             \n",
              "6    530.410 1             \n",
              "7   1256.083 1             \n",
              "8    280.694 1             \n",
              "9    136.855 1             \n",
              "10   318.302 1             \n",
              "11   354.600 1             \n",
              "12   174.800 1             \n",
              "13   313.730 1             \n",
              "14   632.220 1             \n",
              "15   165.020 1             \n",
              "16    63.610 1             \n",
              "17   191.720 1             \n",
              "18   444.395 1             \n",
              "19   252.449 1             \n",
              "20   588.460 1             \n",
              "21   534.224 1             \n",
              "22   572.783 1             \n",
              "23   904.981 1             \n",
              "24   733.797 1             \n",
              "25  1227.910 1             \n",
              "26   586.173 1             \n",
              "27   887.160 1             \n",
              "28  1102.110 1             \n",
              "29   667.928 1             \n",
              "30   581.313 1             \n",
              "⋮   ⋮        ⋮             \n",
              "87  1698.440 2             \n",
              "88  1078.359 2             \n",
              "89  1698.440 2             \n",
              "90   923.886 2             \n",
              "91   638.261 2             \n",
              "92   994.316 2             \n",
              "93   764.667 2             \n",
              "94   656.393 2             \n",
              "95   396.021 2             \n",
              "96   602.486 2             \n",
              "97   407.206 2             \n",
              "98   293.123 2             \n",
              "99   256.001 2             \n",
              "100  353.568 2             \n",
              "101  572.401 2             \n",
              "102  269.487 2             \n",
              "103  396.648 2             \n",
              "104  232.018 2             \n",
              "105  655.834 2             \n",
              "106  788.902 2             \n",
              "107  621.273 2             \n",
              "108  209.190 2             \n",
              "109  198.400 2             \n",
              "110   99.450 2             \n",
              "111  218.280 2             \n",
              "112  268.230 2             \n",
              "113  330.160 2             \n",
              "114  314.050 2             \n",
              "115  392.460 2             \n",
              "116   90.090 2             "
            ],
            "text/latex": "A data.frame: 116 × 10\n\\begin{tabular}{llllllllll}\n Age & BMI & Glucose & Insulin & HOMA & Leptin & Adiponectin & Resistin & MCP.1 & Classification\\\\\n <int> & <dbl> & <int> & <dbl> & <dbl> & <dbl> & <dbl> & <dbl> & <dbl> & <int>\\\\\n\\hline\n\t 48 & 23.50000 &  70 &  2.707 & 0.4674087 &  8.8071 &  9.702400 &  7.99585 &  417.114 & 1\\\\\n\t 83 & 20.69049 &  92 &  3.115 & 0.7068973 &  8.8438 &  5.429285 &  4.06405 &  468.786 & 1\\\\\n\t 82 & 23.12467 &  91 &  4.498 & 1.0096511 & 17.9393 & 22.432040 &  9.27715 &  554.697 & 1\\\\\n\t 68 & 21.36752 &  77 &  3.226 & 0.6127249 &  9.8827 &  7.169560 & 12.76600 &  928.220 & 1\\\\\n\t 86 & 21.11111 &  92 &  3.549 & 0.8053864 &  6.6994 &  4.819240 & 10.57635 &  773.920 & 1\\\\\n\t 49 & 22.85446 &  92 &  3.226 & 0.7320869 &  6.8317 & 13.679750 & 10.31760 &  530.410 & 1\\\\\n\t 89 & 22.70000 &  77 &  4.690 & 0.8907873 &  6.9640 &  5.589865 & 12.93610 & 1256.083 & 1\\\\\n\t 76 & 23.80000 & 118 &  6.470 & 1.8832013 &  4.3110 & 13.251320 &  5.10420 &  280.694 & 1\\\\\n\t 73 & 22.00000 &  97 &  3.350 & 0.8015433 &  4.4700 & 10.358725 &  6.28445 &  136.855 & 1\\\\\n\t 75 & 23.00000 &  83 &  4.952 & 1.0138395 & 17.1270 & 11.578990 &  7.09130 &  318.302 & 1\\\\\n\t 34 & 21.47000 &  78 &  3.469 & 0.6674356 & 14.5700 & 13.110000 &  6.92000 &  354.600 & 1\\\\\n\t 29 & 23.01000 &  82 &  5.663 & 1.1454361 & 35.5900 & 26.720000 &  4.58000 &  174.800 & 1\\\\\n\t 25 & 22.86000 &  82 &  4.090 & 0.8272707 & 20.4500 & 23.670000 &  5.14000 &  313.730 & 1\\\\\n\t 24 & 18.67000 &  88 &  6.107 & 1.3300000 &  8.8800 & 36.060000 &  6.85000 &  632.220 & 1\\\\\n\t 38 & 23.34000 &  75 &  5.782 & 1.0696700 & 15.2600 & 17.950000 &  9.35000 &  165.020 & 1\\\\\n\t 44 & 20.76000 &  86 &  7.553 & 1.6000000 & 14.0900 & 20.320000 &  7.64000 &   63.610 & 1\\\\\n\t 47 & 22.03000 &  84 &  2.869 & 0.5900000 & 26.6500 & 38.040000 &  3.32000 &  191.720 & 1\\\\\n\t 61 & 32.03896 &  85 & 18.077 & 3.7901443 & 30.7729 &  7.780255 & 13.68392 &  444.395 & 1\\\\\n\t 64 & 34.52972 &  95 &  4.427 & 1.0373937 & 21.2117 &  5.462620 &  6.70188 &  252.449 & 1\\\\\n\t 32 & 36.51264 &  87 & 14.026 & 3.0099796 & 49.3727 &  5.100000 & 17.10223 &  588.460 & 1\\\\\n\t 36 & 28.57668 &  86 &  4.345 & 0.9217193 & 15.1248 &  8.600000 &  9.15390 &  534.224 & 1\\\\\n\t 34 & 31.97501 &  87 &  4.530 & 0.9721380 & 28.7502 &  7.642760 &  5.62592 &  572.783 & 1\\\\\n\t 29 & 32.27079 &  84 &  5.810 & 1.2038320 & 45.6196 &  6.209635 & 24.60330 &  904.981 & 1\\\\\n\t 35 & 30.27682 &  84 &  4.376 & 0.9067072 & 39.2134 &  9.048185 & 16.43706 &  733.797 & 1\\\\\n\t 54 & 30.48316 &  90 &  5.537 & 1.2292140 & 12.3310 &  9.731380 & 10.19299 & 1227.910 & 1\\\\\n\t 45 & 37.03561 &  83 &  6.760 & 1.3839973 & 39.9802 &  4.617125 &  8.70448 &  586.173 & 1\\\\\n\t 50 & 38.57876 & 106 &  6.703 & 1.7526111 & 46.6401 &  4.667645 & 11.78388 &  887.160 & 1\\\\\n\t 66 & 31.44654 &  90 &  9.245 & 2.0523900 & 45.9624 & 10.355260 & 23.38190 & 1102.110 & 1\\\\\n\t 35 & 35.25076 &  90 &  6.817 & 1.5133740 & 50.6094 &  6.966895 & 22.03703 &  667.928 & 1\\\\\n\t 36 & 34.17489 &  80 &  6.590 & 1.3004267 & 10.2809 &  5.065915 & 15.72187 &  581.313 & 1\\\\\n\t ⋮ & ⋮ & ⋮ & ⋮ & ⋮ & ⋮ & ⋮ & ⋮ & ⋮ & ⋮\\\\\n\t 48 & 28.12500 &  90 &  2.540 &  0.5638800 & 15.5325 & 10.222310 & 16.11032 & 1698.440 & 2\\\\\n\t 85 & 27.68878 & 196 & 51.814 & 25.0503419 & 70.8824 &  7.901685 & 55.21530 & 1078.359 & 2\\\\\n\t 48 & 31.25000 & 199 & 12.162 &  5.9699204 & 18.1314 &  4.104105 & 53.63080 & 1698.440 & 2\\\\\n\t 58 & 29.15452 & 139 & 16.582 &  5.6854151 & 22.8884 & 10.262660 & 13.97399 &  923.886 & 2\\\\\n\t 40 & 30.83653 & 128 & 41.894 & 13.2273323 & 31.0385 &  6.160995 & 17.55503 &  638.261 & 2\\\\\n\t 82 & 31.21748 & 100 & 18.077 &  4.4589933 & 31.6453 &  9.923650 & 19.94687 &  994.316 & 2\\\\\n\t 52 & 30.80125 &  87 & 30.212 &  6.4834952 & 29.2739 &  6.268540 & 24.24591 &  764.667 & 2\\\\\n\t 49 & 32.46191 & 134 & 24.887 &  8.2259831 & 42.3914 & 10.793940 &  5.76800 &  656.393 & 2\\\\\n\t 60 & 31.23141 & 131 & 30.130 &  9.7360073 & 37.8430 &  8.404430 & 11.50005 &  396.021 & 2\\\\\n\t 49 & 29.77778 &  70 &  8.396 &  1.4497093 & 51.3387 & 10.731740 & 20.76801 &  602.486 & 2\\\\\n\t 44 & 27.88762 &  99 &  9.208 &  2.2485936 & 12.6757 &  5.478170 & 23.03306 &  407.206 & 2\\\\\n\t 40 & 27.63605 & 103 &  2.432 &  0.6178901 & 14.3224 &  6.783870 & 26.01360 &  293.123 & 2\\\\\n\t 71 & 27.91552 & 104 & 18.200 &  4.6689067 & 53.4997 &  1.656020 & 49.24184 &  256.001 & 2\\\\\n\t 69 & 28.44444 & 108 &  8.808 &  2.3464512 & 14.7485 &  5.288025 & 16.48508 &  353.568 & 2\\\\\n\t 74 & 28.65014 &  88 &  3.012 &  0.6538048 & 31.1233 &  7.652220 & 18.35574 &  572.401 & 2\\\\\n\t 66 & 26.56250 &  89 &  6.524 &  1.4322355 & 14.9084 &  8.429960 & 14.91922 &  269.487 & 2\\\\\n\t 65 & 30.91558 &  97 & 10.491 &  2.5101466 & 44.0217 &  3.710090 & 20.46850 &  396.648 & 2\\\\\n\t 72 & 29.13632 &  83 & 10.949 &  2.2416253 & 26.8081 &  2.784910 & 14.76966 &  232.018 & 2\\\\\n\t 57 & 34.83815 &  95 & 12.548 &  2.9404147 & 33.1612 &  2.364950 &  9.95420 &  655.834 & 2\\\\\n\t 73 & 37.10938 & 134 &  5.636 &  1.8628859 & 41.4064 &  3.335665 &  6.89235 &  788.902 & 2\\\\\n\t 45 & 29.38476 &  90 &  4.713 &  1.0462860 & 23.8479 &  6.644245 & 15.55625 &  621.273 & 2\\\\\n\t 46 & 33.18000 &  92 &  5.750 &  1.3048667 & 18.6900 &  9.160000 &  8.89000 &  209.190 & 2\\\\\n\t 68 & 35.56000 & 131 &  8.150 &  2.6335367 & 17.8700 & 11.900000 &  4.19000 &  198.400 & 2\\\\\n\t 75 & 30.48000 & 152 &  7.010 &  2.6282827 & 50.5300 & 10.060000 & 11.73000 &   99.450 & 2\\\\\n\t 54 & 36.05000 & 119 & 11.910 &  3.4959820 & 89.2700 &  8.010000 &  5.06000 &  218.280 & 2\\\\\n\t 45 & 26.85000 &  92 &  3.330 &  0.7556880 & 54.6800 & 12.100000 & 10.96000 &  268.230 & 2\\\\\n\t 62 & 26.84000 & 100 &  4.530 &  1.1174000 & 12.4500 & 21.420000 &  7.32000 &  330.160 & 2\\\\\n\t 65 & 32.05000 &  97 &  5.730 &  1.3709980 & 61.4800 & 22.540000 & 10.33000 &  314.050 & 2\\\\\n\t 72 & 25.59000 &  82 &  2.820 &  0.5703920 & 24.9600 & 33.750000 &  3.27000 &  392.460 & 2\\\\\n\t 86 & 27.18000 & 138 & 19.910 &  6.7773640 & 90.2800 & 14.110000 &  4.35000 &   90.090 & 2\\\\\n\\end{tabular}\n",
            "text/markdown": "\nA data.frame: 116 × 10\n\n| Age &lt;int&gt; | BMI &lt;dbl&gt; | Glucose &lt;int&gt; | Insulin &lt;dbl&gt; | HOMA &lt;dbl&gt; | Leptin &lt;dbl&gt; | Adiponectin &lt;dbl&gt; | Resistin &lt;dbl&gt; | MCP.1 &lt;dbl&gt; | Classification &lt;int&gt; |\n|---|---|---|---|---|---|---|---|---|---|\n| 48 | 23.50000 |  70 |  2.707 | 0.4674087 |  8.8071 |  9.702400 |  7.99585 |  417.114 | 1 |\n| 83 | 20.69049 |  92 |  3.115 | 0.7068973 |  8.8438 |  5.429285 |  4.06405 |  468.786 | 1 |\n| 82 | 23.12467 |  91 |  4.498 | 1.0096511 | 17.9393 | 22.432040 |  9.27715 |  554.697 | 1 |\n| 68 | 21.36752 |  77 |  3.226 | 0.6127249 |  9.8827 |  7.169560 | 12.76600 |  928.220 | 1 |\n| 86 | 21.11111 |  92 |  3.549 | 0.8053864 |  6.6994 |  4.819240 | 10.57635 |  773.920 | 1 |\n| 49 | 22.85446 |  92 |  3.226 | 0.7320869 |  6.8317 | 13.679750 | 10.31760 |  530.410 | 1 |\n| 89 | 22.70000 |  77 |  4.690 | 0.8907873 |  6.9640 |  5.589865 | 12.93610 | 1256.083 | 1 |\n| 76 | 23.80000 | 118 |  6.470 | 1.8832013 |  4.3110 | 13.251320 |  5.10420 |  280.694 | 1 |\n| 73 | 22.00000 |  97 |  3.350 | 0.8015433 |  4.4700 | 10.358725 |  6.28445 |  136.855 | 1 |\n| 75 | 23.00000 |  83 |  4.952 | 1.0138395 | 17.1270 | 11.578990 |  7.09130 |  318.302 | 1 |\n| 34 | 21.47000 |  78 |  3.469 | 0.6674356 | 14.5700 | 13.110000 |  6.92000 |  354.600 | 1 |\n| 29 | 23.01000 |  82 |  5.663 | 1.1454361 | 35.5900 | 26.720000 |  4.58000 |  174.800 | 1 |\n| 25 | 22.86000 |  82 |  4.090 | 0.8272707 | 20.4500 | 23.670000 |  5.14000 |  313.730 | 1 |\n| 24 | 18.67000 |  88 |  6.107 | 1.3300000 |  8.8800 | 36.060000 |  6.85000 |  632.220 | 1 |\n| 38 | 23.34000 |  75 |  5.782 | 1.0696700 | 15.2600 | 17.950000 |  9.35000 |  165.020 | 1 |\n| 44 | 20.76000 |  86 |  7.553 | 1.6000000 | 14.0900 | 20.320000 |  7.64000 |   63.610 | 1 |\n| 47 | 22.03000 |  84 |  2.869 | 0.5900000 | 26.6500 | 38.040000 |  3.32000 |  191.720 | 1 |\n| 61 | 32.03896 |  85 | 18.077 | 3.7901443 | 30.7729 |  7.780255 | 13.68392 |  444.395 | 1 |\n| 64 | 34.52972 |  95 |  4.427 | 1.0373937 | 21.2117 |  5.462620 |  6.70188 |  252.449 | 1 |\n| 32 | 36.51264 |  87 | 14.026 | 3.0099796 | 49.3727 |  5.100000 | 17.10223 |  588.460 | 1 |\n| 36 | 28.57668 |  86 |  4.345 | 0.9217193 | 15.1248 |  8.600000 |  9.15390 |  534.224 | 1 |\n| 34 | 31.97501 |  87 |  4.530 | 0.9721380 | 28.7502 |  7.642760 |  5.62592 |  572.783 | 1 |\n| 29 | 32.27079 |  84 |  5.810 | 1.2038320 | 45.6196 |  6.209635 | 24.60330 |  904.981 | 1 |\n| 35 | 30.27682 |  84 |  4.376 | 0.9067072 | 39.2134 |  9.048185 | 16.43706 |  733.797 | 1 |\n| 54 | 30.48316 |  90 |  5.537 | 1.2292140 | 12.3310 |  9.731380 | 10.19299 | 1227.910 | 1 |\n| 45 | 37.03561 |  83 |  6.760 | 1.3839973 | 39.9802 |  4.617125 |  8.70448 |  586.173 | 1 |\n| 50 | 38.57876 | 106 |  6.703 | 1.7526111 | 46.6401 |  4.667645 | 11.78388 |  887.160 | 1 |\n| 66 | 31.44654 |  90 |  9.245 | 2.0523900 | 45.9624 | 10.355260 | 23.38190 | 1102.110 | 1 |\n| 35 | 35.25076 |  90 |  6.817 | 1.5133740 | 50.6094 |  6.966895 | 22.03703 |  667.928 | 1 |\n| 36 | 34.17489 |  80 |  6.590 | 1.3004267 | 10.2809 |  5.065915 | 15.72187 |  581.313 | 1 |\n| ⋮ | ⋮ | ⋮ | ⋮ | ⋮ | ⋮ | ⋮ | ⋮ | ⋮ | ⋮ |\n| 48 | 28.12500 |  90 |  2.540 |  0.5638800 | 15.5325 | 10.222310 | 16.11032 | 1698.440 | 2 |\n| 85 | 27.68878 | 196 | 51.814 | 25.0503419 | 70.8824 |  7.901685 | 55.21530 | 1078.359 | 2 |\n| 48 | 31.25000 | 199 | 12.162 |  5.9699204 | 18.1314 |  4.104105 | 53.63080 | 1698.440 | 2 |\n| 58 | 29.15452 | 139 | 16.582 |  5.6854151 | 22.8884 | 10.262660 | 13.97399 |  923.886 | 2 |\n| 40 | 30.83653 | 128 | 41.894 | 13.2273323 | 31.0385 |  6.160995 | 17.55503 |  638.261 | 2 |\n| 82 | 31.21748 | 100 | 18.077 |  4.4589933 | 31.6453 |  9.923650 | 19.94687 |  994.316 | 2 |\n| 52 | 30.80125 |  87 | 30.212 |  6.4834952 | 29.2739 |  6.268540 | 24.24591 |  764.667 | 2 |\n| 49 | 32.46191 | 134 | 24.887 |  8.2259831 | 42.3914 | 10.793940 |  5.76800 |  656.393 | 2 |\n| 60 | 31.23141 | 131 | 30.130 |  9.7360073 | 37.8430 |  8.404430 | 11.50005 |  396.021 | 2 |\n| 49 | 29.77778 |  70 |  8.396 |  1.4497093 | 51.3387 | 10.731740 | 20.76801 |  602.486 | 2 |\n| 44 | 27.88762 |  99 |  9.208 |  2.2485936 | 12.6757 |  5.478170 | 23.03306 |  407.206 | 2 |\n| 40 | 27.63605 | 103 |  2.432 |  0.6178901 | 14.3224 |  6.783870 | 26.01360 |  293.123 | 2 |\n| 71 | 27.91552 | 104 | 18.200 |  4.6689067 | 53.4997 |  1.656020 | 49.24184 |  256.001 | 2 |\n| 69 | 28.44444 | 108 |  8.808 |  2.3464512 | 14.7485 |  5.288025 | 16.48508 |  353.568 | 2 |\n| 74 | 28.65014 |  88 |  3.012 |  0.6538048 | 31.1233 |  7.652220 | 18.35574 |  572.401 | 2 |\n| 66 | 26.56250 |  89 |  6.524 |  1.4322355 | 14.9084 |  8.429960 | 14.91922 |  269.487 | 2 |\n| 65 | 30.91558 |  97 | 10.491 |  2.5101466 | 44.0217 |  3.710090 | 20.46850 |  396.648 | 2 |\n| 72 | 29.13632 |  83 | 10.949 |  2.2416253 | 26.8081 |  2.784910 | 14.76966 |  232.018 | 2 |\n| 57 | 34.83815 |  95 | 12.548 |  2.9404147 | 33.1612 |  2.364950 |  9.95420 |  655.834 | 2 |\n| 73 | 37.10938 | 134 |  5.636 |  1.8628859 | 41.4064 |  3.335665 |  6.89235 |  788.902 | 2 |\n| 45 | 29.38476 |  90 |  4.713 |  1.0462860 | 23.8479 |  6.644245 | 15.55625 |  621.273 | 2 |\n| 46 | 33.18000 |  92 |  5.750 |  1.3048667 | 18.6900 |  9.160000 |  8.89000 |  209.190 | 2 |\n| 68 | 35.56000 | 131 |  8.150 |  2.6335367 | 17.8700 | 11.900000 |  4.19000 |  198.400 | 2 |\n| 75 | 30.48000 | 152 |  7.010 |  2.6282827 | 50.5300 | 10.060000 | 11.73000 |   99.450 | 2 |\n| 54 | 36.05000 | 119 | 11.910 |  3.4959820 | 89.2700 |  8.010000 |  5.06000 |  218.280 | 2 |\n| 45 | 26.85000 |  92 |  3.330 |  0.7556880 | 54.6800 | 12.100000 | 10.96000 |  268.230 | 2 |\n| 62 | 26.84000 | 100 |  4.530 |  1.1174000 | 12.4500 | 21.420000 |  7.32000 |  330.160 | 2 |\n| 65 | 32.05000 |  97 |  5.730 |  1.3709980 | 61.4800 | 22.540000 | 10.33000 |  314.050 | 2 |\n| 72 | 25.59000 |  82 |  2.820 |  0.5703920 | 24.9600 | 33.750000 |  3.27000 |  392.460 | 2 |\n| 86 | 27.18000 | 138 | 19.910 |  6.7773640 | 90.2800 | 14.110000 |  4.35000 |   90.090 | 2 |\n\n",
            "text/html": [
              "<table class=\"dataframe\">\n",
              "<caption>A data.frame: 116 × 10</caption>\n",
              "<thead>\n",
              "\t<tr><th scope=col>Age</th><th scope=col>BMI</th><th scope=col>Glucose</th><th scope=col>Insulin</th><th scope=col>HOMA</th><th scope=col>Leptin</th><th scope=col>Adiponectin</th><th scope=col>Resistin</th><th scope=col>MCP.1</th><th scope=col>Classification</th></tr>\n",
              "\t<tr><th scope=col>&lt;int&gt;</th><th scope=col>&lt;dbl&gt;</th><th scope=col>&lt;int&gt;</th><th scope=col>&lt;dbl&gt;</th><th scope=col>&lt;dbl&gt;</th><th scope=col>&lt;dbl&gt;</th><th scope=col>&lt;dbl&gt;</th><th scope=col>&lt;dbl&gt;</th><th scope=col>&lt;dbl&gt;</th><th scope=col>&lt;int&gt;</th></tr>\n",
              "</thead>\n",
              "<tbody>\n",
              "\t<tr><td>48</td><td>23.50000</td><td> 70</td><td> 2.707</td><td>0.4674087</td><td> 8.8071</td><td> 9.702400</td><td> 7.99585</td><td> 417.114</td><td>1</td></tr>\n",
              "\t<tr><td>83</td><td>20.69049</td><td> 92</td><td> 3.115</td><td>0.7068973</td><td> 8.8438</td><td> 5.429285</td><td> 4.06405</td><td> 468.786</td><td>1</td></tr>\n",
              "\t<tr><td>82</td><td>23.12467</td><td> 91</td><td> 4.498</td><td>1.0096511</td><td>17.9393</td><td>22.432040</td><td> 9.27715</td><td> 554.697</td><td>1</td></tr>\n",
              "\t<tr><td>68</td><td>21.36752</td><td> 77</td><td> 3.226</td><td>0.6127249</td><td> 9.8827</td><td> 7.169560</td><td>12.76600</td><td> 928.220</td><td>1</td></tr>\n",
              "\t<tr><td>86</td><td>21.11111</td><td> 92</td><td> 3.549</td><td>0.8053864</td><td> 6.6994</td><td> 4.819240</td><td>10.57635</td><td> 773.920</td><td>1</td></tr>\n",
              "\t<tr><td>49</td><td>22.85446</td><td> 92</td><td> 3.226</td><td>0.7320869</td><td> 6.8317</td><td>13.679750</td><td>10.31760</td><td> 530.410</td><td>1</td></tr>\n",
              "\t<tr><td>89</td><td>22.70000</td><td> 77</td><td> 4.690</td><td>0.8907873</td><td> 6.9640</td><td> 5.589865</td><td>12.93610</td><td>1256.083</td><td>1</td></tr>\n",
              "\t<tr><td>76</td><td>23.80000</td><td>118</td><td> 6.470</td><td>1.8832013</td><td> 4.3110</td><td>13.251320</td><td> 5.10420</td><td> 280.694</td><td>1</td></tr>\n",
              "\t<tr><td>73</td><td>22.00000</td><td> 97</td><td> 3.350</td><td>0.8015433</td><td> 4.4700</td><td>10.358725</td><td> 6.28445</td><td> 136.855</td><td>1</td></tr>\n",
              "\t<tr><td>75</td><td>23.00000</td><td> 83</td><td> 4.952</td><td>1.0138395</td><td>17.1270</td><td>11.578990</td><td> 7.09130</td><td> 318.302</td><td>1</td></tr>\n",
              "\t<tr><td>34</td><td>21.47000</td><td> 78</td><td> 3.469</td><td>0.6674356</td><td>14.5700</td><td>13.110000</td><td> 6.92000</td><td> 354.600</td><td>1</td></tr>\n",
              "\t<tr><td>29</td><td>23.01000</td><td> 82</td><td> 5.663</td><td>1.1454361</td><td>35.5900</td><td>26.720000</td><td> 4.58000</td><td> 174.800</td><td>1</td></tr>\n",
              "\t<tr><td>25</td><td>22.86000</td><td> 82</td><td> 4.090</td><td>0.8272707</td><td>20.4500</td><td>23.670000</td><td> 5.14000</td><td> 313.730</td><td>1</td></tr>\n",
              "\t<tr><td>24</td><td>18.67000</td><td> 88</td><td> 6.107</td><td>1.3300000</td><td> 8.8800</td><td>36.060000</td><td> 6.85000</td><td> 632.220</td><td>1</td></tr>\n",
              "\t<tr><td>38</td><td>23.34000</td><td> 75</td><td> 5.782</td><td>1.0696700</td><td>15.2600</td><td>17.950000</td><td> 9.35000</td><td> 165.020</td><td>1</td></tr>\n",
              "\t<tr><td>44</td><td>20.76000</td><td> 86</td><td> 7.553</td><td>1.6000000</td><td>14.0900</td><td>20.320000</td><td> 7.64000</td><td>  63.610</td><td>1</td></tr>\n",
              "\t<tr><td>47</td><td>22.03000</td><td> 84</td><td> 2.869</td><td>0.5900000</td><td>26.6500</td><td>38.040000</td><td> 3.32000</td><td> 191.720</td><td>1</td></tr>\n",
              "\t<tr><td>61</td><td>32.03896</td><td> 85</td><td>18.077</td><td>3.7901443</td><td>30.7729</td><td> 7.780255</td><td>13.68392</td><td> 444.395</td><td>1</td></tr>\n",
              "\t<tr><td>64</td><td>34.52972</td><td> 95</td><td> 4.427</td><td>1.0373937</td><td>21.2117</td><td> 5.462620</td><td> 6.70188</td><td> 252.449</td><td>1</td></tr>\n",
              "\t<tr><td>32</td><td>36.51264</td><td> 87</td><td>14.026</td><td>3.0099796</td><td>49.3727</td><td> 5.100000</td><td>17.10223</td><td> 588.460</td><td>1</td></tr>\n",
              "\t<tr><td>36</td><td>28.57668</td><td> 86</td><td> 4.345</td><td>0.9217193</td><td>15.1248</td><td> 8.600000</td><td> 9.15390</td><td> 534.224</td><td>1</td></tr>\n",
              "\t<tr><td>34</td><td>31.97501</td><td> 87</td><td> 4.530</td><td>0.9721380</td><td>28.7502</td><td> 7.642760</td><td> 5.62592</td><td> 572.783</td><td>1</td></tr>\n",
              "\t<tr><td>29</td><td>32.27079</td><td> 84</td><td> 5.810</td><td>1.2038320</td><td>45.6196</td><td> 6.209635</td><td>24.60330</td><td> 904.981</td><td>1</td></tr>\n",
              "\t<tr><td>35</td><td>30.27682</td><td> 84</td><td> 4.376</td><td>0.9067072</td><td>39.2134</td><td> 9.048185</td><td>16.43706</td><td> 733.797</td><td>1</td></tr>\n",
              "\t<tr><td>54</td><td>30.48316</td><td> 90</td><td> 5.537</td><td>1.2292140</td><td>12.3310</td><td> 9.731380</td><td>10.19299</td><td>1227.910</td><td>1</td></tr>\n",
              "\t<tr><td>45</td><td>37.03561</td><td> 83</td><td> 6.760</td><td>1.3839973</td><td>39.9802</td><td> 4.617125</td><td> 8.70448</td><td> 586.173</td><td>1</td></tr>\n",
              "\t<tr><td>50</td><td>38.57876</td><td>106</td><td> 6.703</td><td>1.7526111</td><td>46.6401</td><td> 4.667645</td><td>11.78388</td><td> 887.160</td><td>1</td></tr>\n",
              "\t<tr><td>66</td><td>31.44654</td><td> 90</td><td> 9.245</td><td>2.0523900</td><td>45.9624</td><td>10.355260</td><td>23.38190</td><td>1102.110</td><td>1</td></tr>\n",
              "\t<tr><td>35</td><td>35.25076</td><td> 90</td><td> 6.817</td><td>1.5133740</td><td>50.6094</td><td> 6.966895</td><td>22.03703</td><td> 667.928</td><td>1</td></tr>\n",
              "\t<tr><td>36</td><td>34.17489</td><td> 80</td><td> 6.590</td><td>1.3004267</td><td>10.2809</td><td> 5.065915</td><td>15.72187</td><td> 581.313</td><td>1</td></tr>\n",
              "\t<tr><td>⋮</td><td>⋮</td><td>⋮</td><td>⋮</td><td>⋮</td><td>⋮</td><td>⋮</td><td>⋮</td><td>⋮</td><td>⋮</td></tr>\n",
              "\t<tr><td>48</td><td>28.12500</td><td> 90</td><td> 2.540</td><td> 0.5638800</td><td>15.5325</td><td>10.222310</td><td>16.11032</td><td>1698.440</td><td>2</td></tr>\n",
              "\t<tr><td>85</td><td>27.68878</td><td>196</td><td>51.814</td><td>25.0503419</td><td>70.8824</td><td> 7.901685</td><td>55.21530</td><td>1078.359</td><td>2</td></tr>\n",
              "\t<tr><td>48</td><td>31.25000</td><td>199</td><td>12.162</td><td> 5.9699204</td><td>18.1314</td><td> 4.104105</td><td>53.63080</td><td>1698.440</td><td>2</td></tr>\n",
              "\t<tr><td>58</td><td>29.15452</td><td>139</td><td>16.582</td><td> 5.6854151</td><td>22.8884</td><td>10.262660</td><td>13.97399</td><td> 923.886</td><td>2</td></tr>\n",
              "\t<tr><td>40</td><td>30.83653</td><td>128</td><td>41.894</td><td>13.2273323</td><td>31.0385</td><td> 6.160995</td><td>17.55503</td><td> 638.261</td><td>2</td></tr>\n",
              "\t<tr><td>82</td><td>31.21748</td><td>100</td><td>18.077</td><td> 4.4589933</td><td>31.6453</td><td> 9.923650</td><td>19.94687</td><td> 994.316</td><td>2</td></tr>\n",
              "\t<tr><td>52</td><td>30.80125</td><td> 87</td><td>30.212</td><td> 6.4834952</td><td>29.2739</td><td> 6.268540</td><td>24.24591</td><td> 764.667</td><td>2</td></tr>\n",
              "\t<tr><td>49</td><td>32.46191</td><td>134</td><td>24.887</td><td> 8.2259831</td><td>42.3914</td><td>10.793940</td><td> 5.76800</td><td> 656.393</td><td>2</td></tr>\n",
              "\t<tr><td>60</td><td>31.23141</td><td>131</td><td>30.130</td><td> 9.7360073</td><td>37.8430</td><td> 8.404430</td><td>11.50005</td><td> 396.021</td><td>2</td></tr>\n",
              "\t<tr><td>49</td><td>29.77778</td><td> 70</td><td> 8.396</td><td> 1.4497093</td><td>51.3387</td><td>10.731740</td><td>20.76801</td><td> 602.486</td><td>2</td></tr>\n",
              "\t<tr><td>44</td><td>27.88762</td><td> 99</td><td> 9.208</td><td> 2.2485936</td><td>12.6757</td><td> 5.478170</td><td>23.03306</td><td> 407.206</td><td>2</td></tr>\n",
              "\t<tr><td>40</td><td>27.63605</td><td>103</td><td> 2.432</td><td> 0.6178901</td><td>14.3224</td><td> 6.783870</td><td>26.01360</td><td> 293.123</td><td>2</td></tr>\n",
              "\t<tr><td>71</td><td>27.91552</td><td>104</td><td>18.200</td><td> 4.6689067</td><td>53.4997</td><td> 1.656020</td><td>49.24184</td><td> 256.001</td><td>2</td></tr>\n",
              "\t<tr><td>69</td><td>28.44444</td><td>108</td><td> 8.808</td><td> 2.3464512</td><td>14.7485</td><td> 5.288025</td><td>16.48508</td><td> 353.568</td><td>2</td></tr>\n",
              "\t<tr><td>74</td><td>28.65014</td><td> 88</td><td> 3.012</td><td> 0.6538048</td><td>31.1233</td><td> 7.652220</td><td>18.35574</td><td> 572.401</td><td>2</td></tr>\n",
              "\t<tr><td>66</td><td>26.56250</td><td> 89</td><td> 6.524</td><td> 1.4322355</td><td>14.9084</td><td> 8.429960</td><td>14.91922</td><td> 269.487</td><td>2</td></tr>\n",
              "\t<tr><td>65</td><td>30.91558</td><td> 97</td><td>10.491</td><td> 2.5101466</td><td>44.0217</td><td> 3.710090</td><td>20.46850</td><td> 396.648</td><td>2</td></tr>\n",
              "\t<tr><td>72</td><td>29.13632</td><td> 83</td><td>10.949</td><td> 2.2416253</td><td>26.8081</td><td> 2.784910</td><td>14.76966</td><td> 232.018</td><td>2</td></tr>\n",
              "\t<tr><td>57</td><td>34.83815</td><td> 95</td><td>12.548</td><td> 2.9404147</td><td>33.1612</td><td> 2.364950</td><td> 9.95420</td><td> 655.834</td><td>2</td></tr>\n",
              "\t<tr><td>73</td><td>37.10938</td><td>134</td><td> 5.636</td><td> 1.8628859</td><td>41.4064</td><td> 3.335665</td><td> 6.89235</td><td> 788.902</td><td>2</td></tr>\n",
              "\t<tr><td>45</td><td>29.38476</td><td> 90</td><td> 4.713</td><td> 1.0462860</td><td>23.8479</td><td> 6.644245</td><td>15.55625</td><td> 621.273</td><td>2</td></tr>\n",
              "\t<tr><td>46</td><td>33.18000</td><td> 92</td><td> 5.750</td><td> 1.3048667</td><td>18.6900</td><td> 9.160000</td><td> 8.89000</td><td> 209.190</td><td>2</td></tr>\n",
              "\t<tr><td>68</td><td>35.56000</td><td>131</td><td> 8.150</td><td> 2.6335367</td><td>17.8700</td><td>11.900000</td><td> 4.19000</td><td> 198.400</td><td>2</td></tr>\n",
              "\t<tr><td>75</td><td>30.48000</td><td>152</td><td> 7.010</td><td> 2.6282827</td><td>50.5300</td><td>10.060000</td><td>11.73000</td><td>  99.450</td><td>2</td></tr>\n",
              "\t<tr><td>54</td><td>36.05000</td><td>119</td><td>11.910</td><td> 3.4959820</td><td>89.2700</td><td> 8.010000</td><td> 5.06000</td><td> 218.280</td><td>2</td></tr>\n",
              "\t<tr><td>45</td><td>26.85000</td><td> 92</td><td> 3.330</td><td> 0.7556880</td><td>54.6800</td><td>12.100000</td><td>10.96000</td><td> 268.230</td><td>2</td></tr>\n",
              "\t<tr><td>62</td><td>26.84000</td><td>100</td><td> 4.530</td><td> 1.1174000</td><td>12.4500</td><td>21.420000</td><td> 7.32000</td><td> 330.160</td><td>2</td></tr>\n",
              "\t<tr><td>65</td><td>32.05000</td><td> 97</td><td> 5.730</td><td> 1.3709980</td><td>61.4800</td><td>22.540000</td><td>10.33000</td><td> 314.050</td><td>2</td></tr>\n",
              "\t<tr><td>72</td><td>25.59000</td><td> 82</td><td> 2.820</td><td> 0.5703920</td><td>24.9600</td><td>33.750000</td><td> 3.27000</td><td> 392.460</td><td>2</td></tr>\n",
              "\t<tr><td>86</td><td>27.18000</td><td>138</td><td>19.910</td><td> 6.7773640</td><td>90.2800</td><td>14.110000</td><td> 4.35000</td><td>  90.090</td><td>2</td></tr>\n",
              "</tbody>\n",
              "</table>\n"
            ]
          },
          "metadata": {
            "tags": []
          }
        }
      ]
    },
    {
      "cell_type": "code",
      "metadata": {
        "id": "1PuI_DG1HRkB"
      },
      "source": [
        "# Use the data under 'https://archive.ics.uci.edu/ml/machine-learning-databases/00451/dataR2.csv', consisting data of people with breast cancer. If the patient has breast cancer variable Classification is 2, otherwise value 1 is used."
      ],
      "execution_count": null,
      "outputs": []
    },
    {
      "cell_type": "code",
      "metadata": {
        "colab": {
          "base_uri": "https://localhost:8080/"
        },
        "id": "egvoioLjHFG8",
        "outputId": "52d94b2a-7b6d-4b79-c18d-79cf23d04490"
      },
      "source": [
        "print(sum(is.na(dt)))"
      ],
      "execution_count": null,
      "outputs": [
        {
          "output_type": "stream",
          "text": [
            "[1] 0\n"
          ],
          "name": "stdout"
        }
      ]
    },
    {
      "cell_type": "code",
      "metadata": {
        "id": "c8kms0UwHWnX"
      },
      "source": [
        "\n",
        "# (1p) Recode the variable Classification - ill patients should be denoted as 1 and healthy as 0 - do not create a new variable, but overwrite it"
      ],
      "execution_count": null,
      "outputs": []
    },
    {
      "cell_type": "code",
      "metadata": {
        "colab": {
          "base_uri": "https://localhost:8080/",
          "height": 159
        },
        "id": "cTBUUzcwpBbT",
        "outputId": "dba11340-561f-49f0-ab07-ae9af309a78d"
      },
      "source": [
        "unique(dt['Classification'])"
      ],
      "execution_count": null,
      "outputs": [
        {
          "output_type": "display_data",
          "data": {
            "text/plain": [
              "   Classification\n",
              "1  1             \n",
              "53 2             "
            ],
            "text/latex": "A data.frame: 2 × 1\n\\begin{tabular}{r|l}\n  & Classification\\\\\n  & <int>\\\\\n\\hline\n\t1 & 1\\\\\n\t53 & 2\\\\\n\\end{tabular}\n",
            "text/markdown": "\nA data.frame: 2 × 1\n\n| <!--/--> | Classification &lt;int&gt; |\n|---|---|\n| 1 | 1 |\n| 53 | 2 |\n\n",
            "text/html": [
              "<table class=\"dataframe\">\n",
              "<caption>A data.frame: 2 × 1</caption>\n",
              "<thead>\n",
              "\t<tr><th></th><th scope=col>Classification</th></tr>\n",
              "\t<tr><th></th><th scope=col>&lt;int&gt;</th></tr>\n",
              "</thead>\n",
              "<tbody>\n",
              "\t<tr><th scope=row>1</th><td>1</td></tr>\n",
              "\t<tr><th scope=row>53</th><td>2</td></tr>\n",
              "</tbody>\n",
              "</table>\n"
            ]
          },
          "metadata": {
            "tags": []
          }
        }
      ]
    },
    {
      "cell_type": "code",
      "metadata": {
        "id": "smxAs4bPuBIk"
      },
      "source": [
        "dt['Classification'] <- ifelse(dt['Classification']==\"1\", 0, 1)"
      ],
      "execution_count": null,
      "outputs": []
    },
    {
      "cell_type": "code",
      "metadata": {
        "colab": {
          "base_uri": "https://localhost:8080/",
          "height": 159
        },
        "id": "Wq7D8ch2ujTx",
        "outputId": "4b1881a4-a73e-417c-823a-b2f9244b66bb"
      },
      "source": [
        "unique(dt['Classification'])"
      ],
      "execution_count": null,
      "outputs": [
        {
          "output_type": "display_data",
          "data": {
            "text/plain": [
              "   Classification\n",
              "1  0             \n",
              "53 1             "
            ],
            "text/latex": "A data.frame: 2 × 1\n\\begin{tabular}{r|l}\n  & Classification\\\\\n  & <dbl{[},1{]}>\\\\\n\\hline\n\t1 & 0\\\\\n\t53 & 1\\\\\n\\end{tabular}\n",
            "text/markdown": "\nA data.frame: 2 × 1\n\n| <!--/--> | Classification &lt;dbl[,1]&gt; |\n|---|---|\n| 1 | 0 |\n| 53 | 1 |\n\n",
            "text/html": [
              "<table class=\"dataframe\">\n",
              "<caption>A data.frame: 2 × 1</caption>\n",
              "<thead>\n",
              "\t<tr><th></th><th scope=col>Classification</th></tr>\n",
              "\t<tr><th></th><th scope=col>&lt;dbl[,1]&gt;</th></tr>\n",
              "</thead>\n",
              "<tbody>\n",
              "\t<tr><th scope=row>1</th><td>0</td></tr>\n",
              "\t<tr><th scope=row>53</th><td>1</td></tr>\n",
              "</tbody>\n",
              "</table>\n"
            ]
          },
          "metadata": {
            "tags": []
          }
        }
      ]
    },
    {
      "cell_type": "code",
      "metadata": {
        "id": "XIudlWQzHah9"
      },
      "source": [
        "# (2p) By how many years on average (variable Age) people with breast cancer are older/younger than the others?"
      ],
      "execution_count": null,
      "outputs": []
    },
    {
      "cell_type": "code",
      "metadata": {
        "id": "VPvikgyqpFlC"
      },
      "source": [
        "ill <- dt[dt[\"Classification\"] == \"1\",]"
      ],
      "execution_count": null,
      "outputs": []
    },
    {
      "cell_type": "code",
      "metadata": {
        "colab": {
          "base_uri": "https://localhost:8080/",
          "height": 34
        },
        "id": "bfNfmZgYwhn4",
        "outputId": "ea55b9c9-c6d8-4f8d-dba6-e2bedff98336"
      },
      "source": [
        "ill_age_mean <- colMeans(ill[\"Age\"])\n",
        "ill_age_mean"
      ],
      "execution_count": null,
      "outputs": [
        {
          "output_type": "display_data",
          "data": {
            "text/plain": [
              "     Age \n",
              "56.67188 "
            ],
            "text/latex": "\\textbf{Age:} 56.671875",
            "text/markdown": "**Age:** 56.671875",
            "text/html": [
              "<strong>Age:</strong> 56.671875"
            ]
          },
          "metadata": {
            "tags": []
          }
        }
      ]
    },
    {
      "cell_type": "code",
      "metadata": {
        "colab": {
          "base_uri": "https://localhost:8080/",
          "height": 34
        },
        "id": "Yy1hcC_zvsBq",
        "outputId": "cf3296e1-d7a5-40a5-f691-d0b4446ceddf"
      },
      "source": [
        "healthy <- dt[dt[\"Classification\"] == \"0\",]\n",
        "healthy_age_mean <- colMeans(healthy[\"Age\"])\n",
        "healthy_age_mean"
      ],
      "execution_count": null,
      "outputs": [
        {
          "output_type": "display_data",
          "data": {
            "text/plain": [
              "     Age \n",
              "58.07692 "
            ],
            "text/latex": "\\textbf{Age:} 58.0769230769231",
            "text/markdown": "**Age:** 58.0769230769231",
            "text/html": [
              "<strong>Age:</strong> 58.0769230769231"
            ]
          },
          "metadata": {
            "tags": []
          }
        }
      ]
    },
    {
      "cell_type": "code",
      "metadata": {
        "colab": {
          "base_uri": "https://localhost:8080/",
          "height": 34
        },
        "id": "yc_mspL-vzlK",
        "outputId": "1161726d-5ab5-41ea-d61c-e527341f33eb"
      },
      "source": [
        "healthy_age_mean - ill_age_mean"
      ],
      "execution_count": null,
      "outputs": [
        {
          "output_type": "display_data",
          "data": {
            "text/plain": [
              "     Age \n",
              "1.405048 "
            ],
            "text/latex": "\\textbf{Age:} 1.40504807692308",
            "text/markdown": "**Age:** 1.40504807692308",
            "text/html": [
              "<strong>Age:</strong> 1.40504807692308"
            ]
          },
          "metadata": {
            "tags": []
          }
        }
      ]
    },
    {
      "cell_type": "markdown",
      "metadata": {
        "id": "Gbc_gn8Ixffa"
      },
      "source": [
        "People with breast cancer are by avarage 1.40504807692308 younger"
      ]
    },
    {
      "cell_type": "code",
      "metadata": {
        "id": "8-1cIwifHeLd"
      },
      "source": [
        "# (1p) What is the average Insulin level (Insulin variable) for users with a BMI over 21?"
      ],
      "execution_count": null,
      "outputs": []
    },
    {
      "cell_type": "code",
      "metadata": {
        "id": "3wFQchS1pZpE"
      },
      "source": [
        "bmi_over_21 <- dt[dt[\"BMI\"] > \"21\",]"
      ],
      "execution_count": null,
      "outputs": []
    },
    {
      "cell_type": "code",
      "metadata": {
        "id": "wYL6s6Rqx25V"
      },
      "source": [
        "mean_insulin <- colMeans(dt[\"Insulin\"])"
      ],
      "execution_count": null,
      "outputs": []
    },
    {
      "cell_type": "code",
      "metadata": {
        "colab": {
          "base_uri": "https://localhost:8080/",
          "height": 34
        },
        "id": "YBkgyhECyI-q",
        "outputId": "da4f8c95-5d56-408a-df45-232a675dfc15"
      },
      "source": [
        "mean_insulin"
      ],
      "execution_count": null,
      "outputs": [
        {
          "output_type": "display_data",
          "data": {
            "text/plain": [
              " Insulin \n",
              "10.01209 "
            ],
            "text/latex": "\\textbf{Insulin:} 10.0120862068966",
            "text/markdown": "**Insulin:** 10.0120862068966",
            "text/html": [
              "<strong>Insulin:</strong> 10.0120862068966"
            ]
          },
          "metadata": {
            "tags": []
          }
        }
      ]
    },
    {
      "cell_type": "code",
      "metadata": {
        "id": "IFDWVKChHhsw"
      },
      "source": [
        "# (1p) Randomly divide observations into a training (90% share) and test (10%) set with a seed of 32."
      ],
      "execution_count": null,
      "outputs": []
    },
    {
      "cell_type": "code",
      "metadata": {
        "id": "giHlEEMapbq3"
      },
      "source": [
        "set.seed(32)"
      ],
      "execution_count": null,
      "outputs": []
    },
    {
      "cell_type": "code",
      "metadata": {
        "id": "7fI_tfzfyVQC"
      },
      "source": [
        "indices = sample(1:nrow(dt),0.9*nrow(dt)) \n",
        "training = dt[indices,]\n",
        "testing = dt[-indices,]\n"
      ],
      "execution_count": null,
      "outputs": []
    },
    {
      "cell_type": "code",
      "metadata": {
        "id": "PFKJ6hliHkqC"
      },
      "source": [
        "# (2p) Prepare the decision tree from the 'rpart' package based on the data from the training set. The target variable is Classification, use all others to explain it. Set the parameter CP to 0. Remember that rpart infers a task by the type of target variable and we are interested in classification"
      ],
      "execution_count": null,
      "outputs": []
    },
    {
      "cell_type": "code",
      "metadata": {
        "id": "YPAWoOurpdk5"
      },
      "source": [
        "library(rpart)\n",
        "\n",
        "rpart_tree <- rpart(training$Classification ~., data=training,cp=0)\n"
      ],
      "execution_count": null,
      "outputs": []
    },
    {
      "cell_type": "code",
      "metadata": {
        "id": "lhcT8SiKHo4O"
      },
      "source": [
        "# (3p) Choose the optimal level of tree complexity, based on CP parameter table produced by rpart. Cut the tree to the optimal size. Explain how to pick the optimal CP level."
      ],
      "execution_count": null,
      "outputs": []
    },
    {
      "cell_type": "code",
      "metadata": {
        "colab": {
          "base_uri": "https://localhost:8080/",
          "height": 283
        },
        "id": "5msiSfTuzgB-",
        "outputId": "77da0253-f55c-4714-d5b7-2ba8f9fa09ed"
      },
      "source": [
        "#cp parameter table\n",
        "rpart_tree$cptable"
      ],
      "execution_count": null,
      "outputs": [
        {
          "output_type": "display_data",
          "data": {
            "text/plain": [
              "  CP          nsplit rel error xerror    xstd      \n",
              "1 0.228843537 0      1.0000000 1.0156989 0.01266624\n",
              "2 0.093089868 1      0.7711565 0.9359558 0.08969440\n",
              "3 0.073469388 3      0.5849767 1.0004580 0.10746218\n",
              "4 0.029206897 4      0.5115073 0.9171811 0.10916764\n",
              "5 0.016114498 5      0.4823004 0.9469041 0.11169573\n",
              "6 0.006894488 6      0.4661859 0.9380483 0.10871305\n",
              "7 0.000000000 7      0.4592915 0.9238225 0.10467782"
            ],
            "text/latex": "A matrix: 7 × 5 of type dbl\n\\begin{tabular}{r|lllll}\n  & CP & nsplit & rel error & xerror & xstd\\\\\n\\hline\n\t1 & 0.228843537 & 0 & 1.0000000 & 1.0156989 & 0.01266624\\\\\n\t2 & 0.093089868 & 1 & 0.7711565 & 0.9359558 & 0.08969440\\\\\n\t3 & 0.073469388 & 3 & 0.5849767 & 1.0004580 & 0.10746218\\\\\n\t4 & 0.029206897 & 4 & 0.5115073 & 0.9171811 & 0.10916764\\\\\n\t5 & 0.016114498 & 5 & 0.4823004 & 0.9469041 & 0.11169573\\\\\n\t6 & 0.006894488 & 6 & 0.4661859 & 0.9380483 & 0.10871305\\\\\n\t7 & 0.000000000 & 7 & 0.4592915 & 0.9238225 & 0.10467782\\\\\n\\end{tabular}\n",
            "text/markdown": "\nA matrix: 7 × 5 of type dbl\n\n| <!--/--> | CP | nsplit | rel error | xerror | xstd |\n|---|---|---|---|---|---|\n| 1 | 0.228843537 | 0 | 1.0000000 | 1.0156989 | 0.01266624 |\n| 2 | 0.093089868 | 1 | 0.7711565 | 0.9359558 | 0.08969440 |\n| 3 | 0.073469388 | 3 | 0.5849767 | 1.0004580 | 0.10746218 |\n| 4 | 0.029206897 | 4 | 0.5115073 | 0.9171811 | 0.10916764 |\n| 5 | 0.016114498 | 5 | 0.4823004 | 0.9469041 | 0.11169573 |\n| 6 | 0.006894488 | 6 | 0.4661859 | 0.9380483 | 0.10871305 |\n| 7 | 0.000000000 | 7 | 0.4592915 | 0.9238225 | 0.10467782 |\n\n",
            "text/html": [
              "<table class=\"dataframe\">\n",
              "<caption>A matrix: 7 × 5 of type dbl</caption>\n",
              "<thead>\n",
              "\t<tr><th></th><th scope=col>CP</th><th scope=col>nsplit</th><th scope=col>rel error</th><th scope=col>xerror</th><th scope=col>xstd</th></tr>\n",
              "</thead>\n",
              "<tbody>\n",
              "\t<tr><th scope=row>1</th><td>0.228843537</td><td>0</td><td>1.0000000</td><td>1.0156989</td><td>0.01266624</td></tr>\n",
              "\t<tr><th scope=row>2</th><td>0.093089868</td><td>1</td><td>0.7711565</td><td>0.9359558</td><td>0.08969440</td></tr>\n",
              "\t<tr><th scope=row>3</th><td>0.073469388</td><td>3</td><td>0.5849767</td><td>1.0004580</td><td>0.10746218</td></tr>\n",
              "\t<tr><th scope=row>4</th><td>0.029206897</td><td>4</td><td>0.5115073</td><td>0.9171811</td><td>0.10916764</td></tr>\n",
              "\t<tr><th scope=row>5</th><td>0.016114498</td><td>5</td><td>0.4823004</td><td>0.9469041</td><td>0.11169573</td></tr>\n",
              "\t<tr><th scope=row>6</th><td>0.006894488</td><td>6</td><td>0.4661859</td><td>0.9380483</td><td>0.10871305</td></tr>\n",
              "\t<tr><th scope=row>7</th><td>0.000000000</td><td>7</td><td>0.4592915</td><td>0.9238225</td><td>0.10467782</td></tr>\n",
              "</tbody>\n",
              "</table>\n"
            ]
          },
          "metadata": {
            "tags": []
          }
        }
      ]
    },
    {
      "cell_type": "markdown",
      "metadata": {
        "id": "8ygnpGCI0uVW"
      },
      "source": [
        "Optimal CP level is the one for which xerror (cross validation error) value is the lowest - based on the above table the optimal cp value is 0.01929281. "
      ]
    },
    {
      "cell_type": "code",
      "metadata": {
        "id": "u7HU83Xj4K3F"
      },
      "source": [
        "pruned_tree <- prune(rpart_tree, 0.01929281\t)"
      ],
      "execution_count": null,
      "outputs": []
    },
    {
      "cell_type": "code",
      "metadata": {
        "id": "0s3J9KqzHsMe"
      },
      "source": [
        "# (2p) Draw a pruned decision tree from previous point (with rules)."
      ],
      "execution_count": null,
      "outputs": []
    },
    {
      "cell_type": "code",
      "metadata": {
        "id": "0docE_Lq5hsP"
      },
      "source": [
        "library(\"rpart.plot\")"
      ],
      "execution_count": null,
      "outputs": []
    },
    {
      "cell_type": "code",
      "metadata": {
        "colab": {
          "base_uri": "https://localhost:8080/",
          "height": 437
        },
        "id": "elzL9lYbpiZY",
        "outputId": "0be91b50-a7ea-4775-8982-15afeb94c914"
      },
      "source": [
        "rpart.plot(pruned_tree)"
      ],
      "execution_count": null,
      "outputs": [
        {
          "output_type": "display_data",
          "data": {
            "image/png": "[encoded data removed]",
            "text/plain": [
              "plot without title"
            ]
          },
          "metadata": {
            "tags": [],
            "image/png": {
              "width": 420,
              "height": 420
            }
          }
        }
      ]
    },
    {
      "cell_type": "code",
      "metadata": {
        "id": "DGhlHwnmHvic"
      },
      "source": [
        "# (2p) Write one example of decision rule generated by a tree (if ... and ... then we predict than patient is ...)"
      ],
      "execution_count": null,
      "outputs": []
    },
    {
      "cell_type": "markdown",
      "metadata": {
        "id": "qIuHuV4T6Mbb"
      },
      "source": [
        "If Glucose < 92 and Resistin is < 13 then we predict than patient is healthy."
      ]
    },
    {
      "cell_type": "code",
      "metadata": {
        "id": "iBoUOFlhHzUy"
      },
      "source": [
        "# (2p) Prepare the confusion matrix for the test set, assuming a cutoff threshold of 0.60"
      ],
      "execution_count": null,
      "outputs": []
    },
    {
      "cell_type": "code",
      "metadata": {
        "id": "kW_QRimE9bhv"
      },
      "source": [
        "prediction = predict(pruned_tree, testing)"
      ],
      "execution_count": null,
      "outputs": []
    },
    {
      "cell_type": "code",
      "metadata": {
        "colab": {
          "base_uri": "https://localhost:8080/",
          "height": 34
        },
        "id": "l3BzBla59lfM",
        "outputId": "6c1a83aa-a77e-418b-ca3e-1357c936e680"
      },
      "source": [
        "prediction"
      ],
      "execution_count": null,
      "outputs": [
        {
          "output_type": "display_data",
          "data": {
            "text/plain": [
              "        12         35         51         58         62         81         83 \n",
              "0.07692308 0.07692308 0.90000000 0.16666667 0.90000000 0.50000000 0.57142857 \n",
              "        93         94         96        109        115 \n",
              "0.50000000 0.57142857 0.50000000 0.90000000 0.07692308 "
            ],
            "text/latex": "\\begin{description*}\n\\item[12] 0.0769230769230769\n\\item[35] 0.0769230769230769\n\\item[51] 0.9\n\\item[58] 0.166666666666667\n\\item[62] 0.9\n\\item[81] 0.5\n\\item[83] 0.571428571428571\n\\item[93] 0.5\n\\item[94] 0.571428571428571\n\\item[96] 0.5\n\\item[109] 0.9\n\\item[115] 0.0769230769230769\n\\end{description*}\n",
            "text/markdown": "12\n:   0.076923076923076935\n:   0.076923076923076951\n:   0.958\n:   0.16666666666666762\n:   0.981\n:   0.583\n:   0.57142857142857193\n:   0.594\n:   0.57142857142857196\n:   0.5109\n:   0.9115\n:   0.0769230769230769\n\n",
            "text/html": [
              "<style>\n",
              ".dl-inline {width: auto; margin:0; padding: 0}\n",
              ".dl-inline>dt, .dl-inline>dd {float: none; width: auto; display: inline-block}\n",
              ".dl-inline>dt::after {content: \":\\0020\"; padding-right: .5ex}\n",
              ".dl-inline>dt:not(:first-of-type) {padding-left: .5ex}\n",
              "</style><dl class=dl-inline><dt>12</dt><dd>0.0769230769230769</dd><dt>35</dt><dd>0.0769230769230769</dd><dt>51</dt><dd>0.9</dd><dt>58</dt><dd>0.166666666666667</dd><dt>62</dt><dd>0.9</dd><dt>81</dt><dd>0.5</dd><dt>83</dt><dd>0.571428571428571</dd><dt>93</dt><dd>0.5</dd><dt>94</dt><dd>0.571428571428571</dd><dt>96</dt><dd>0.5</dd><dt>109</dt><dd>0.9</dd><dt>115</dt><dd>0.0769230769230769</dd></dl>\n"
            ]
          },
          "metadata": {
            "tags": []
          }
        }
      ]
    },
    {
      "cell_type": "code",
      "metadata": {
        "id": "F7abeZEyFzjp"
      },
      "source": [
        "#confusionMatrix(table(prediction, testing$Classification), cutoff = 0.6)"
      ],
      "execution_count": null,
      "outputs": []
    },
    {
      "cell_type": "code",
      "metadata": {
        "id": "iVul9S4tH47U"
      },
      "source": [
        "# (3p) Based on the confusion matrix created calculate accuracy, recall and precision. Verify the quality of the tree (subjectively)."
      ],
      "execution_count": null,
      "outputs": []
    },
    {
      "cell_type": "code",
      "metadata": {
        "id": "E-edMwRQpnKO"
      },
      "source": [
        "#Precision = TruePositives / (TruePositives + FalsePositives)\n",
        "#Recall = TruePositives / (TruePositives + FalseNegatives)\n",
        "#Accuracy = (TP + TN)/ Total"
      ],
      "execution_count": null,
      "outputs": []
    },
    {
      "cell_type": "markdown",
      "metadata": {
        "id": "Q4AXTGU1pnnJ"
      },
      "source": [
        "# (2p) Draw a Lift curve for the prediction on the test set\n"
      ]
    },
    {
      "cell_type": "code",
      "metadata": {
        "id": "tc3YahBApofb"
      },
      "source": [
        ""
      ],
      "execution_count": null,
      "outputs": []
    },
    {
      "cell_type": "code",
      "metadata": {
        "id": "chbreA_QIAKu"
      },
      "source": [
        "# (2p) Calculate AUC for training and test set. Is the model overfitted? Why/Why not? (comment)"
      ],
      "execution_count": null,
      "outputs": []
    },
    {
      "cell_type": "code",
      "metadata": {
        "colab": {
          "base_uri": "https://localhost:8080/",
          "height": 437
        },
        "id": "0GTRPuS3GBa2",
        "outputId": "f049cbb9-bdc5-4c11-8e5f-d2834cd68a1d"
      },
      "source": [
        "library(PRROC)\n",
        "\n",
        "pred = predict(pruned_tree, newdata=training)\n",
        "PRROC_obj <- roc.curve(scores.class0 = pred, weights.class0=training$Classification,\n",
        "                       curve=TRUE)\n",
        "plot(PRROC_obj)"
      ],
      "execution_count": null,
      "outputs": [
        {
          "output_type": "display_data",
          "data": {
            "image/png": "[encoded data removed]",
            "text/plain": [
              "Plot with title “ROC curve\n",
              "AUC = 0.896846”"
            ]
          },
          "metadata": {
            "tags": [],
            "image/png": {
              "width": 420,
              "height": 420
            }
          }
        }
      ]
    },
    {
      "cell_type": "code",
      "metadata": {
        "colab": {
          "base_uri": "https://localhost:8080/",
          "height": 437
        },
        "id": "M4R4g4htppSr",
        "outputId": "d0193799-dc5d-4c25-cbe6-e86355b30da4"
      },
      "source": [
        "library(PRROC)\n",
        "\n",
        "pred = predict(pruned_tree, newdata=testing)\n",
        "PRROC_obj <- roc.curve(scores.class0 = pred, weights.class0=testing$Classification,\n",
        "                       curve=TRUE)\n",
        "plot(PRROC_obj)"
      ],
      "execution_count": null,
      "outputs": [
        {
          "output_type": "display_data",
          "data": {
            "image/png": "[encoded data removed]",
            "text/plain": [
              "Plot with title “ROC curve\n",
              "AUC = 0.6666667”"
            ]
          },
          "metadata": {
            "tags": [],
            "image/png": {
              "width": 420,
              "height": 420
            }
          }
        }
      ]
    },
    {
      "cell_type": "markdown",
      "metadata": {
        "id": "kQOTu38DGS69"
      },
      "source": [
        "Yes, there is overfitting - auc for training set is over 90% and for testing is 67 (much lower)."
      ]
    },
    {
      "cell_type": "code",
      "metadata": {
        "id": "SKNT9wvZFHFn"
      },
      "source": [
        ""
      ],
      "execution_count": null,
      "outputs": []
    }
  ]
}